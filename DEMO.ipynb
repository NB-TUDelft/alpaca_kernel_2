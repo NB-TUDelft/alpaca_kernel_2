{
 "cells": [
  {
   "cell_type": "markdown",
   "id": "584d6710",
   "metadata": {
    "kernel": "SoS",
    "nbgrader": {
     "grade": false,
     "grade_id": "cell-c562f6cc6e2ccb9e",
     "locked": true,
     "schema_version": 3,
     "solution": false,
     "task": false
    }
   },
   "source": [
    "# ALPACA Kernel & Updated ALPACA Firmware\n",
    "#### `matplotlib`, `numpy`, and live plotting\n",
    "\n",
    "This notebook outlines two new tools at your disposal for doing the final assignment:\n",
    "- New Jupyter Notebook Kernel: *The Alpaca Kernel*\n",
    "- Updated *Alpaca Firmware*\n",
    "\n",
    "After installing both tools, you'll be able to do the following things:\n",
    "\n",
    "## Features:\n",
    "\n",
    "### 1. Plotting data directly from the Alpaca\n",
    "**Before**, plotting data was done like so:\n",
    "```python\n",
    "%use micropython\n",
    "pico.store_data(\"general_data.txt\", samples=[xx, yy])\n",
    "\n",
    "%use micropython\n",
    "%fetchfile --binary \"general_data.txt\" \"data_picopiX.txt\"\n",
    "\n",
    "%use python3\n",
    "samples=np.loadtxt(\"data_picopiX.txt\")\n",
    "xx, yy = (samples[0,:], samples[1,:])\n",
    "plt.plot(xx, yy)\n",
    "```\n",
    "\n",
    "**Now**, plotting can be done *directly* from MicroPython **(NEW!)**:\n",
    "```python\n",
    "%use micropython\n",
    "plt.plot(xx,yy)\n",
    "```\n",
    "------------------\n",
    "\n",
    "### 2. Using `numpy` directly from the Alpaca\n",
    "**Before**, numpy wasn't available for MicroPython. This meant that lists had to be modified using `for` loops (slow and ugly):\n",
    "```python\n",
    "%use micropython\n",
    "my_list = [1, 2, 3]\n",
    "\n",
    "for ii in range(len(my_list)):\n",
    "    my_list[ii] = my_list[ii] * 3\n",
    "\n",
    "print(my_list)\n",
    "[3, 6, 9]\n",
    "```\n",
    "\n",
    "**Now**, `numpy` can be used *directly* from MicroPython **(NEW!)**:\n",
    "```python\n",
    "%use micropython\n",
    "import numpy as np\n",
    "my_array = np.array(my_list)\n",
    "my_array * 3\n",
    "\n",
    "print(my_array)\n",
    "array([3.0, 6.0, 9.0], dtype=float32)\n",
    "```\n",
    "------------------\n",
    "\n",
    "### 3. Live plotting\n",
    " **(NEW!)** Plot data as it comes in rather than after your measurement. This might be useful if you are performing a very long measurement and want to check if everthing is going alright.\n",
    "\n",
    "\n",
    "<div>\n",
    "<img src=\"resource\\asnlib\\public\\msedge_oRfTDroDwi.gif\" width=\"500\"/>\n",
    "</div>\n",
    "\n",
    "___________\n",
    "\n",
    "### Installing the kernel\n",
    "For now, the best way to install the ALPACA kernel is via the Anaconda Prompt:\n",
    "- Shut down Jupyter Notebook\n",
    "- `activate nb2211-2021`\n",
    "- `conda install -c twh alpaca_kernel`\n",
    "- `python -m alpaca_kernel.install`\n",
    "\n",
    "> <font size=6>ℹ️</font>\n",
    ">\n",
    "> During the installation, the command line will give the following\n",
    "prompt:\n",
    ">\n",
    "> `Proceed ([y]/n)?`\n",
    ">\n",
    "> Press `Y` , then press `Enter`.\n",
    "\n",
    "---------------\n",
    "### Installing the firmware\n",
    "The newest version of the ALPACA Firmware can be downloaded from [Brightspace](https://brightspace.tudelft.nl/d2l/le/content/401270/viewContent/2486660/View). The installation instructions are also available [here](https://brightspace.tudelft.nl/d2l/le/content/401270/viewContent/2486663/View).\n",
    "\n",
    "- Unplug all the cables going to the ALPACA\n",
    "- Download `Alpaca_firmware.uf2` from Brightspace.\n",
    "- Push and hold the BOOTSEL button and plug your ALPACA into the USB port of your PC. Release the BOOTSEL button only after your Alpaca is connected.\n",
    "- It will mount as a Mass Storage Device called RPI-RP2.\n",
    "- Drag and drop the Alpaca firmware.uf2 file onto the RPI-RP2 volume. Your ALPACA will reboot. \n",
    "\n",
    "> <font size=6>ℹ️</font>\n",
    ">\n",
    "> Make sure both USB cables are disconnected prior to re-connecting the ALPACA"
   ]
  },
  {
   "cell_type": "markdown",
   "id": "acb5aa07",
   "metadata": {},
   "source": [
    "## Feature 0: MicroPython Bypass"
   ]
  },
  {
   "cell_type": "code",
   "execution_count": 1,
   "id": "bd9e57d3",
   "metadata": {},
   "outputs": [
    {
     "data": {
      "image/jpeg": "[encoded data removed]",
      "text/html": [
       "\n",
       "        <iframe\n",
       "            width=\"600\"\n",
       "            height=\"450\"\n",
       "            src=\"https://www.youtube.com/embed/4O4Qf2TgXwU\"\n",
       "            frameborder=\"0\"\n",
       "            allowfullscreen\n",
       "            \n",
       "        ></iframe>\n",
       "        "
      ],
      "text/plain": [
       "<IPython.lib.display.YouTubeVideo at 0x242c3223d30>"
      ]
     },
     "execution_count": 1,
     "metadata": {},
     "output_type": "execute_result"
    }
   ],
   "source": [
    "%python\n",
    "from IPython.lib.display import YouTubeVideo\n",
    "YouTubeVideo('4O4Qf2TgXwU', width = 600, height = 450)"
   ]
  },
  {
   "cell_type": "code",
   "execution_count": 2,
   "id": "33e74974",
   "metadata": {},
   "outputs": [
    {
     "ename": "ModuleNotFoundError",
     "evalue": "No module named 'ipywidgets'",
     "output_type": "error",
     "traceback": [
      "\u001b[1;31m---------------------------------------------------------------------------\u001b[0m",
      "\u001b[1;31mModuleNotFoundError\u001b[0m                       Traceback (most recent call last)",
      "Cell \u001b[1;32mIn[2], line 1\u001b[0m\n\u001b[1;32m----> 1\u001b[0m \u001b[38;5;28;01mfrom\u001b[39;00m \u001b[38;5;21;01mipywidgets\u001b[39;00m \u001b[38;5;28;01mimport\u001b[39;00m FileUpload\n\u001b[0;32m      2\u001b[0m \u001b[38;5;28;01mfrom\u001b[39;00m \u001b[38;5;21;01mIPython\u001b[39;00m\u001b[38;5;21;01m.\u001b[39;00m\u001b[38;5;21;01mdisplay\u001b[39;00m \u001b[38;5;28;01mimport\u001b[39;00m Image\n\u001b[0;32m      3\u001b[0m \u001b[38;5;28;01mimport\u001b[39;00m \u001b[38;5;21;01mos\u001b[39;00m\n",
      "\u001b[1;31mModuleNotFoundError\u001b[0m: No module named 'ipywidgets'"
     ]
    }
   ],
   "source": [
    "%python\n",
    "from ipywidgets import FileUpload\n",
    "from IPython.display import Image\n",
    "import os\n",
    "\n",
    "upload=FileUpload(accept='image/', multiple=False )\n",
    "upload"
   ]
  },
  {
   "cell_type": "code",
   "execution_count": 17,
   "id": "71eebe55",
   "metadata": {},
   "outputs": [
    {
     "data": {
      "text/plain": [
       "()"
      ]
     },
     "execution_count": 17,
     "metadata": {},
     "output_type": "execute_result"
    }
   ],
   "source": [
    "%python\n",
    "upload.value"
   ]
  },
  {
   "cell_type": "code",
   "execution_count": 3,
   "id": "b94fde84",
   "metadata": {},
   "outputs": [
    {
     "ename": "NameError",
     "evalue": "name 'upload' is not defined",
     "output_type": "error",
     "traceback": [
      "\u001b[1;31m---------------------------------------------------------------------------\u001b[0m",
      "\u001b[1;31mNameError\u001b[0m                                 Traceback (most recent call last)",
      "Cell \u001b[1;32mIn[3], line 2\u001b[0m\n\u001b[0;32m      1\u001b[0m file_name\u001b[38;5;241m=\u001b[39m\u001b[38;5;124m\"\u001b[39m\u001b[38;5;124mtest_card.png\u001b[39m\u001b[38;5;124m\"\u001b[39m\n\u001b[1;32m----> 2\u001b[0m \u001b[38;5;28;01mif\u001b[39;00m upload\u001b[38;5;241m.\u001b[39mvalue:\n\u001b[0;32m      3\u001b[0m     \u001b[38;5;28;01mwith\u001b[39;00m \u001b[38;5;28mopen\u001b[39m(file_name,\u001b[38;5;124m\"\u001b[39m\u001b[38;5;124mwb\u001b[39m\u001b[38;5;124m\"\u001b[39m) \u001b[38;5;28;01mas\u001b[39;00m f:\n\u001b[0;32m      4\u001b[0m         f\u001b[38;5;241m.\u001b[39mwrite(upload\u001b[38;5;241m.\u001b[39mvalue[\u001b[38;5;241m-\u001b[39m\u001b[38;5;241m1\u001b[39m][\u001b[38;5;124m\"\u001b[39m\u001b[38;5;124mcontent\u001b[39m\u001b[38;5;124m\"\u001b[39m])  \u001b[38;5;66;03m# python 3.8 Kernel code, change kernel in Vocareum!\u001b[39;00m\n",
      "\u001b[1;31mNameError\u001b[0m: name 'upload' is not defined"
     ]
    }
   ],
   "source": [
    "%python\n",
    "file_name=\"test_card.png\"\n",
    "if upload.value:\n",
    "    with open(file_name,\"wb\") as f:\n",
    "        f.write(upload.value[-1][\"content\"])  # python 3.8 Kernel code, change kernel in Vocareum!\n",
    "Image(filename=file_name, width=\"50%\")"
   ]
  },
  {
   "cell_type": "markdown",
   "id": "93452a51",
   "metadata": {
    "kernel": "SoS"
   },
   "source": [
    "## Feature 1: `numpy` built-in"
   ]
  },
  {
   "cell_type": "code",
   "execution_count": 4,
   "id": "8ec42ee8",
   "metadata": {
    "kernel": "ALPACA - USB"
   },
   "outputs": [
    {
     "name": "stdout",
     "output_type": "stream",
     "text": [
      "\u001b[34mConnecting to --port=COM5 --baud=115200 \u001b[0m\n",
      "\u001b[34mReady.\n",
      "\u001b[0m"
     ]
    }
   ],
   "source": [
    "%serialconnect --port=\"COM5\""
   ]
  },
  {
   "cell_type": "markdown",
   "id": "73bc717b",
   "metadata": {
    "kernel": "SoS"
   },
   "source": [
    "This makes managing arrays much nicer than bare Micropython:"
   ]
  },
  {
   "cell_type": "code",
   "execution_count": 4,
   "id": "c6702dfc",
   "metadata": {
    "kernel": "ALPACA - USB"
   },
   "outputs": [
    {
     "name": "stdout",
     "output_type": "stream",
     "text": [
      "f1 is larger than f2 from approx. x = 0.0 to x = 2.040816\r\n"
     ]
    }
   ],
   "source": [
    "import numpy as np\n",
    "\n",
    "xx = np.linspace(0, 10, 50)\n",
    "f1 = np.sin(xx)\n",
    "f2 = np.log(xx)\n",
    "\n",
    "f1_larger = xx[f1 > f2]\n",
    "print(f'f1 is larger than f2 from approx. x = {np.min(f1_larger)} to x = {np.max(f1_larger)}')\n"
   ]
  },
  {
   "cell_type": "code",
   "execution_count": 4,
   "id": "2052332f",
   "metadata": {
    "kernel": "ALPACA - USB"
   },
   "outputs": [
    {
     "name": "stdout",
     "output_type": "stream",
     "text": [
      "m:\n",
      " array([[1, 2, 3],\n",
      "       [4, 5, 6],\n",
      "       [7, 10, 9]], dtype=uint8)\n",
      "\n",
      "m^-1:\n",
      " array([[-1.25, 1.0, -0.25],\n",
      "       [0.5, -1.0, 0.5],\n",
      "       [0.4166666, 0.3333333, -0.25]], dtype=float32)\n",
      "\n",
      "m*m^-1:\n",
      " array([[1.0, 0.0, 0.0],\n",
      "       [-4.768372e-07, 1.0, 0.0],\n",
      "       [-9.536743e-07, 0.0, 1.0]], dtype=float32)\n"
     ]
    }
   ],
   "source": [
    "m = np.array([[1, 2, 3], [4, 5, 6], [7, 10, 9]], dtype=np.uint8)\n",
    "n = np.linalg.inv(m)\n",
    "print(\"m:\\n\", m)\n",
    "print(\"\\nm^-1:\\n\", n)\n",
    "# this should be the unit matrix\n",
    "print(\"\\nm*m^-1:\\n\", np.dot(m, n))"
   ]
  },
  {
   "cell_type": "markdown",
   "id": "680affb7",
   "metadata": {
    "kernel": "SoS"
   },
   "source": [
    "## Feature 2: `matplotlib` emulation\n",
    "The more popular functions from `matplotlib` are now availabe right on the ALPACA thanks to the new kernel. For now, only `pyplot` functions are supported, e.g. all the methods starting with `plt`. Saving files and transfering them to the PC is no longer needed. Faster feedback hopefully makes for a better user experience.\n",
    "\n",
    "Notes:\n",
    "- `plt` functions only work in a single cell and thus cannot span multiple cells."
   ]
  },
  {
   "cell_type": "code",
   "execution_count": 4,
   "id": "24355c02",
   "metadata": {
    "kernel": "ALPACA - USB",
    "scrolled": false
   },
   "outputs": [
    {
     "name": "stdout",
     "output_type": "stream",
     "text": [
      "Printing something useful...\n",
      "Printing more useful stuff...\n"
     ]
    },
    {
     "data": {
      "image/png": "iVBORw0KGgoAAAANSUhEUgAAAlgAAAGQCAYAAAByNR6YAAAAOXRFWHRTb2Z0d2FyZQBNYXRwbG90bGliIHZlcnNpb24zLjcuMSwgaHR0cHM6Ly9tYXRwbG90bGliLm9yZy/bCgiHAAAACXBIWXMAAA9hAAAPYQGoP6dpAABzGUlEQVR4nO3deVwU9R/H8dfusiyXgAiCCCKeeN%2Ba5pm3lppXdnlkdvw0M8tSK4/SrLS07LDDxKystNRSU/FKyysPvCEP8EDAA%2BUUWHbn98fqFnkBLswu%2B3k%2BHjzYnZ3Zfc%2BXZfkw3%2B98R6MoioIQQgghhLAZrdoBhBBCCCFKGymwhBBCCCFsTAosIYQQQggbkwJLCCGEEMLGpMASQgghhLAxKbCEEEIIIWxMCiwhhBBCCBuTAksIIYQQwsakwBJCCCGEsDEpsIQQQgghbEwKLCGEEEIIG5MCSwghhBDCxqTAEkIIIYSwMSmwhBBCCCFsTAosIYQQQggbkwJLCCGEEMLGpMASQgghhLAxKbCEEEIIIWxMCiwhhBBCCBuTAksIIYQQwsakwBJCCCGEsDEpsIQQQgghbEwKLCGEEEIIG5MCSwghhBDCxqTAEkIIIYSwMSmwhHByeXl5vPzyy4SGhqLVaunTp4/akW4qMjISjUZDfHy82lHuytChQ6lcubLaMQqsffv2tG/fXu0YQjgcKbCEKCEajaZAX5s3by7RXF999RUzZ86kf//%2BLFy4kBdeeKFEX/%2B/3nrrLZYvX65qBnt1q7bZtm0bU6ZM4cqVKyWeSQhxcxpFURS1QwjhDL755pt897/%2B%2BmuioqJYtGhRvuWdO3cmMDCwxHINGjSIP/74g7Nnz5bYa96Ol5cX/fv3JzIyMt9yk8mE0WjEYDCg0WjUCWcDQ4cOZfPmzUU6Enertpk1axbjxo0jLi7O5kfHrh%2B9KunCXwhH56J2ACGcxWOPPZbv/o4dO4iKirpheUk7f/48vr6%2BqmYoCJ1Oh06nUzuGEEIUiHQRCmEn%2BvbtS%2BPGjfMte%2BCBB9BoNPzyyy/WZTt37kSj0fDbb79Zl508eZIBAwbg5%2BeHh4cH99xzD6tWrbrt68XHx6PRaNi0aROHDx/O10W5efPmm3ZXXt/m30dQhg4dipeXFwkJCfTp0wcvLy8CAgJ46aWXMJlM%2BbY3m8188MEH1KtXDzc3NwICAujWrRu7d%2B8GLN2omZmZLFy40Jpn6NChwK3HYH3yySfUqVMHg8FAcHAwI0eOvKGrrH379tStW5cjR47QoUMHPDw8qFixIu%2B%2B%2B%2B4N7TJ37lzq1KmDh4cHZcuWpWnTpnz33Xe3bcvr7fXDDz8wceJEgoKC8PT0pFevXpw5c%2Ba22wJkZmby4osvEhoaisFgoGbNmsyaNYt/dzDcqm2mTJnCuHHjAAgPD7c%2B9u92%2Buabb2jSpAnu7u74%2BfkxaNCgm%2Bb6/PPPqVq1Ku7u7jRv3pytW7feMbsQ4uakwBLCTrRp04b9%2B/eTlpYGgKIo/Pnnn2i12nx/6LZu3YpWq%2BXee%2B8FIDk5mVatWrF27Vr%2B97//MX36dLKzs%2BnVqxfLli275esFBASwaNEiIiIiCAkJYdGiRSxatIhatWoVOrvJZKJr166UK1eOWbNm0a5dO9577z0%2B//zzfOsNHz6cMWPGEBoayjvvvMP48eNxc3Njx44dACxatAiDwUCbNm2seZ5%2B%2Bulbvu6UKVMYOXIkwcHBvPfee/Tr14/PPvuMLl26YDQa8617%2BfJlunXrRoMGDXjvvfeIiIjglVdeyVeofvHFF4wePZratWszZ84cpk6dSsOGDdm5c2eB2mH69OmsWrWKV155hdGjRxMVFUWnTp24evXqLbdRFIVevXoxe/ZsunXrxvvvv0/NmjUZN24cY8eOta53q7bp27cvDz/8MACzZ8%2B2PhYQEGDNNHjwYKpXr87777/PmDFj2LBhA23bts1XiM6fP5%2Bnn36aoKAg3n33Xe69994CF4hCiJtQhBCqGDlypPLvX8G//vpLAZTVq1criqIoBw4cUABlwIABSosWLazr9erVS2nUqJH1/pgxYxRA2bp1q3VZenq6Eh4erlSuXFkxmUy3zdGuXTulTp06%2BZZt2rRJAZRNmzblWx4XF6cAyoIFC6zLhgwZogDKG2%2B8kW/dRo0aKU2aNLHe37hxowIoo0ePviGD2Wy23vb09FSGDBlywzoLFixQACUuLk5RFEU5f/684urqqnTp0iXfPn700UcKoHz11Vf59hFQvv76a%2BuynJwcJSgoSOnXr591We/evW9oi4K43l4VK1ZU0tLSrMt//PFHBVA%2B%2BOAD67IhQ4YoYWFh1vvLly9XAGXatGn5nrN///6KRqNRjh8/bl12q7aZOXNmvra5Lj4%2BXtHpdMr06dPzLT948KDi4uJiXZ6bm6uUL19eadiwoZKTk2Nd7/PPP1cApV27dgVtCiHENXIESwg70ahRI7y8vNiyZQtgOVIVEhLC4MGD2bt3L1lZWSiKwh9//EGbNm2s261evZrmzZvTunVr6zIvLy%2Beeuop4uPjOXLkSInkf%2BaZZ/Ldb9OmDSdPnrTe/%2Bmnn9BoNEyePPmGbYsyaH39%2BvXk5uYyZswYtNp/PspGjBiBt7f3DV2kXl5e%2Bca7ubq60rx583wZfX19OXv2LH/99Veh8wAMHjyYMmXKWO/379%2BfChUqsHr16ltus3r1anQ6HaNHj863/MUXX0RRlHxH2Arr559/xmw2M3DgQC5evGj9CgoKonr16mzatAmA3bt3c/78eZ555hlcXV2t2w8dOhQfH58iv74QzkwKLCHshE6no2XLltbuwK1bt9KmTRtat26NyWRix44dHDlyhJSUlHwF1qlTp6hZs%2BYNz3e9q%2B/UqVPFnv36eKp/K1u2LJcvX7beP3HiBMHBwfj5%2BdnkNa/v13/33dXVlSpVqtyw3yEhITcUcv/N%2BMorr%2BDl5UXz5s2pXr06I0eO5M8//yxwpurVq%2Be7r9FoqFat2m3PGDx16hTBwcH5CjOwzc/v2LFjKIpC9erVCQgIyPd19OhRzp8/n%2B81/ptfr9dTpUqVIr%2B%2BEM5MziIUwo60bt3aOoZq69atvPrqq/j6%2BlK3bl22bt1qnb7h3wVWcbjVEaX/Dlq/zhHO7rtVRuVfA8lr1apFbGwsK1euZM2aNfz000988sknTJo0ialTp5ZUVJsxm83WEyJutv9eXl4qpBLCOcgRLCHsSJs2bcjNzWXx4sUkJCRYC6m2bduydetWtm7dSo0aNfLNkxUWFkZsbOwNzxUTE2N9vLDKli0LcMPZeHdzNKVq1aqcO3eOlJSU265X0O7C6/v1333Pzc0lLi6uSPsN4OnpyUMPPcSCBQs4ffo0PXv2tBa9d3Ls2LF89xVF4fjx47edmyosLIxz586Rnp6eb/nNfn63aptbLa9atSqKohAeHk6nTp1u%2BLrnnnvyvcZ/8xuNRuLi4m6ZXQhxa1JgCWFHWrRogV6v55133sHPz486deoAlsJrx44d/P777zccverRowe7du1i%2B/bt1mWZmZl8/vnnVK5cmdq1axc6R1hYGDqdzjoe7LpPPvmkCHtl0a9fPxRFuemRoH8fRfL09CzQjOSdOnXC1dWVDz/8MN/28%2BfPJzU1lZ49exY646VLl/Ldd3V1pXbt2iiKcsNZiTfz9ddf5yuUli5dSmJiIt27d7/lNj169MBkMvHRRx/lWz579mw0Gk2%2BbW/VNp6ensCNBXHfvn3R6XRMnTo1XxuBpc2v72/Tpk0JCAhg3rx55ObmWteJjIyU2eGFKCLpIhTCjnh4eNCkSRN27NhhnQMLLEewMjMzyczMvKHAGj9%2BPIsXL6Z79%2B6MHj0aPz8/Fi5cSFxcHD/99FO%2BAeAF5ePjw4ABA5g7dy4ajYaqVauycuVK65idoujQoQOPP/44H374IceOHaNbt26YzWa2bt1Khw4dGDVqFABNmjRh/fr1vP/%2B%2BwQHBxMeHk6LFi1ueL6AgAAmTJjA1KlT6datG7169SI2NpZPPvmEZs2aFWkC1y5duhAUFMS9995LYGAgR48e5aOPPqJnz543jJG6GT8/P1q3bs2wYcNITk5mzpw5VKtWjREjRtxymwceeIAOHTrw6quvEh8fT4MGDVi3bh0rVqxgzJgxVK1a1brurdqmSZMmALz66qsMGjQIvV7PAw88QNWqVZk2bRoTJkwgPj6ePn36UKZMGeLi4li2bBlPPfUUL730Enq9nmnTpvH0009z33338dBDDxEXF8eCBQtkDJYQRaXOyYtCiP9O03DduHHjFEB555138i2vVq2aAignTpy4YZsTJ04o/fv3V3x9fRU3NzelefPmysqVKwuU42bTNCiKoly4cEHp16%2Bf4uHhoZQtW1Z5%2BumnlUOHDt10mgZPT88btp88efIN%2B5eXl6fMnDlTiYiIUFxdXZWAgACle/fuyp49e6zrxMTEKG3btlXc3d0VwDotwX%2Bnabjuo48%2BUiIiIhS9Xq8EBgYqzz77rHL58uUC7eN/p0z47LPPlLZt2yrlypVTDAaDUrVqVWXcuHFKamrqLVrP4vo0DYsXL1YmTJiglC9fXnF3d1d69uypnDp16ravqSiWaTVeeOEFJTg4WNHr9Ur16tWVmTNn5pu%2B4nZtoyiK8uabbyoVK1ZUtFrtDe30008/Ka1bt1Y8PT0VT09PJSIiQhk5cqQSGxub7/k/%2BeQTJTw8XDEYDErTpk2VLVu2KO3atZNpGoQoArkWoRBC3KXNmzfToUMHlixZQv/%2B/dWOI4SwAzIGSwghhBDCxqTAEkIIIYSwMSmwhBBCCCFsTMZgCSGEEELYmBzBEkIIIYSwMSmwhBBCCCFsTCYaLSCz2cy5c%2BcoU6ZMgS/lIYQQQgjLlQPS09MJDg4u0uTHjkgKrAI6d%2B4coaGhascQQgghHNaZM2cICQlRO0aJkAKrgK5fJuPMmTN4e3urnKZkGY1G1q1bR5cuXdDr9WrHKRWkTW1P2tS2pD1tz5nbNC0tjdDQ0AJdcqq0kAKrgK53C3p7eztlgeXh4YG3t7fTfSgUF2lT25M2tS1pT9uTNsWphtg4R0eoEEIIIUQJkgJLCCGEEMLGpMASQgghhLAxKbCEEEIIIWxMCiwhhBBCCBuTAksIIYQQwsakwBJCCCGEsDEpsIQQQgghbEwKLCGEEEIIG5MCSwghhBD/MF6FSyfUTuHw5FI5QgghhLMzGeHkZji4FGJWgX81eGqz2qkcmhRYQgghhDMym%2BH0dji0FA4vh6sp/zyWeQmyU8HNR7V4jk4KLCGEEMJZKAqc2weHfoJDP0P6uX8e8wyAOg9C3f4Q0gy0MorobkiBJYQQQpR2l%2BPhwBI48D1cOv7PcoMP1HoA6vWDym1BJ2WBrThkS27ZsoWZM2eyZ88eEhMTWbZsGX369Lnl%2Bps3b6ZDhw43LE9MTCQoKKgYkwohhBAquXrZ0vV34AdLV%2BB1Lm5Qs7vlSFW1TqB3Uy1iaeaQBVZmZiYNGjTgiSeeoG/fvgXeLjY2Fm9vb%2Bv98uXLF0c8IYQQQh15uXBsnaWo%2BnsNmHKvPaCB8LbQYBBE3A9u3rd9GnH3HLLA6t69O927dy/0duXLl8fX19f2gYQQQgg1Je6Hfd/AwSWWI1fXla8N9R%2BCegPAp6J6%2BZyQQxZYRdWwYUNycnKoW7cuU6ZM4d5771U7khBCCFE0mZfg4I%2Bw71tIPvjPcq8gqNffcrQqsC5oNOpldGJOUWBVqFCBefPm0bRpU3Jycvjyyy9p3749O3fupHHjxjfdJicnh5ycHOv9tLQ0AIxGI0ajsURy24vr%2B%2Bts%2B12cpE1tT9rUtqQ9bc8mbWrOQ3NiA9r9i9EcW4vGbHkuReeKUqM75gaPoIS3B63Osn5e3t2FthFnfB9pFEVR1A5xNzQazR0Hud9Mu3btqFSpEosWLbrp41OmTGHq1Kk3LP/uu%2B/w8PAoSlQhhBCiSDyzkwi79DuhKX/glpdqXX7FvTKny7XlbNl7MLp4qZjw9rKysnjkkUdITU3NNxa6NHOKI1g307x5c/74449bPj5hwgTGjh1rvZ%2BWlkZoaChdunRxmjfHdUajkaioKDp37oxer1c7TqkgbWp70qa2Je1pe4Vu07wcNLGr0O77Gu2pf/5eKR7%2BmOv2x9zgETzL16YWUKv4YtvE9V4gZ%2BK0BVZ0dDQVKlS45eMGgwGDwXDDcr1e77QfNs6878VF2tT2pE1tS9rT9u7Yphf%2Bhr0LIfq7f82uroHqnaHxYDTVu6JzcUVXImltwxnfQw5ZYGVkZHD8%2BD8TpcXFxREdHY2fnx%2BVKlViwoQJJCQk8PXXXwMwZ84cwsPDqVOnDtnZ2Xz55Zds3LiRdevWqbULQgghxD%2BM2XD0F9gTCaf%2B/Ge5d0Vo9Dg0egx8Q1WLJwrPIQus3bt355s49HpX3pAhQ4iMjCQxMZHTp09bH8/NzeXFF18kISEBDw8P6tevz/r16286%2BagQQghRYi7Hw%2B6vYO%2Bif45WabRQoxs0HmKZCFRmV3dIDvlTa9%2B%2BPbcbmx8ZGZnv/ssvv8zLL79czKmEEEKIAlDMcCwKdn1hmRSUa3/PvEOgyRBo%2BKjMWVUKOGSBJYQQQjicq5epmvwbLp9Ohstx/yyveh80e9Jy1ErrSCOrxO1IgSWEEEIUp6SDsHMeLgeXUjcv27LM4AONHoWmw8G/mrr5RLGQAksIIYSwNbMZjq2F7R9D/FYANMAV90p4dXgBl4YPgaunuhlFsZICSwghhLCVnAzL9Ao7P4WUk5ZlGh3U7k1e0yf5ff8FejTqCU44bYGzkQJLCCGEuFtXTsOuz2HP15BzbaZ1Nx9oMhSajQDfUBSjEQ6sVjWmKDlSYAkhhBBFdW4f/PkBHFlhOTsQoFw1aPEMNHgYDPZ7%2BRpRvKTAEkIIIQpDUeDERvhzDsRt%2BWd5eDtoORKqdQatVrV4wj5IgSWEEEIUhCkPjiy3FFZJBy3LNDqo1x9ajYagumqmE3ZGCiwhhBDidnKzYN83sH2uZawVgN7DMtN6y/%2BBbyV18wm7JAWWEEIIcTPZqZaB6zs%2BhaxLlmUe5Szjq5o9CR5%2B6uYTdk0KLCGEEOLfrl6GnZ/Bjk8sRRaAbxi0es5yGRtXD3XzCYcgBZYQQggBkJVimRh01%2BeQk2ZZ5l8T2r4EdfrKRZdFoci7RQghhHPLuGAZX7XrSzBmWpaVrw1tx0Ht3nJ9QFEkUmAJIYRwThkXLGcE/jUf8q5algXVg3avQM2eMtWCuCtSYAkhhHAuV6/AtrmWwevXj1gFN7YUVjW6gkajajxROkiBJYQQwjnkZsLOeZaZ168PXq/QEO57Hap1lMJK2JQUWEIIIUq3vBzYEwlbZkHmecuygAi47zWIuF8KK1EspMASQghROpnyYP9i%2BP0dSD1jWVa2MrSfaJl9XQavi2IkBZYQQojSRVHg77UQ9Tpc/NuyrEwwtBsHjR4HnV7dfMIpSIElhBCi9EjcD2tfhfitlvvuftDmRWg2HPTu6mYTTkUKLCGEEI4v9SxsnAb7vwcU0BngnmehzVhw81E7nXBCUmAJIYRwXDnp8Mcc2P4R5GVbltUbCB1fl4swC1VJgSWEEMLxmPJg70LYPAMyL1iWhd0LXd6Eik3UzSYEUmAJIYRwNKe2w%2BpxkHzQcr9cNej8BtTsIVMuCLshBZYQQgjHkJ4EUZPgwA%2BW%2B26%2B0GEiNH1CzgwUdschL7S0ZcsWHnjgAYKDg9FoNCxfvvyO22zevJnGjRtjMBioVq0akZGRxZ5TCCGEDZiMsO0jmNv0WnGlgcZD4Lm90OJpKa6EXXLIAiszM5MGDRrw8ccfF2j9uLg4evbsSYcOHYiOjmbMmDE8%2BeSTrF27tpiTCiGEuCtxW2BeG1j3KuSmW8ZXjdgAvT4Ez3JqpxPilhyyi7B79%2B507969wOvPmzeP8PBw3nvvPQBq1arFH3/8wezZs%2BnatWtxxRRCCFFUqQmw7jU4/LPlvrsfdJpimShU65DHBoSTcYp36fbt2%2BnUqVO%2BZV27dmX79u0qJRJCCNvKNppITL2K0WRWO8rdMZth5%2BfwcXNLcaXRQrMn4bk90GSIFFfCYTjkEazCSkpKIjAwMN%2BywMBA0tLSuHr1Ku7uN87um5OTQ05OjvV%2BWloaAEajEaPRWKx5c/LMbD95ifVHz/P73xfJNpoxuGhxddFicNHiptdhuHbb1UWLt5ueTrUCuC%2BiPAYX23/4XN/f4t5vZyJtanvO1qYZOXnsO32Fv%2BIv89epy%2Bw/m4rRpKDRQDlPVwK9DQSWcbN893ajfBkDQd4G6lX0wdfjzmOWVGnPC7HoVo1Bm/AXAOaKzTB1eweC6l8PVXJZioGzvUf/zRn32SkKrKKYMWMGU6dOvWH5unXr8PDwsPnrXc2DI1c0HEzRcOSyhhxz4U41/uVAIh46hSb%2BCs3Lmwn1tP3ZylFRUbZ9QiFtWgxKa5tmGOFEmoaT6RpOpGk4mwkK%2BX/JNSgoioaLGblczMjlMOk3PI9eq9A8QKF9BTPlC3DlmJJoT63ZSPXkldRI/gWtYiJP68bh4IHE%2B98He88CZ4s9Q0kqre/R28nKylI7QolzigIrKCiI5OTkfMuSk5Px9va%2B6dErgAkTJjB27Fjr/bS0NEJDQ%2BnSpQve3t42yZWcls2GmAusP3qeHXEpGE2K9bHAMgY61SpPx1oBVPB2IyfPTG6emZw8Mzl5pmvfLV/xF7NYsf8cSWk5bE3WsDVZS/XynvRtVJHeDSoQUMZwVzmNRiNRUVF07twZvV7O1rEFaVPbK61tejEjh9nrj7N0bwJmJf9jIWXdaVa5LM3CfGlWuSyVynqQkpVLcloOyek5JKdlW26nWW6fTrnKqZQs/kzWsO28lg41Anji3jCaVy6L5j//kZVUe2rO/oVu1Rg0F2MBMFfrgtJ9JrW9K1K72F5VHaX1PVoQ13uBnIlTFFgtW7Zk9erV%2BZZFRUXRsmXLW25jMBgwGG4sTPR6vU1%2BMTJy8ujw/tZ8RVW18l50qR1IlzpB1K/og1Zb8ENQL3evxbYTF1m65yxrDiVx7Hwm76z9m1lRx2hXI4DHW4bRoWb5u8psq30X/5A2tb3S0qa5eWYit8Uxd8Nx0nPyAKhe3ovm4X7Wrwo%2BN/6DWMHgSoWyXjd9TkVR2HEyhfl/nGT90fNsjL3AxtgL1K3ozZOtq9CzfgX0uvzDDIqtPXPSYcObsOtzQAEPf%2BjxLto6fdGW8slCS8t7tDCcbX/BQQusjIwMjh8/br0fFxdHdHQ0fn5%2BVKpUiQkTJpCQkMDXX38NwDPPPMNHH33Eyy%2B/zBNPPMHGjRv58ccfWbVqlVq7gJfBhebhfmTlmuhaJ4jOtQOpGnDzD8WC0Gk1tKkeQJvqAaRlG1l1IJGle86y59RlNsacZ2PMefo1DmFKr9qUcXO%2BN7oQjkJRFDbGnGfaqqPEXcwEoF5FHyY9UJtmlf3u6rk1Gg0tq5ajZdVynLiQwVd/xPHT3rMcSkhjzA/RvP1bDEPvrcyQlpVxKc4a5/gG%2BGU0pF3r%2Bmv4KHSZBh53t39C2BOHLLB2795Nhw4drPevd%2BUNGTKEyMhIEhMTOX36tPXx8PBwVq1axQsvvMAHH3xASEgIX375pepTNCwY2hzXYhiU7u2m5%2BHmlXi4eSVOXsjgmx2nidxm%2BSDdGXeJ2Q81vOsPaiGE7R1LTueNlUfYeuwiAP5eBl7uVpP%2BjUMKdUS7IKoGeDH9wXq82KUm3%2B08ReS2UySlZfP2bzEs35fA3EH1bfp6AORmWWZi/%2BsLy33fMHhgDlS9z/avJYTKHLLAat%2B%2BPYqi3PLxm83S3r59e/bt21eMqQqvOIqr/6oS4MWkB2rTo14QL/wYzZmUqzz02XaebV%2BV5zvWKJEMQojbS80yMnv93yzacQqTWcFVp%2BWJ1uGM7FC12I84%2B3m6Muq%2B6oxoW4UV0ed4d00MMUnpPPjpTgaGaehhqxdK2AM/PwWXrvU%2BNH/KMq%2BVq6etXkEIuyJ/XZ1E08p%2BrB7dhv5NQjAr8PGmE/T7dBvHz2eoHU0Ip3bwbCqdZv9O5LZ4TGaFzrUDWfdCW8Z3jyjR7nyDi46BTUNZ%2BVwbmoaVJSMnj6/%2B1vH2mti7m1vLlAeb34EvO1uKqzIV4LGfocdMKa5EqSYFlhMp46Zn1oAGfPJoY3w99BxMSOX%2BuVtZtOPUbY8ICiGKx%2BbY8zz0%2BXYupOdQNcCTb4a34IvBTansr17hEeTjxuKn7uGJVmEAzP/zFI9%2BsZPzadmFf7KLx%2BGrLrD5LVBMUOdBeHYbVOto49RC2B8psJxQj3oVWPN8W9pU9yfbaOb15YcYvnA3FzNy7ryxEMImluw%2Bw/CFu8nKNdGmuj/LR95L6%2Br%2BascCQK/TMqF7TYbVMOFp0LErPoUeH/7B9hOXCvYEigJ/zYfP2li6Bg0%2B0PdL6L9ABrILpyEFlpMK8nFj4bDmTLq/Nq4uWjbGnGfgvO0kF%2BW/VCFEgSmKwocbjjFu6QFMZoW%2BjSoyf0gzuzy7t2E5hWXP3ENEUBkuZuTw6Jc7%2BHTzidsf8c64AN8NhFVjwZgF4W3hf9ug/gDbz34shB2TAsuJabUanmgdzq%2BjWlPR152TFzN5%2BPMdUmQJUUzyTGYmLjvI%2B1F/A/C/9lV5b2ADuz7ZJNzfk2X/u5e%2BjStiVuCdNTE8vWgP2UbTjSuf2mY5anVsHegM0HUGPL4CfEJKPrgQKrPf32pRYmoGleH7p%2B7JV2QVabyFEOKWsnLzeHrRHhbvOoNGA2/2rsPL3SJumEHdHrm76nhvQANm9K2Hq4uWdUeSeW7xvn8Gv5vN8McciLwf0hPBvyY8tRla/k8uziyclrzzBQChfh75iqxBUmQJYTOXMnJ45IudbIg5j8FFy6ePNuHxlpXVjlUoGo2Gh5tXInJYM1xdtEQdSWbckv2YM1Pg%2B4dh/WTLQPZ6A2HERggsbRe6EaJwpMASVjcUWV9IkSXE3Tp9KYt%2Bn24j%2BswVfD30fDeiBd3qBqkdq8haVfXn00cb46LVELd/C6lz7oG/11i6BO%2BfA30/B0PRr0ohRGkhBZbIJ9TPg8UjrhVZF64VWelydqEQRXExI4dH5%2B8g/lIWFX3dWfpMK5qEOf5ZdB0jyrOs6SGWuE6lrDGZy4YQlOHroOkwGcguxDVSYIkbVCpnKbKCfdw4eSGTx7/aTVqu2qmEcCzZRhMjvt7NmZSrVPLzYNn/WlGtfCk4spOdCkuGUO/AdFw1JlabmtM2dQqfxJaCfRPChqTAEjdVqZwH3z/V0lJkXczkoyM6LsiRLCEKxGxWePHH/ew7fQUfdz0LhjWjvLeb2rHu3sXj8MV9cGQFaF2g29uc6zyPdDyYuTaWhdvi1U4ohN2QAkvc0vUiq4KPG8lXNTz21W5SMuVQlhB3MnNdLKsOJqLXaZj3WBOqBpSCozsnN8OX91kud%2BMdAsPWwD3P8mTbqozuWB2Ayb8cZumes%2BrmFMJOSIElbqtSOQ8WPdEUX1eFkxczeW7xXvLu5rpkQpRy3%2B86zaebTwDwdt/6tKxaTuVENvDXl7Cor6V7MKQ5PLUJQptZH36hU3WG3VsZgJeX7mfNoUSVggphP6TAEncU5ufBM7VMeLjq%2BPP4JWaujVU7khB2aeuxC7y6/BAAoztWp18Tx55gU6OY0K55BVa9aJmCof4gGPIreJXPv55Gw%2Bs9azOwqeVi8s8t3sfWYxdUSi2EfZACSxRIBQ94%2B8E6AHy25SS/7j%2BnciIh7Mvfyen875u9mMwKvRsG80Kn6mpHujvZqdxz4j10e%2BZb7necDA/OA/3Nx5JptRpm9K1Pz3oVMJoURn67lzMpWSUYWAj7IgWWKLDudYN4pl1VAF5eeoCYpDSVEwlhH86nZzNswV%2Bk5%2BTRrHJZ3u1f3yFmaL%2BlSydwiexK%2BfRDKHoPeOgbaDP2jlMw6LQaZj/UkEaVfEnLzuPZb29xSR0hnIAUWKJQxnWtSZvq/lw1mnjq6z2kZhnVjiSEqq7mmhixcDcJV64S7u/J5483xeCiUztW0cVtgS/uQ3PpOFl6P/IGr4JaDxR4c1cXLR8/0piyHnoOJaTx5sojxRhWCPslBZYoFJ1Ww4eDGhFS1p3TKVk8/8M%2BTGZF7VhCqMJsVhjzwz72n03F10PPV0ObUdbTVe1YRbfvW1j0IGRfwRzchC01p0BQvUI/TbCvO3MGNUKjgW93nmbZPjmzUDgfKbBEoZX1dGXeY00wuGjZHHuBOev/VjuSEKr49PcTrD2cjKtOy%2BePNyXc31PtSEW3bS6s%2BB%2BY86DeQEyPryBH71vkp2tXI4Dn7rOMQ5v48yH%2BTk63UVAhHIMUWKJI6lb04e1%2Blv9s5248ztrDSSonEqJk7Tt9mfejLP9cvNmnDs3DHfQSOIoCG96Ada9Z7rcabbmeoMvdT4z6fMfqtK5mGVLw7Dd7yMzJu%2BvnFMJRSIEliuzBRiHWuW9e/HE/x8/Lf6jCOaRnG3n%2B%2B2hMZoX761dgYNNQtSMVjdkEK1%2BAre9Z7neaAl3etNn1BHVaDR8MakiQtxsnLmQy/ueDKIoMKRDOQQoscVcm9qhFi3A/MnLyeGrRHtKzZdC7KP0mrzjM6RTLBZynP1jPMc8YzMuFn56EPQsADdw/B1q/YPOXKedl4KNHGuGi1fDr/nN8s%2BOUzV9DCHskBZa4K3qdlo8eaUyFaxeGfmnJfvkPVZRqy/cl8PO%2BBLQamDOoIT7uerUjFV5uJiweBId/Bq0e%2Bn8FTYcV28s1rezH%2BO4RALyx8gj7z1wpttcSwl5IgSXuWkAZA58%2B1gRXnZa1h5NZItciE6XU6UtZvHZtpvbn7qtOs8oOOO7q6mX4ug%2Bc2AB6D3jke6jbt9hfdnjrcLrWCcRoUvjft3u5kiXXNRWlmxRYwiYahvryQucaALzx6xHOXpYZnEXpkmcy8/wP%2B8jIyaNpWFmeu6%2Ba2pEKLz0JFvSEs7vAzQcGr4BqnUrkpTUaDTMHNCCsnAcJV64y9sf9mGWKF1GKOWyB9fHHH1O5cmXc3Nxo0aIFu3btuuW6kZGRaDSafF9ubnd/hozI76m2VWgSVpaMnDzGLTkgH56iVPlwwzH2nb5CGTcX5gxqiIvOwT4%2BU8/CV13h/GHwCoRhv0Fo8xKN4O2m55NHG2Nw0bIx5jwLtsWX6OsLUZIc7BPC4ocffmDs2LFMnjyZvXv30qBBA7p27cr58%2BdvuY23tzeJiYnWr1OnZKClrem0Gt4b0AB3vY7tJy%2BxcHu82pGEsImdJy/x0abjAEx/sB4hZT1UTlRI6cmwsBdcjgffMHhiLQTWUSVKnWAfXr%2B/NgAz18YQdzFTlRxCFDeHLLDef/99RowYwbBhw6hduzbz5s3Dw8ODr7766pbbaDQagoKCrF%2BBgYElmNh5VPb3ZGIPy2DWt3%2BL4cSFDJUTCXF3UrOMvPBDNGYF%2BjcJoVeDYLUjFU7mJVjUB1JOgE8oDF0FfuGqRnq0RSVaV/Mn22hm3JL9cjUIUSo5XIGVm5vLnj176NTpn3EDWq2WTp06sX379ltul5GRQVhYGKGhofTu3ZvDhw%2BXRFyn9GiLMFpX8ycnz8yLP%2B4nz2RWO5IQRaIoChOWHeBcajaVy3kwpZc6R32K7OoV%2BOZBOH8EvIJgyC/gq/6cXRqNhrf71cPTVcfuU5eJlK5CUQq5qB2gsC5evIjJZLrhCFRgYCAxMTE33aZmzZp89dVX1K9fn9TUVGbNmkWrVq04fPgwISEhN90mJyeHnJwc6/20tDQAjEYjRqNzzfV0fX8Ls99v9alNz4%2B2EX3mCp9sOsaz7aoUVzyHVJQ2FbdXHG26ZM9ZVh9MwkWr4f0B9TBoFcf5meVmoPtuANrE/Sge5ch75CcoEwoFzF/c79FALz2vdKvBpF%2BOMnNtDG2rlaVyOQe%2B1FABOPPvvTPus0ZxsEmLzp07R8WKFdm2bRstW7a0Ln/55Zf5/fff2blz5x2fw2g0UqtWLR5%2B%2BGHefPPNm64zZcoUpk6desPy7777Dg8PBxt/oZJdFzR8e1yHTqPwYj0TFUv3Z6coZVJyYEa0jlyzhl6VTHSs6DgflVpzLveceI%2BAjKPk6jz4s9oE0jzC1I51A0WBT45q%2BTtVS3gZhdF1TGgdcM5WcWdZWVk88sgjpKam4u3trXacEuFwR7D8/f3R6XQkJyfnW56cnExQUFCBnkOv19OoUSOOHz9%2By3UmTJjA2LFjrffT0tIIDQ2lS5cuTvPmuM5oNBIVFUXnzp3R6ws%2BqWJ3ReH84v1EHT3PimRffnrmHgwuDtcrXSyK2qbi1mzZpoqiMGLRPnLNF2ka5svMJ5qhdZS//KZcdEsGo804iuLqifaRn2ldsUmhn6ak3qMN771Kz7nbiEs3caFsHYa1sr9C0Fac%2Bff%2Bei%2BQM3G4AsvV1ZUmTZqwYcMG%2BvTpA4DZbGbDhg2MGjWqQM9hMpk4ePAgPXr0uOU6BoMBg8Fww3K9Xu90vxjXFWXfZ/Srz97ZW4hNzuDj3%2BN4pVtEMaVzTM78fioutmjTFdEJ/H7sIq46Le/0b4DB4GqjdMXMlAc/PwMn1oOLO5pHluBS%2BZ67esrifo9WDtAzsWctXl12iPfXH6NznQqE%2B5fuw93O%2BHvvbPsLDjjIHWDs2LF88cUXLFy4kKNHj/Lss8%2BSmZnJsGGWSz0MHjyYCRMmWNd/4403WLduHSdPnmTv3r089thjnDp1iieffFKtXXAa/l4Gpj9YD4DPfj/BnlOXVU4kxO2lZOYy9dcjAIzuWI2qAV4qJyogswmWPwtHfwGdKwz6Firfq3aqAnmkuZxVKEofhyywHnroIWbNmsWkSZNo2LAh0dHRrFmzxjrw/fTp0yQmJlrXv3z5MiNGjKBWrVr06NGDtLQ0tm3bRu3atdXaBafSrW4QfRtVxKzAS0v2k5Wbp3YkIW7pzZVHSMnMJSKoDE%2B1rap2nIJRFFg9Dg7%2BCFoXGLAQqnVUO1WByVmFojRyyAILYNSoUZw6dYqcnBx27txJixYtrI9t3ryZyMhI6/3Zs2db101KSmLVqlU0atRIhdTOa3KvOgR5uxF3MZNZa/9WO44QN7U59jzLrl3I%2Be1%2B9XF1lDGDOz6F3fMBDfT9HCJuPfzBXoWU9WBiz1qATEAqSgcH%2BfQQjs7HXc/b/SxdhZHb4jiUkKpyIiHyy8zJ49Vllgs5D7s3nIahvuoGKqi/18G6Vy23u0yDuv3UzXMXpKtQlCZSYIkS075meR5oEIxZgYnLDsqHp7Ar7637m4QrVwkp686LXWqoHadgko/A0idAMUOjx6HlSLUT3RXpKhSliRRYokS9fn8tyri5cOBsKt/skOtBCvuw7/RlFmyLAyzXGvRwdYATrDMvwuKHIDcdwlpDz/dB4yBTSdzGf7sKz6RkqZxIiKKRAkuUqPJl3Hj52lQNM9fGkpSarXIi4exy88yM/%2BkgigJ9G1WkXY0AtSPdWV4OfP8oXDkNZcPhoUXg4iBTSRTAI80rcU8VP7KNZqb%2BKpc1E45JCixR4h5tXomGob5k5OTxxkr58BTq%2Buz3E8Qmp%2BPn6cpr9zvAmcWKAr8%2BD2d2gMEHHvkRPPzUTmVTGo2GaX3qotdpWH/0POsOJ6kdSYhCkwJLlDitVsNbD9ZDp9Ww%2BmASm2LOqx1JOKnj5zOYu9FyRYfJD9TGz9MBjgL9OQf2LwaNDgZGQoCDjBcrpGrlyzCijeUaplN/PSLTuwiHIwWWUEXtYG%2BeuLcyAK%2BvOMTVXJO6gYTTMZsVJvx8gFyTmQ41A%2BjVIFjtSHd2dCWsv3aN1O7vQNX71M1TzJ67rzohZd1JuHKVDzYcUzuOEIUiBZZQzZhONQj2cePsZfnwFCVv8V%2Bn%2BSv%2BMh6uOqY9WA%2BNvQ8QTzwAP48AFGg2ApqPUDtRsXN31TG1Vx0A5m%2BNIzYpXeVEQhScFFhCNZ4GF97oXReAL7eelA9PUWIuZeTwzm8xAIzrWpOKvu4qJ7qD9GRYPAiMWZajVt3eVjtRielYK5DOtQPJMyu8vvwQiiLTuwjHIAWWUFWn2oF0rWP58Jy47CBmmRtLlIB31sSQlp1HnWBvBresrHac2zObYdlTkJYA/jWg/wLQOcA0EjY0pVcd3PU6dsWnsHTPWbXjCFEgUmAJ1U3pVQdPVx17Tl3mh91n1I4jSrk9py7z427LH%2Bk3etdFp7XzrsHtH8HJzaD3gIe%2BBXdftROVuIq%2B7jzfqToAM36L4XJmrsqJhLgzKbCE6ir4uDO2S00AZqw%2ByoX0HJUTidLKZFaYtMJyOZwBTUJoElZW5UR3cC4aNrxhud1tRqk9Y7AghrcOp0agFymZuby7NkbtOELckRRYwi4MaRlGnWBv0rLzmL7qiNpxRCn13c5THD6XhrebC690j1A7zu3lZsJPw8FshFoPQOMhaidSlV6nZVofy/VMF%2B86w55Tl1VOJMTtSYEl7IKLTstbD9ZDo4Hl0efYduKi2pFEKXMxI4eZa2MBy8B2fy%2BDyonuYM14uHQcygTDAx%2BWisvg3K3m4X70bxICwGvLD5FnMqucSIhbkwJL2I0Gob48fk8YAFN%2BOYxRPjyFDb3z2z8D2x9pEaZ2nNs7sgL2fg1ooO/npW6m9rsxoXsEPu56jiamycWghV2TAkvYlbGda%2BDn6crfyRl8vV0uBi1sY8%2BpFJZcO/vszT52PrA99Sz8Mtpyu/ULEN5G3Tx2ppyXgfHXundnR/1NYupVlRMJcXNSYAm74uvhystdLQPe50T9LQPexV3LM5l5fbnlmpcPNQ2lcSU7HthuNsHPT0P2FQhuDB0mqp3ILll%2Bjr5k5pqYtuqo2nGEuCkpsITdGdg0lPohPqTn5PHOGjlbSNydb3ee5khiGj7uel7uVlPtOLf3x2w49Qe4ekG/L0GnVzuRXdJqNbzZpy5aDaw6kChjNoVdkgJL2B2tVmO9PMbSPWflbCFRZBfSc5i17p%2BB7eXseWD72d2w6S3L7R4zoVxVdfPYuTrBPjx6bSzd1F%2BOyIB3YXekwBJ2qVGlsgxsajlbaPIvhzDJDO%2BiCN7%2BLYb07DzqVvTm4eaV1I5zaznplikZFBPU7QcNHlY7kUN4sUsNynroiU1OZ9EOGbMp7IsUWMJuvdwtgjJuLhxKSOP7v06rHUc4mN3xKfy099rAdnufsX31OLgcDz6VoOf7MiVDAfl6uPLStTGb70f9zcUMGbMp7IcUWMJu%2BXsZeLGzZebqmWtj5fIYosDyTGZeX2EZ2D6oWSiN7Hlg%2B/H1sH8xaLTQ7wunvBTO3RjUrBJ1K3qTnp3HuzJmU9gRKbCEXXvsnjAigspwJctoHUsjxJ18u/M0R60D2%2B14xva8HFj9suV2i2eh0j3q5nFAun%2BN2fxx91miz1xRN5AQ10iBJeyai07LlGsfnt/tOs2hhFSVEwl7l5KZy3vXivGXutbEz9NV5US3sf0jSDkBXoHQfrzaaRxWkzA/%2BjauCMDkFYcwy5hNYQekwBJ2754q5ejVIBhFgUny4Snu4P31x0nLzqNWBW8eseeB7VfOwJZZltud3wQ3b3XzOLjx3SPwMriw/2wqS69NKiuEmhy2wPr444%2BpXLkybm5utGjRgl27dt12/SVLlhAREYGbmxv16tVj9erVJZRU2MLEHrXwcNWx9/QVlu1LUDuOsFNnMuDHa39cp/aqY98D29e9CsYsqNQK6g9UO43DK1/Gjec7VgfgnTUxpF41qpxIODuHLLB%2B%2BOEHxo4dy%2BTJk9m7dy8NGjSga9eunD9//qbrb9u2jYcffpjhw4ezb98%2B%2BvTpQ58%2BfTh06FAJJxdFFeTjxuhrH54zfoshLVs%2BPEV%2BiqKwNE6HokDvhsE0D7fj6/ed2Gi53qBGZ5nzSs4atIkhrSpTNcCTS5m5zI76W%2B04wsk5ZIH1/vvvM2LECIYNG0bt2rWZN28eHh4efPXVVzdd/4MPPqBbt26MGzeOWrVq8eabb9K4cWM%2B%2BuijEk4u7sYT94ZTxd%2BTixk5fLD%2BmNpxhJ1ZsT%2BR%2BAwNHq46JnSvpXacW8vL/Wdge/MREFRX3TyliKvLP2M2F%2B04RWxSusqJhDNzuAIrNzeXPXv20KlTJ%2BsyrVZLp06d2L59%2B0232b59e771Abp27XrL9YV9%2BveHZ%2BS2eP5Olg9PYZGRk8e7ay1HLP7XrgpBPm4qJ7qNHR/DpWPgGQDtJ6idptRpUz2AbnWCMJkVJv9yCEWRMZtCHS5qByisixcvYjKZCAwMzLc8MDCQmJibz4GSlJR00/WTkpJu%2BTo5OTnk5PwzaV1aWhoARqMRo9G5uqeu76897HfLcF861ypP1NHzTF5xiIVDm6BxwO4Ve2rT0mBO1N9cyMglwE3hsWbB9tuuaedw%2BX0mGiDvvskoLp5gp1kd%2BT36StfqbIo9z46TKfyy7yw96gWpHQlw7Da9W864zw5XYJWUGTNmMHXq1BuWr1u3Dg8PDxUSqS8qKkrtCAC0dIPNGh3bT6Yw45s1NCznuP%2Bh2kubOrLkq7Bgvw7Q8GBlM79v2qB2pFtqGvcRFY2ZXPKszh9nvOCs/Z9s46jv0Q5BGtac1TF5%2BX5y4vdi0Kmd6B%2BO2qZ3IysrS%2B0IJc7hCix/f390Oh3Jycn5licnJxMUdPP/UoKCggq1PsCECRMYO3as9X5aWhqhoaF06dIFb2/nOp3aaDQSFRVF586d0ev1ascBIMXnOB9tPsnaZE9eeOhe3F3t6NOzAOyxTR2RoigM/3ovJuUS7aqXo07ZZLttU03cFlz27ULRaPEe9Dk9guqpHem2HP09ep/RxKEP/%2BTslWzi3KoztnN1tSM5fJvejeu9QM7E4QosV1dXmjRpwoYNG%2BjTpw8AZrOZDRs2MGrUqJtu07JlSzZs2MCYMWOsy6KiomjZsuUtX8dgMGAwGG5Yrtfrne4X4zp72veR99VgWXQiCVeu8uWfpxjbpabakYrEntrUEUUdSWbr8Uu46rS83rMWh3cm22eb5uXCOst4K03T4ehDG6scqODssj0LQK/X8/oDdXh60R7m/3mKh5qHUdnfU%2B1YgOO26d1wtv0FBxzkDjB27Fi%2B%2BOILFi5cyNGjR3n22WfJzMxk2LBhAAwePJgJE/4ZPPr888%2BzZs0a3nvvPWJiYpgyZQq7d%2B%2B%2BZUEm7J%2B7q47XelrOFJu35SSnLznf4Wdnl2008ebKIwA82SacsHJ23HW/cx5cjAUPf7jvVbXTOI0utQNpWyOAXJOZN669V4QoKQ5ZYD300EPMmjWLSZMm0bBhQ6Kjo1mzZo11IPvp06dJTEy0rt%2BqVSu%2B%2B%2B47Pv/8cxo0aMDSpUtZvnw5devK6dGOrFvdIFpX8yc3Tz48ndGXW09yOiWLIG83RnaopnacW0tLhN/fsdzuNAXc7fjC06WMRqNh8gO10es0bIw5z4ajyXfeSAgbccgCC2DUqFGcOnWKnJwcdu7cSYsWLayPbd68mcjIyHzrDxgwgNjYWHJycjh06BA9evQo4cTC1jQaDVN61cZFq2H90WQ2x958ollR%2Bpy7cpWPN50AYEKPCDwNdjzaYcMbkJsBFZtCw0fVTuN0qgZ4Mbx1FQCm/nqEbKNJ5UTCWThsgSUEQLXyZRjaqjIAb/x6hNw8s7qBRImYvvooV40mmlf2o1eDYLXj3FpKHBz4wXK7%2B7uglY9cNTx3XzUCvQ2cTsniiy0n1Y4jnIT8tguH93yn6vh7GTh5MZOv/oxTO44oZn8ev8iqA4loNTC5V237ngdt24egmKBqRwhponYap%2BVpcGFiD8uYzY83H%2BfsZRmzKYqfFFjC4ZVx0zO%2BewQAH244RlJqtsqJRHHJzTMz%2BZfDAAxuWZk6wT4qJ7qN9CTY943ldpsX1c0i6NXAcn3KbKOZ6auOqh1HOAEpsESp0LdRRRpX8iUr18SM3%2BTDs7Ra8Gccx89n4O/lyguda6gd5/a2fwSmXAi9B8JaqZ3G6Wk0Gqb2qoNOq%2BG3Q0n8ceyi2pFEKScFligVtFoNb/Sui0YDK6LPsSsuRe1IwsYSU6/ywQbLRb4ndK%2BFj7sdz6uTlQJ/Xbv4fJsXwZ67MZ1IrQrePH5PGACTfzkkYzZFsZICS5QadSv6MKhZJQAm/3IYk9lxL6EjbjRt1VGyck00DStL38YV1Y5ze7s%2BB2MmBNWD6p3VTiP%2B5YXONSjn6cqJC5ks3BavdhxRikmBJUqVcV1r4uOu52hiGt/sOKV2HGEjfxz7Z2C75UilHR8RykmHHZ9absvRK7vj467nlWtjNues/5vzaTJmUxQPKbBEqeLn6cpLXS2XzZm1NlY%2BPEuB3Dwzk345BFgGttcOtvNrge5eANlXoFw1qNVL7TTiJvo3DqFhqC%2BZuSZm/BajdhxRSkmBJUqdR5pXon6ID%2Bk5eUxfLQPeHd38P%2BI4eSETfy%2BD/Q9sN2ZbBrcDtH4BtI51EXJnodVaBrxrNLBsX4KM2RTFQgosUerotBqm96mH9tqA9z%2BPy9lCjurclat8eG1g%2B8QeEfY9sB0g%2BlvISAbvEKg3UO004jYahPoyqFkoAJNWHCLPJAPehW1JgSVKpXohPtazhV5ffoicPLk8hiOatuoIV40mmlUuy4ON7HxguykP/pxjuX3vaHBxVTWOuLNxXSPw9dATk5TOgj/j1Y4jShkpsESp9WLXmgSUsczw/vnvcnkMR7P12AVWH0xCZ52Cw84Hix/6Ca6cBg9/aPS42mlEAfh5ujLh2oD396P%2BJuHKVZUTidJECixRanm76Xmtp%2BXyGB9tOs7pS3J5DEeRk2di8orrM7aHUauCnQ9sN5vhj/ctt1uOBFcPdfOIAhvQJJRmlcty1Whi8opDKIpM7yJsQwosUar1ahDMvdXKkXPtTDT58HQM8/%2BI4%2BRFBxnYDhC7Ci7EgMEHmg1XO40oBK1Ww/QH6%2BGi1bD%2B6HnWHk5WO5IoJQpdYJ05c6Y4cghRLDQaDW/2rourTsvm2AusOZSkdiRxBwlXrjJ3w3EAXu0ZgbebnQ9sVxTY%2Bp7ldvMR4GbH10cUN1UjsAxPt6sCwJRfDpORk6dyIlEaFLrAioiIYNKkSWRlSXeLcAxVArx45tqH59Rfj8iHpx1TFIVJyw9x1WiieWU/%2BjS084HtACc3wbl94OIO9zyrdhpRRM/dV51Kfh4kpWXz/rq/1Y4jSoFCF1hRUVGsXbuW6tWrExkZWQyRhLC9/3WoZv3wnBMlH572atXBRDbEnEev0zDtQQcY2A6w9drYqyZDwdNf1Sii6Nz0Ot7sUxeAyG1xHEpIVTmRcHSFLrBatWrFzp07mTFjBq%2B//jpNmjRh69atxZFNCJtx0%2BuY2rsOAAu2xXM0MU3lROK/rmTlMuUXy8D2kR2qUSOwjMqJCuDsbojfClo9tHpO7TTiLrWrEcD99StgVmDisoNyPVNxV4o8yH3w4MHExsbSs2dPunfvTv/%2B/YmLi7NlNiFsqkPN8nSvG4TJrPDa8kOY5cPTrkxbdZSLGblUL%2B/Fs%2B2rqh2nYPZ9Y/letx/4OEB3prijSffXpozBhQNnU%2BV6puKu3PVZhF26dOHJJ59k2bJl1K5dm5dffpmMjAxbZBPC5iY9UBtPVx17Tl1myR45YcNe/HHsIkv3nEWjgbf71cfg4gCXmMnLhSPLLbcbPqxqFGE75b3deLmb5XqmM9fGkpQq1zMVRVPoAmvevHkMHz6c%2BvXr4%2BPjQ8eOHdm6dSvPPPMMH3zwAbt376Z27drs3r27OPIKcVcq%2BLhbT/uf8VsMF9JzVE4kruaamLDsAABDWlamSVhZlRMV0PH1cPUyeAVB5TZqpxE29EiLMBqE%2BpKRk8cbKw%2BrHUc4qEIXWNOnTyc1NZXBgwezadMmrly5wp49e/j444956qmn2LhxI8888wxDhw4thrhC3L2hrSpTu4I3V7KMvL5c5sZS2%2Bz1f3Mm5SrBPm681LWm2nEK7uCPlu/1%2BstFnUsZnVbDWw/WRafVsPpgEptizqsdSTigIs2DtXTpUl566SVat26Nu7v7DesMHz6co0eP2iSgELbmotMyc0B9XLQa1hxO4tcDiWpHcloHzl7hy62WyxhNe7AuXgYXlRMVUHYaxP5muV1vgLpZRLGoE%2BzDE/dWBuD1FYe4mivXMxWFUywzuZcvX56NGzcWx1MLYRN1gn0YdV81ACavOCRdhSowmsy88tNBzIplxv37IgLVjlRwR3%2BFvGzwrwEVGqidRhSTMZ1qEOzjxtnLV5m1LlbtOMLBFEuBpdFoaNeuXXE8tRA2M7JDNWpX8OaydBWq4outJzmamIavh55JD9RWO07hWLsHB4IjzNUlisTT4MK0By1zY331Zxw7Tl5SOZFwJA53LcKUlBQeffRRvL298fX1Zfjw4Xc8a7F9%2B/ZoNJp8X88880wJJRb2Si9dhaqJu5jJnPXHAMtp8f5eBpUTFUJ6EsRtsdyu11/dLKLY3RcRyMCmISgKjFu6X64EIQrM4QqsRx99lMOHDxMVFcXKlSvZsmULTz311B23GzFiBImJidavd999twTSCnsnXYUlz2xWGP/TAXLzzLSp7s%2BDjRxs/qhDP4FihtAW4BeudhpRAl6/vzYVfd05k3KV6atkfLEoGIcqsI4ePcqaNWv48ssvadGiBa1bt2bu3Ll8//33nDt37rbbenh4EBQUZP3y9vYuodTC3klXYcn6YfcZdsal4K7X8daD9Rzjcjj/duAHy3cZ3O40yrjpmTmgPgCLd51mU6ycVSjuzKEKrO3bt%2BPr60vTpk2tyzp16oRWq2Xnzp233fbbb7/F39%2BfunXrMmHCBLlYtbCSrsKSk3DlKm%2BtthwBeLFLDUL9PFROVEgX/obE/aB1gTp91U4jSlCrqv4Mu3ZW4StLD3AlK1fdQMLuOcg50RZJSUmUL18%2B3zIXFxf8/PxISkq65XaPPPIIYWFhBAcHc%2BDAAV555RViY2P5%2Beefb7lNTk4OOTn/dBelpVmuXWc0GjEajXe5J47l%2Bv6W5v2uEeDB/9pV4cNNJ5i84hDNKnkX67ggZ2jT/zKZFZ5fvJf07DwahPjwWPMQm%2B5/SbSpNvp7dIC5SgdMrt5Qin9%2BzvgevZOxHavye%2Bx5Tl7M4rVlB5k9sH6htnfmNnXGfbaLAmv8%2BPG88847t13nbubV%2BvcYrXr16lGhQgU6duzIiRMnqFr15tc8mzFjBlOnTr1h%2Bbp16/DwcLD/um0kKipK7QjFKswMFT10JGQZefqLTTxRw1zsJ4iV9jb9t7VnNew%2Bo8OgVegVcIm1a34rltcptjZVFDod%2BRpPYG9edRJWry6e17EzzvQeLYjeQTDnoo6VB5Pwz0mgUbnCDylwxjZ1xl4juyiwXnzxxTvO/F6lShWCgoI4fz5/33deXh4pKSkEBQUV%2BPVatGgBwPHjx29ZYE2YMIGxY8da76elpREaGkqXLl2cbvyW0WgkKiqKzp07o9fr1Y5TrKo1SaPfvJ0cSNGihDagZ/0KxfI6ztSmAPtOX2Htzr8AhWkP1qNPw2Cbv0Zxt6nm7C5coi%2BguHrSYOB4GuhL9z9azvYeLYzscsf49Pc4Vpx146k%2BrQgoU7Cj3c7cptd7gZyJXRRYAQEBBAQE3HG9li1bWi/N06RJEwA2btyI2Wy2Fk0FER0dDUCFCrf%2B42kwGDAYbvyl0ev1TveLcZ0z7HuDSuUYdV815qw/xhurYmhdI7DAH55F4QxtmpZtZOzSg5jMCn0aBjOgWVixvl6xtekRy5ACTcQD6D18bP/8dsoZ3qOF9ULnCH7/%2BxJHEtOY9OtRvhjctFAnazhjmzrb/oKDDXKvVasW3bp1Y8SIEezatYs///yTUaNGMWjQIIKDLf8RJyQkEBERwa5duwA4ceIEb775Jnv27CE%2BPp5ffvmFwYMH07ZtW%2BrXL1z/uXAO/2tfjVrXzip85acDmM1yVmFRKYrCa8sOcfbyVUL93HmjT121IxWNyQiHl1lu15ezB52dq4uW9x9qgKtOy/qj51my56zakYQdcqgCCyxnA0ZERNCxY0d69OhB69at%2Bfzzz62PG41GYmNjrf29rq6urF%2B/ni5duhAREcGLL75Iv379%2BPXXX9XaBWHnXF20vDegAa4uWjbGnOezLSfVjuSwlu1L4Jf959BpNcx5qBHebg76X%2ByJjZB1CTwDILy92mmEHYgI8uaFzjUAeOPXI5y97HxjjMTt2UUXYWH4%2Bfnx3Xff3fLxypUr55vHKDQ0lN9//70koolSpHawN1N71WHCzweZuTaGhqG%2BtKxaTu1YDuXUpUxeX34IgDEdq9MkrKzKie7C9bmv6vYDncN9bIpi8lTbKqw/msyeU5cZt%2BQA3z7ZAq3WweZ1E8XG4Y5gCVFSBjULpW/jipgVeG7xPs6nZ6sdyWEYTWZGfx9NZq6J5pX9%2BF%2BHampHKrqcdIi5dsZg/YHqZhF2RafV8N6ABrjrdWw/eYk5G46pHUnYESmwhLgFjUbDtD51qRlYhosZOYxevI88k1ntWA5hzvq/2X/mCt5uLswe1BCdI/9XH7MK8q6CX1UIbqx2GmFnKvt7Mv3aBaE/3HCMdYdvPSejcC5SYAlxGx6uLnzyWGM8XXXsOJnC%2B1F/qx3J7m0/cYlPNp8A4O1%2B9ano665yort04EfL9/oDKfaJ0YRD6ts4hKGtKgMw9sf9nLiQoW4gYRekwBLiDqoGePF2P8sZp59sPsGGo8kqJ7JfV7JyeeGHaBQFHmoaSo96xTOPWIlJT4aTmyy35dqD4jZe7VmL5pX9yMjJ46mvd5Oe7Xwzl4v8pMASogAeaBBs/Q/1hR%2BiOZMiZwz9l8msMPbH/SSlZVPF35NJD9RWO9LdO/wzKGao2ATK3XxSYiHAck3Tjx9tTJC3GycuZPLSkv0yxYuTkwJLiAKa2KMWDUN9ScvOY%2BR3e8nJM6kdya68ufIIG2POY3DR8uHDjfA0lIKz7azdgw%2Bpm0M4hIAyBj59rDGuOi1rDyfz6e8n1I4kVCQFlhAF5Opi%2BQ/V10PPgbOpTFtZ9OtjljYL/owjcls8ALMfakjdiqVgpvPMS3Bur%2BV27T6qRhGOo1GlsrzRuw4As9bFsjn2/B22EKWVFFhCFEJFX3fmPNQQjQYW7TjFiugEtSOpbv2RZN5ceQSA8d0jHH/c1XVndli%2B%2B9eEMoHqZhEOZVDzSjzcvBKKAqMX7%2BPUpUy1IwkVSIElRCG1r1me567N6zT%2Bp4McSkhVOZF6DiWk8tzifZgVeLh5KE%2B3raJ2JNs5vd3yvdI96uYQDmlKr9o0qmQZUvD0oj1k5eapHUmUMCmwhCiC5zvVoHU1f64aTQz5ahfHzzvfadnnrlzlici/uGo00aa6P2/0rluoC97avdPXjmCFtVI3h3BIBhcdnz7aBH8vAzFJ6bzy08F8VxkRpZ8UWEIUgU6r4ZPHGlO3ojeXMnN5fP5Op7oWWUZOHk9E/sX59BxqBHrx8aON0etK0cdJbhaci7bcliNYooiCfNz49LHGuGg1/Lr/HJ9vjVc7kihBpegTUYiS5e2m5%2BsnWlCtvBeJqdk8%2BuVOzqeV/svp5JnMjPpuLzFJ6fh7GfhqaDPHvYjzrZzbC2YjlKkAvmFqpxEOrFllP16/3zJlyayoY2xOLEVHecVtSYElxF3w83Tlm%2BEtCPVz59SlLB6fv4srWblqxyo2iqIw5dfDbI69gJtey/whTQkp66F2LNv79/ir0tTtKVQxuGUYo66N21wWryNy%2BymVE4mSIAWWEHcpyMeNb4ffQ/kyBmKT0xny1S4yckrngNb5f8TxzY7TaDQw56FGNAj1VTtS8bg%2B/qpSS3VziFJBo9HwYpcaPNs2HIDpq2NZ8GecyqlEcZMCSwgbqFTOg2%2BfbEFZDz37z6YyPPIvso2layLS73edZvpqy9xfr/aoRbe6QSonKiZmE5zZZbkt46%2BEjWg0Gl7oVI3OFS0XjJ/66xEipcgq1aTAEsJGqgeW4esnWuBlcGFnXAr/%2B3YvuXlmtWPdNUVRmB31N%2BN/PoiiwJCWYQxvHa52rOJz/gjkpIFrGShfR%2B00ohTRaDT0DDXzzLUjWVOkyCrVpMASwobqhfjw1dBmuOm1bIw5z9gfozE58PXIjCYz4386yAcbjgEw%2Br5qTOlVp3RNx/Bfp66NvwptBrpScLkfYVc0GhjbqRr/a2%2B5tuWUX4%2Bw8NpVEETpIgWWEDbWPNyPeY81Qa/TsPJAIuOW7nfI6xZm5uQx4uvd/LD7DFoNTH%2BwLmO71CzdxRX8a4C7jL8SxUOj0TCua02evVZkTf7lsBRZpZAUWEIUg/Y1y/PBoEZoNfDz3gQGztvuUPNkXczI4eEvdljPFvzs8aY82sIJpitQFCmwRInQaDS83LUmz7T7p8j6enu8uqGETUmBJUQx6VGvAvOHNsP32sD3%2B%2Bf%2B4RAXfo2/mEm/T7dx4GwqZT30fDfiHjrXdpJr8V05DemJoHWBik3UTiNKOY1Gwyvd/imyJq04zJsrj5S6E2SclRRYQhSjDjXLs/K51tQP8eFKlpFhkX/xftTfdjsuK/rMFfp%2Buo1Tl7II9XPnp2db0bhSWbVjlZzr0zNUaAiupXB%2BL2F3rhdZ1%2BfJmv9HHL0/%2BpOjiWkqJxN3SwosIYpZSFkPljzTksfuqYSiwIcbjjH8671kGNVOlt/aw0k8/PkOUjJzqVfRh5%2BfvZcqAV5qxypZcoFnoQKNRsNLXWvy1dCm%2BHu5EpucTu%2BP/uTLrScx2%2Bk/Y%2BLOpMASogQYXHRM61OP2Q81wF2v488Tl5h5QMe%2BM1fUjsapS5k89fVunl60h6tGE%2B1qBPD9U/cQUMagdrSSJxOMChXdFxHImjFt6VSrPLkmM9NWHeWx%2BTtJTL2qdjRRBFJgCVGCHmwUwvKR91LF34MruRoenf8XkX/GoSgl/19qRk4eb/8WQ%2Bf3t7DuSDI6rYYnW4fz5ZCmeBqccHqCrBS4YJlIVY5gCbX4exn4YnBT3nqwHu56HdtOXKLr7C2sPHBO7WiikKTAEqKE1Qwqw0/P3EPDcmaMJoUpvx6h98d/siI6AaOp%2BCcmNZsVluw%2BQ4dZm5n3%2BwlyTWbaVPdnzfNteO3%2B2uh1TvqxcH329nLVwdNf3SzCqWk0Gh5pUYlVo1vTIMSHtOw8Rn23j7E/RJOWbWdjC8QtOdwn6fTp02nVqhUeHh74%2BvoWaBtFUZg0aRIVKlTA3d2dTp06cezYseINKsRteBlcGFrdzKs9amJw0XLgbCrPfx9Nu3c38fmWE6ReLZ4P0T2nUujzyZ%2BMW3qAC%2Bk5hPt7Mn9IU75%2BojnVA8sUy2s6DBl/JexMlQAvlj7bitH3VbNM%2BbIvgXbvbmLKL4c5lJBaLK%2BpKAoHz6ayyQHOeLZ3DtcPkJuby4ABA2jZsiXz588v0DbvvvsuH374IQsXLiQ8PJzXX3%2Bdrl27cuTIEdzc3Io5sRA3p9HA0JZh9G0cyrc7T/P19njOpWbz1uoYPlh/jIHNQnni3nBC/e7ubLZso4l9p6/w/V%2BnWRFt6WYoY3BhdMfqDGlVGVcXh/s/q3jI/FfCDul1WsZ2qUm7mgGM/XE/py5lEbktnsht8UQElaF/kxD6NKqIv1fRx0waTWb%2Bikth3ZFk1h1O4lxqNpX8PGg/LqD0TyxcjByuwJo6dSoAkZGRBVpfURTmzJnDa6%2B9Ru/evQH4%2BuuvCQwMZPny5QwaNKi4ogpRIOW8DIzuWJ2n2lbhl%2BhzfPnHSf5OzmDBn/Es3BZPt7pBPNSsEpXLeRDo7YabXnfb50vLNrLn1GV2xaWwKy6FA2evYDRZxnhpNPBQ01Be7FLTOQex34rxKiTstdwOkwJL2J8mYX5sGNuOrccvsnTPWaIOJxOTlM60VUd5%2B7cY2tcsz4CmIXSoWb5A/zRl5eax5e%2BLrDuSxIaj5/MdNXfX66gT7E1mrgkvZxyPaSOlvuXi4uJISkqiU6dO1mU%2BPj60aNGC7du3S4El7IabXsfAZqEMaBrC1mMX%2BfKPOLb8fYHVB5NYfTDJup6Pu54gbzcCfdwI8jYQ5O1GQBkDJy9msisuhaOJafz3zO5AbwMtwsvxVNsq1K3oU8J75gDO7QOzEbwCoWwpvpC1cGguOi0dapanQ83yXMnK5dcDiSzdc5b9Z66w/mgy648m4%2BuhJ6SsOwYXHQYX7bUvHQa9Frdr389dyeaP4xfINv4z5tPP05VOtcrTpXYQrav73/EfOXFnpb7ASkqy/GEKDMw/E3VgYKD1sZvJyckhJyfHej8tzTLpm9FoxGh0rkGG1/fX2fa7ON2pTVuG%2B9IyvBF/J6cTuf00u%2BIuk5yeTbbRTOpVI6lXjcQmp9/y%2BcP8PGhWuSxNw3xpVrksoWXdrYf6S%2BvP8W7ep9q4P9EB5pAWmPLybJzMMcnvve3Zsk099RoGNQlmUJNgjp3PYNm%2BcyyPPseFjFyuZBXs%2BUPKutO5Vnk61ypP40q%2B6LTXuwPNGI22PeHGGd9HdlFgjR8/nnfeeee26xw9epSIiIgSSgQzZsywdkf%2B27p16/DwcM4ZnqOiotSOUOoUpE1bu0LrmpbL5F01QWoupOZquJL7z%2B20XPBxhWreClW8FXxc04A0SDrFoSQ4VPy7YjeK8j5tceJXgoDD6WU4uXq17UM5MPm9t73iaNO6QK26cDoDruZpMJohT8Hy3cy/7mtw1SrU8lUI9khHo6Rz4cgJ1h6xeaR8srIc51qstmIXBdaLL77I0KFDb7tOlSpVivTcQUFBACQnJ1OhQgXr8uTkZBo2bHjL7SZMmMDYsWOt99PS0ggNDaVLly54e3sXKYujMhqNREVF0blzZ/R6vdpxSgVpU9srcpsqZlzeGwVARNdhRFRoWDwBHYy8R23Pmdv0ei%2BQM7GLAisgIICAgIBiee7w8HCCgoLYsGGDtaBKS0tj586dPPvss7fczmAwYDDcOAhYr9c73S/Gdc6878VF2tT2Ct2myYchJw30nugrNgKdXXws2g15j9qeM7aps%2B0vOOA8WKdPnyY6OprTp09jMpmIjo4mOjqajIwM6zoREREsW7YMsEzYNmbMGKZNm8Yvv/zCwYMHGTx4MMHBwfTp00elvRBC2I3r0zOENpPiSghhMw73aTJp0iQWLlxovd%2BoUSMANm3aRPv27QGIjY0lNfWfSdhefvllMjMzeeqpp7hy5QqtW7dmzZo1MgeWEEKuPyiEKBYOV2BFRkbecQ6s/17XTaPR8MYbb/DGG28UYzIhhEOyFlgyg7sQwnYcrotQCCFs5soZSD0DGh2ENFM7jRCiFJECSwjhvK4fvarQAFw91c0ihChVpMASQjgvuf6gEKKYSIElhHBeMv5KCFFMpMASQjinq5fh/LXpq6XAEkLYmBRYQgjndOYvQAG/quBVXu00QohSRgosIYRzOiPzXwkhio8UWEII53TpuOV7UD11cwghSiUpsIQQzintnOW7T0V1cwghSiUpsIQQzul6geUdrG4OIUSpJAWWEML5mPIgPclyu4wUWEII25MCSwjhfDLPg2KyXCJHziAUQhQDKbCEEM7nevdgmQqg1ambRQhRKkmBJYRwPjL%2BSghRzKTAEkI4HymwhBDFTAosIYTzSUuwfPeWKRqEEMVDCiwhhPORI1hCiGImBZYQwvlIgSWEKGZSYAkhnI90EQohipkUWEII52I2Q3qi5bYcwRJCFBMpsIQQziXrEphyAQ2UCVI7jRCilJICSwjhXK53D3oFgk6vbhYhRKklBZYQwrnIAHchRAmQAksI4VysA9ylwBJCFB8psIQQzsV6BEvOIBRCFB%2BHK7CmT59Oq1at8PDwwNfXt0DbDB06FI1Gk%2B%2BrW7duxRtUCGGfpItQCFECXNQOUFi5ubkMGDCAli1bMn/%2B/AJv161bNxYsWGC9bzAYiiOeEMLeyRxYQogS4HAF1tSpUwGIjIws1HYGg4GgIDklWwinJ0ewhBAlwOG6CItq8%2BbNlC9fnpo1a/Lss89y6dIltSMJIUqaovyrwKqgbhYhRKnmcEewiqJbt2707duX8PBwTpw4wcSJE%2BnevTvbt29Hp9PddJucnBxycnKs99PS0gAwGo0YjcYSyW0vru%2Bvs%2B13cZI2tb0CtenVy%2BjzrlrWcw8Aaf9bkveo7TlzmzrjPmsURVHUDjF%2B/Hjeeeed265z9OhRIiIirPcjIyMZM2YMV65cKfTrnTx5kqpVq7J%2B/Xo6dux403WmTJli7Y78t%2B%2B%2B%2Bw4PD49Cv6YQQn3eV0/TIeY1clzKsKbex2rHEcJpZGVl8cgjj5Camoq3t7facUqEXRRYFy5cuGOXXZUqVXB1dbXev5sCCyAgIIBp06bx9NNP3/Txmx3BCg0N5eLFi07z5rjOaDQSFRVF586d0etl5mtbkDa1vYK0qeZ4FC4/PIwSWI%2B8JzeVcELHIu9R23PmNk1LS8Pf39%2BpCiy76CIMCAggICCgxF7v7NmzXLp0iQoVbj0Gw2Aw3PRMQ71e73S/GNc5874XF2lT27ttm2adB0DjU1HavYDkPWp7ztimzra/4ICD3E%2BfPk10dDSnT5/GZDIRHR1NdHQ0GRkZ1nUiIiJYtmwZABkZGYwbN44dO3YQHx/Phg0b6N27N9WqVaNr165q7YYQQg1yBqEQooTYxRGswpg0aRILFy603m/UqBEAmzZton379gDExsaSmpoKgE6n48CBAyxcuJArV64QHBxMly5dePPNN2UuLCGcjVwmRwhRQhyuwIqMjLzjHFj/Hlbm7u7O2rVrizmVEMIhyGVyhBAlxOG6CIUQosiki1AIUUKkwBJCOA85giWEKCFSYAkhnEN2GuRYJgymjMziLoQoXg43BsueKYpCXl4eJpNJ7Sg2ZTQacXFxITs7u9Tt253o9fpbzvYvHEx6ouW7mw8YvNTNIoQo9aTAspHc3FwSExPJyspSO4rNKYpCUFAQZ86cQaPRqB2nRGk0GkJCQvDykj/IDs96BqF0Dwohip8UWDZgNpuJi4tDp9MRHByMq6trqSpEzGYzGRkZeHl5odU6T6%2ByoihcuHCBs2fPUr16dTmS5ehkgLsQogRJgWUDubm5mM1mQkNDS%2BV1Cs1mM7m5ubi5uTlVgQWWqwzEx8djNBqlwHJ0UmAJIUqQc/21LGbOVnw4g9J0JNLpSRehEKIESUUghHAOcgRLCFGCpMASQjgHKbCEECVICiwhhHOQLkIhRAmSAksAMHfuXMLCwnBxceGll15SLcfTTz/No48%2BWqhtLl26RPny5YmPjy/Q%2BoMGDeK9994rQjrhsHKz4Oply22ZZFQIUQLkLELB/v37GTt2LCtWrKBRo0b4%2BPiolmXGjBkYDIZCbTN9%2BnR69%2B5N5cqVC7T%2Ba6%2B9Rtu2bXnyySdV3VdRgq5PMqr3tEw0KoQQxUyOYAlWrlxJ8%2BbN6dGjBxUqVFB1qgk/Pz88PT0LvH5WVhbz589n%2BPDhBd6mbt26VK1alW%2B%2B%2BaYoEYUjsnYPBoOcGSqEKAFSYDm5atWq8dprr7Ft2zY0Gg2DBw8u1tczm8289dZbVK9eHTc3NwIDAxk6dCgA8fHxaDQaa1ffiRMn0Gg0rFy5ko4dO%2BLh4UHNmjXZuXOn9flWr16NwWDgnnvusS5bvHgx7u7uJCYmWpcNGzaM%2BvXrk5qaCsADDzzA999/X6z7KuyIDHAXQpQwKbCKiaIoZOXmlfiXoiiFyrlt2zaqVKnCzJkzSUxM5JNPPinQdm%2B99RZeXl63/Tp9%2BvQN282YMYPvv/%2Bezz//nNjYWJYtW0bbtm0BS1elr6%2Bvtatv//79aDQa3n//fV5//XX2799PpUqVGD9%2BvPX5tm7dSpMmTfK9xqBBg6hRowZvvfUWAJMnT2b9%2BvX89ttv1i7B5s2bs2vXLnJycgrVXsJByQB3IUQJkzFYxeSq0UTtSWtL/HWPvNEVD9eC/1i9vLyIj4%2BndevWBAUF8eCDD7J582Y6duzI0qVLb7ndM888w8CBA2/73MHBNx4tWLt2LQ888AAdOnQAICwsjFatWgEQHR1N/fr1reteL7h%2B%2BOEHAgICAOjVqxefffaZdZ1Tp07d8DoajYbp06fTv39/goKCmDt3Llu3bqVixX/%2BuAYHB5Obm0tSUhJhYWG33Q9RCqRdO5opR7CEECVECiwnd%2BDAAQDq1asHwPPPP88TTzzBwoULb7udn58ffn5%2BhX69Xr168corr7B7924GDBhAv379KFu2LGApqBo2bGhdd//%2B/fTu3dtaXAHExcVRrVo16/2rV6/i5uZ2w%2Bvcf//91K5dmzfeeIN169ZRp06dfI%2B7u7sDlMqLc4ubkC5CIUQJkwKrmLjrdRx5o6sqr1sY0dHRVKtWzTqwvH379mzevPmO27311lvWLrhbOXLkCJUqVcq37KWXXqJXr14sX76c2bNnW4ut8PBwoqOjuf/%2B%2B63r7t%2B/nwkTJtyQ93qXIoC/vz%2BXL1%2B%2B4bXXrFlDTEwMJpOJwMDAGx5PSUkByFe8iVJMugiFECVMCqxiotFoCtVVp5bo6GgaNGhQ6O2K2kUIUKNGDV5%2B%2BWVGjx6Nt7c3R44coVy5csTHx1uPYKWmphIfH0%2BjRo1uyDt69Gjr/UaNGt1wNuDevXsZOHAg8%2BfPJzIyktdff50lS5bkW%2BfQoUOEhITg7%2B9f0F0WjkyOYAkhSpj9VwCiWEVHR9OrV69Cb1eULsJ3332XoKAgmjVrhlar5bPPPqNcuXK0atWK/fv3o9PprF15Bw4cwMXFxdp1CZbxVpcvX87Xjdi1a1cmTJjA5cuXKVu2LPHx8fTs2ZOJEyfy8MMPU6VKFVq2bMnevXtp3LixdbutW7fSpUuXQu%2B3cEB5uZB53nJbjmAJIUqInEXoxMxmMwcPHizSEayiyM7OZvr06TRu3JjWrVtz8uRJNm7cSNmyZdm/fz8RERHWSUb3799PzZo1842v2rdvX76zDMEydqxx48b8%2BOOPpKSk0K1bN3r37m0907BFixZ0796diRMn5suxfPlyRowYUSL7LVR2fZJRnQE8Cj9uUAghikKOYDkxrVZLZmZmib3epEmTmDRp0k0fGzVqFKNGjbrlfYA%2BffrQp0%2Bfmz7vuHHjGDFiBDExMTc8vmrVqnz3FyxYQPPmzfPNnSVKsX93D8oko0KIEiIFlsinU6dO7N%2B/n8zMTEJCQliyZAktWrRQO9Zt9ezZk2PHjpGQkEBoaOgd19fr9cydO7cEkgm7IAPchRAqkAJL5LN%2B/foblpnNZhWSFM6YMWMKvO6TTz5ZfEGE/ZEB7kIIFTjUGKz4%2BHiGDx9OeHg47u7uVK1alcmTJ5Obm3vb7bKzsxk5ciTlypXDy8uLfv36kZycXEKphRCqkgJLCKEChyqwYmJiMJvNfPbZZxw%2BfJjZs2czb968fAOYb%2BaFF17g119/ZcmSJfz%2B%2B%2B%2BcO3eOvn37llBqIYSqpItQCKECh%2Boi7NatG926dbPer1KlCrGxsXz66afMmjXrptukpqYyf/58vvvuO%2B677z7AMsi5Vq1a7NixQwY6C1HayREsIYQKHOoI1s2kpqbedj6mPXv2YDQa6dSpk3VZREQElSpVYvv27SURUQihJimwhBAqcKgjWP91/Phx5s6de8ujVwBJSUm4urri6%2Bubb3lgYCBJSUm33C4nJ4ecnBzr/bS0NACMRiNGozHfukajEUVRMJvNDjEgvLAURbF%2BL437dztmsxlFUTAajeh0hbsM0e1cfw/9970kiu6mbWrOwyUjCQ1gdA8Aae8Ck/eo7TlzmzrjPttFgTV%2B/Hjeeeed265z9OhRIiIirPcTEhLo1q0bAwYMKJYJI2fMmMHUqVNvWL5u3To8PDzyLXNxcSEoKIiMjIw7Drh3ZOnp6WpHKHG5ublcvXqVLVu2kJeXZ/Pnj4qKsvlzOrt/t6lbbgpdFTNmdKzeshs0Dn/QvsTJe9T2nLFNs7Ky1I5Q4jTK9cMTKrpw4QKXLl267TpVqlTB1dUVgHPnztG%2BfXvuueceIiMj0Wpv/aG5ceNGOnbsyOXLl/MdxQoLC2PMmDG88MILN93uZkewQkNDuXjxIt7e3vnWzc7O5syZM1SuXDnfzOOlhaIopKenU6ZMGTRONlFjdnY28fHxhIaG2vRnazQaiYqKonPnzuj1eps9rzO7WZtqEnbjEtkNxTuEvOei1Q3oYOQ9anvO3KZpaWn4%2B/uTmpp6w9/Q0soujmAFBAQQEBBQoHUTEhLo0KEDTZo0YcGCBbctrgCaNGmCXq9nw4YN9OvXD4DY2FhOnz5Ny5Ytb7mdwWCwXrbl3/R6/Q2/GCaTCY1Gg1arvWMeR3S9W/D6PjoTrVaLRqO56c/dForreZ1ZvjbNtEzHovGpKO1cRPIetT1nbFNn219wsEHuCQkJtG/fnkqVKjFr1iwuXLhAUlJSvrFUCQkJREREsGvXLgB8fHwYPnw4Y8eOZdOmTezZs4dhw4bRsmVLOYNQiNJOBrgLIVRiF0ewCioqKorjx49z/PhxQkJC8j12vafTaDQSGxubr7939uzZaLVa%2BvXrR05ODl27duWTTz4p0exCCBXIHFhCCJU4VIE1dOhQhg4dett1KleuzH%2BHlbm5ufHxxx/z8ccfF2M6IYTdSU%2B0fJcjWEKIEuZQXYSi%2BMydO5ewsDBcXFx46aWXivW1XnrpJfr06WPT57x06RLly5cnPj6%2BwNsMGjSI9957z6Y5hJ2RLkIhhEoc6giWKB779%2B9n7NixrFixgkaNGuHj41OsrxcdHU3r1q1t%2BpzTp0%2Bnd%2B/eVK5cucDbvPbaa7Rt25Ynn3yy2PdZqES6CIUQKpEjWIKVK1fSvHlzevToQYUKFW6Y58vW9u/fT8OGDW32fFlZWcyfP5/hw4cXaru6detStWpVvvnmG5tlEXbEbIY06SIUQqhDCiwnV61aNV577TW2bduGRqNh8ODBxfp6Z8%2Be5eLFizRo0MC67NChQ/To0QNvb2%2BCgoJ48cUX803YunPnTlq3bo27uzsNGzZky5YtaDQaDh06BMDq1asxGAw3nBW6ePFi3N3dSUxMtC4bNmwY9evXJzU1FYAHHniA77//vjh3Wagl6yKYjZbJRb0C1U4jhHAyUmAVF0WB3MyS/yrkvLHbtm2jSpUqzJw5k8TExAKfXfnWW2/h5eV126/Tp0/fsF10dDQ%2BPj6Eh4cDsG/fPlq1akXjxo3Zu3cv33//PYsXL7bO7H/o0CE6duxI%2B/bt2bdvH6%2B//joDBgzAYDBYZ/bfunUrTZo0ueG1Bg0aRI0aNXjrrbcAmDx5MuvXr%2Be3336zdgk2b96cXbt25ZtUVpQS17sHvQJB53xz8Agh1CVjsIqLMQveUqFbYuI5cPUs8OpeXl7Ex8fTunVrjEYj999/P%2BfPn8fFxcVazNzMM888w8CBA2/73MHBN%2B5/dHR0vqNXI0aM4PHHH2fatGmA5YjasGHDWLlyJa%2B//jqjR4%2BmV69e1scjIiJYuHAhZ8%2BexcXF8vY9derUTV9Lo9Ewffp0%2BvfvT1BQEHPnzmXr1q1UrPjPeJzg4GByc3NJSkoiLCzsDq0lHIoMcBdCqEgKLCd34MABAOrVq0daWhpz5syhYcOGJCUl0aRJE3r06IG7u/sN2/n5%2BeHn51fo1/t3gRUTE8OePXtuGAPl6upKTk4Op06dYtOmTdauwOsMBkO%2BIu3q1au3vIzN/fffT%2B3atXnjjTdYt24dderUyff49X1zxutklXpSYAkhVCQFVnHRe1iOJqnxuoUQHR1NtWrV8PT0xNPTkwoVKgAQFBSEv78/KSkp%2BY74XPfWW29Zu95u5ciRI1SqVOmG1%2BvRowcAhw8fRq/XU6NGjRu2q1evHtHR0bi6ut5QFB09epQnn3zSet/f35/Lly/fNMOaNWuIiYnBZDIRGHjjOJyUlBSAAl%2BqSTgQOYNQCKEiKbCKi0ZTqK46tfy3y%2B66PXv2YDKZCA0NtV6L8N%2BK0kWYnp7OyZMnrWcQlilTBpPJhNFotF73MS4ujmXLlvHLL7%2BQl5dHXl4e2dnZ1iNUGzZs4PDhw/kyN2rU6KZnAu7du5eBAwcyf/58IiMjef3111myZEm%2BdQ4dOkRISAj%2B/v633RfhgOQIlhBCRVJgObno6Gh69eqVb1lKSgqDBw/miy%2B%2BuOV2Reki3L9/PzqdznpEqkWLFvj6%2BjJ%2B/Hiee%2B454uPjGTVqFIMGDaJbt24kJiai1%2BsZN24cL7zwAocPH2bMmDEA%2BQqsrl27MmHCBC5fvkzZsmUBiI%2BPp2fPnkycOJGHH36YKlWq0LJlS/bu3Uvjxo2t227dupUuXboUaj%2BEg7AWWHIESwhR8uQsQidmNps5ePBgvmIlJyeHPn36MH78eFq1amXT14uOjiYiIsJ6tMrHx4fly5ezZcsW6tSpw4gRIxg8eDALFiwAoEKFCnz11VesWLGC%2BvXrs2DBAoYMGUK1atXyFXf16tWjcePG/Pjjj4ClQOzWrRu9e/dm/PjxgKWY6969OxMnTrRul52dzfLlyxkxYoRN91PYCWsXoRzBEkKUPDmC5cS0Wi2ZmZnW%2B4qiMHToUO677z4ef/xxm7/eqFGjGDVqVL5lbdq0Yc%2BePbfc5pFHHuGRRx4BLAVh%2B/btb3pm46RJkxg3bhwjRozAz8%2BPmJiYG9ZZtWpVvvsLFiygefPmN8yfJUoBRZEuQiGEqqTAElZ//vknP/zwA/Xr12f58uUALFq06IZB5iVly5YtXLhwgUaNGnHx4kVmzpzJqVOnrNn%2BrWfPnhw7doyEhARCQ0ML9Px6vZ65c%2BfaOLWwC1cvQ1625XaZCupmEUI4JSmwhFXr1q1vOqD9ZstKQnJyMuPHjychIYHAwEA6derErl27bjn26/r4rIL695mIopS53j3o4Q8uBnWzCCGckhRYwm4NGDDglhOdCnFbGecBjXQPCiFUIwWWEKL0qdYRXjsPOWlqJxFCOCkpsIQQpZOLK7jI/GZCCHXINA1CCCGEEDYmBZYNKYqidgRhY/IzFUIIURRSYNmAXq8H5ILBpVFubi4AOp1O5SRCCCEciYzBsgGdToevry/nz58HwMPDA41Go3Iq2zGbzeTm5pKdnY1W6zw1udls5sKFC3h4eODiIr8qQgghCk7%2BathIUFAQgLXIKk0UReHq1au4u7uXqsKxILRaLZUqVXK6/RZCCHF3pMCyEY1GQ4UKFShfvjxGo1HtODZlNBrZsmULbdu2tXaHOgtXV1enOmonhBDCNqTAsjGdTlfqxuvodDry8vJwc3NzugJLCCGEKAr511wIIYQQwsakwBJCCCGEsDEpsIQQQgghbEzGYBXQ9Qkn09Kc79pmRqORrKws0tLSZAyWjUib2p60qW1Je9qeM7fp9b%2BdzjR5sxRYBZSeng5AaGioykmEEEIIx5Seno6Pj4/aMUqERnGmcvIumM1mzp07R5kyZZxuTqS0tDRCQ0M5c%2BYM3t7eascpFaRNbU/a1LakPW3PmdtUURTS09MJDg52mqlv5AhWAWm1WkJCQtSOoSpvb2%2Bn%2B1AobtKmtidtalvSnrbnrG3qLEeurnOOMlIIIYQQogRJgSWEEEIIYWNSYIk7MhgMTJ48GYPBoHaUUkPa1PakTW1L2tP2pE2diwxyF0IIIYSwMTmCJYQQQghhY1JgCSGEEELYmBRYQgghhBA2JgWWEEIIIYSNSYEliiwnJ4eGDRui0WiIjo5WO45Dio%2BPZ/jw4YSHh%2BPu7k7VqlWZPHkyubm5akdzKB9//DGVK1fGzc2NFi1asGvXLrUjOawZM2bQrFkzypQpQ/ny5enTpw%2BxsbFqxyo13n77bTQaDWPGjFE7iihmUmCJInv55ZcJDg5WO4ZDi4mJwWw289lnn3H48GFmz57NvHnzmDhxotrRHMYPP/zA2LFjmTx5Mnv37qVBgwZ07dqV8%2BfPqx3NIf3%2B%2B%2B%2BMHDmSHTt2EBUVhdFopEuXLmRmZqodzeH99ddffPbZZ9SvX1/tKKIEyDQNokh%2B%2B%2B03xo4dy08//USdOnXYt28fDRs2VDtWqTBz5kw%2B/fRTTp48qXYUh9CiRQuaNWvGRx99BFiuGxoaGspzzz3H%2BPHjVU7n%2BC5cuED58uX5/fffadu2rdpxHFZGRgaNGzfmk08%2BYdq0aTRs2JA5c%2BaoHUsUIzmCJQotOTmZESNGsGjRIjw8PNSOU%2Bqkpqbi5%2BendgyHkJuby549e%2BjUqZN1mVarpVOnTmzfvl3FZKVHamoqgLwn79LIkSPp2bNnvveqKN3kYs%2BiUBRFYejQoTzzzDM0bdqU%2BPh4tSOVKsePH2fu3LnMmjVL7SgO4eLFi5hMJgIDA/MtDwwMJCYmRqVUpYfZbGbMmDHce%2B%2B91K1bV%2B04Duv7779n7969/PXXX2pHESVIjmAJAMaPH49Go7ntV0xMDHPnziU9PZ0JEyaoHdmuFbQ9/y0hIYFu3boxYMAARowYoVJyIf4xcuRIDh06xPfff692FId15swZnn/%2Beb799lvc3NzUjiNKkIzBEoBlnMWlS5duu06VKlUYOHAgv/76KxqNxrrcZDKh0%2Bl49NFHWbhwYXFHdQgFbU9XV1cAzp07R/v27bnnnnuIjIxEq5X/fQoiNzcXDw8Pli5dSp8%2BfazLhwwZwpUrV1ixYoV64RzcqFGjWLFiBVu2bCE8PFztOA5r%2BfLlPPjgg%2Bh0Ousyk8mERqNBq9WSk5OT7zFRekiBJQrl9OnTpKWlWe%2BfO3eOrl27snTpUlq0aEFISIiK6RxTQkICHTp0oEmTJnzzzTfyYVtILVq0oHnz5sydOxewdGtVqlSJUaNGySD3IlAUheeee45ly5axefNmqlevrnYkh5aens6pU6fyLRs2bBgRERG88sor0vVaiskYLFEolSpVynffy8sLgKpVq0pxVQQJCQm0b9%2BesLAwZs2axYULF6yPBQUFqZjMcYwdO5YhQ4bQtGlTmjdvzpw5c8jMzGTYsGFqR3NII0eO5LvvvmPFihWUKVOGpKQkAHx8fHB3d1c5neMpU6bMDUWUp6cn5cqVk%2BKqlJMCSwgVRUVFcfz4cY4fP35DgSoHlwvmoYce4sKFC0yaNImkpCQaNmzImjVrbhj4Lgrm008/BaB9%2B/b5li9YsIChQ4eWfCAhHJR0EQohhBBC2JiMpBVCCCGEsDEpsIQQQgghbEwKLCGEEEIIG5MCSwghhBDCxqTAEkIIIYSwMSmwhBBCCCFsTAosIYQQQggbkwJLCCGEEMLGpMASQgghhLAxKbCEEEIIIWxMCiwhhMNavHgx7u7uJCYmWpcNGzaM%2BvXrk5qaqmIyIYSzk2sRCiEclqIoNGzYkLZt2zJ37lwmT57MV199xY4dO6hYsaLa8YQQTsxF7QBCCFFUGo2G6dOn079/f4KCgpg7dy5bt26V4koIoTo5giWEcHiNGzfm8OHDrFu3jnbt2qkdRwghZAyWEMKxrVmzhpiYGEwmE4GBgWrHEUIIQI5gCSEc2N69e2nfvj2fffYZkZGReHt7s2TJErVjCSGEjMESQjim%2BPh4evbsycSJE3n44YepUqUKLVu2ZO/evTRu3FjteEIIJydHsIQQDiclJYVWrVrRvn175s2bZ13es2dPTCYTa9asUTGdEEJIgSWEEEIIYXMyyF0IIYQQwsakwBJCCCGEsDEpsIQQQgghbOz/dpN6%2BAKdEuoAAAAASUVORK5CYII%3D"
     },
     "metadata": {
      "image/png": {
       "height": 400,
       "width": 600
      }
     },
     "output_type": "display_data"
    }
   ],
   "source": [
    "import numpy as np\n",
    "import matplotlib.pyplot as plt\n",
    "\n",
    "xx = np.linspace(-5, 5, 50)\n",
    "f1 = np.sin(xx)\n",
    "f2 = np.log(xx)\n",
    "\n",
    "print(\"Printing something useful...\")\n",
    "plt.plot(xx, f1, label='$f_1 = sin(x)$')\n",
    "plt.plot(xx, f2, label='$f_2 = log(x)$')\n",
    "\n",
    "print(\"Printing more useful stuff...\")\n",
    "plt.xlabel('$x$')\n",
    "plt.ylabel('$y$')\n",
    "plt.title(\"Two functions plotted\")\n",
    "plt.grid()\n",
    "plt.legend()"
   ]
  },
  {
   "cell_type": "markdown",
   "id": "5bdc7abc",
   "metadata": {
    "kernel": "SoS"
   },
   "source": [
    "## Feature 3: Live plotting\n",
    "Most importantly for the final assignment, live plotting is now supported. Enabling live plotting can be done by adding the magic command `%plot --mode live` to the top of the code. This works similarly to Arduino: when enabled, the serial output is monitored for a specifically formatted string:\n",
    "\n",
    "> `LABEL0 number0 LABEL1 number1 ...`\n",
    "\n",
    "For example:\n",
    "> `analog0 0.197 analog1 0.109`\n",
    "\n",
    "The example was printed using the function:\n",
    "```python\n",
    "print('analog0',value0,'analog1',value1)\n",
    "```\n",
    "\n",
    "Incoming data is automatticaly stored and appended to older data. The x-axis of the plot is automatticaly labled with the time elapsed from the start of the code to the arrival of the data in the serial output.\n",
    "\n",
    "Notes:\n",
    "- Due to differences in caching, the live plot flickers when Jupyter Notebook is run in the Firefox browser. In this case, it is best to use the Edge browser instead."
   ]
  },
  {
   "cell_type": "markdown",
   "id": "0247d0bd",
   "metadata": {
    "kernel": "SoS"
   },
   "source": [
    "### Plotting one variable:"
   ]
  },
  {
   "cell_type": "code",
   "execution_count": 4,
   "id": "3deabdd1",
   "metadata": {
    "kernel": "ALPACA - USB"
   },
   "outputs": [
    {
     "name": "stdout",
     "output_type": "stream",
     "text": [
      "\u001b[34mConnecting to --port=COM5 --baud=115200 \u001b[0m\n",
      "\u001b[34mReady.\n",
      "\u001b[0m"
     ]
    }
   ],
   "source": [
    "%serialconnect --port=\"COM5\""
   ]
  },
  {
   "cell_type": "code",
   "execution_count": 4,
   "id": "d963dcf3",
   "metadata": {
    "kernel": "ALPACA - USB"
   },
   "outputs": [
    {
     "data": {
      "image/png": "iVBORw0KGgoAAAANSUhEUgAAAlgAAAGQCAYAAAByNR6YAAAAOXRFWHRTb2Z0d2FyZQBNYXRwbG90bGliIHZlcnNpb24zLjcuMSwgaHR0cHM6Ly9tYXRwbG90bGliLm9yZy/bCgiHAAAACXBIWXMAAA9hAAAPYQGoP6dpAAB55ElEQVR4nO3deXxTZb4/8E%2BSZuleoHSDUhaRRcoOFXREsVKEUTtyGWRcELkwMxdc6L2Og4Mw6tzBmVHGjZFxRlyuIgw/FXVk0FopLhQYNlmEChUoS9MFaNM1SZPz%2ByM5J%2BdkKU1J0zT5vF%2BvvpTk5OQ8Ock53/N9nud7VIIgCCAiIiKigFF39QYQERERhRsGWEREREQBxgCLiIiIKMAYYBEREREFGAMsIiIiogBjgEVEREQUYAywiIiIiAKMARYRERFRgDHAIiIiIgowBlhEREREAcYAi4iIiCjAGGARERERBRgDLCIiIqIAY4BFREREFGAMsIiIiIgCjAEWERERUYAxwCIiIiIKMAZYRERERAHGAIuIiIgowBhgEREREQUYAywiIiKiAGOARURERBRgDLCIiIiIAowBFhEREVGAMcAiIiIiCjAGWEREREQBxgCLiIiIKMAYYBEREREFGAMsIiIiogBjgEVEREQUYAywiIiIiAKMARYRERFRgDHAIiIiIgowBlhEREREAcYAi4iIiCjAGGARERERBRgDLCIiIqIAY4BFREREFGAMsIiIiIgCjAEWERERUYAxwCIiIiIKMAZYRERERAHGAIuIiIgowBhgEREREQUYAywiIiKiAGOARURERBRgUV29Ad2F3W7H%2BfPnER8fD5VK1dWbQ0RE1G0IgoD6%2BnpkZGRArY6Q3I7QBV5%2B%2BWUhKytL0Ov1wsSJE4Vdu3a1ufw//vEPYciQIYJerxdGjBghfPLJJ4rn6%2BvrhcWLFwt9%2BvQRDAaDMGzYMOGVV15RLDNlyhQBgOLv5z//ebu3%2BcyZMx6v5x//%2BMc//vGPf%2B3/O3PmTPuDhW4u6BmsjRs3oqCgAGvXrkVOTg6ef/555OXlobS0FCkpKR7L79ixA3PnzsWqVavw4x//GOvXr0d%2Bfj727duHESNGAAAKCgrwxRdf4O2330b//v3x2Wef4b/%2B67%2BQkZGB22%2B/XVrXwoUL8dRTT0n/jomJafd2x8fHAwDOnDmDhISEjja/U1itVnz22WeYNm0atFptV29OULDNkdFmIDLbzTZHRpuByGm3yWRCZmamdC6NBEEPsFavXo2FCxdi/vz5AIC1a9fik08%2Bwbp16/DrX//aY/kXXngB06dPx6OPPgoAePrpp1FYWIiXX34Za9euBeAIwubNm4cbb7wRALBo0SL89a9/xe7duxUBVkxMDNLS0jq03WK3YEJCQkgGWDExMUhISAjrH6gc2xwZbQYis91sc2S0GYi8dkfSEJugBlgWiwV79%2B7FsmXLpMfUajVyc3NRUlLi9TUlJSUoKChQPJaXl4fNmzdL/548eTI%2B%2BugjPPDAA8jIyEBxcTG%2B//57/PnPf1a87p133sHbb7%2BNtLQ03HbbbXjiiSd8ZrHMZjPMZrP0b5PJBMDxY7BarX61u7OJ2xNq29WZ2ObIEYntZpsjR6S0O9zb501QA6yamhrYbDakpqYqHk9NTcWxY8e8vsZoNHpd3mg0Sv9%2B6aWXsGjRIvTt2xdRUVFQq9X429/%2BhhtuuEFa5mc/%2BxmysrKQkZGBgwcP4rHHHkNpaSnef/99r%2B%2B7atUqPPnkkx6Pf/bZZ351LQZTYWFhV29C0LHNkSMS2802R45wb3dTU1NXb0LQhcUswpdeegk7d%2B7ERx99hKysLHz55ZdYvHgxMjIykJubC8DRbSjKzs5Geno6br75ZpSVlWHQoEEe61y2bJkicyb2H0%2BbNi0kuwgLCwtxyy23RESKGWCbI6XNQGS2m22OjDYDkdNusRcokgQ1wEpOToZGo0FlZaXi8crKSp9jo9LS0tpcvrm5GY8//jg%2B%2BOADzJw5EwAwcuRIHDhwAM8%2B%2B6wUYLnLyckBAJw4ccJrgKXX66HX6z0e12q1IfsjCOVt6yxsc2iy2WwB6xKw2WyIioqCzWYLyendWq0WGo2m09Yd6vs60CKxzUD4tzuc2%2BZLUAMsnU6HcePGoaioCPn5%2BQAc9aWKioqwZMkSr6%2BZNGkSioqK8Mgjj0iPFRYWYtKkSQBcY6LcD7wajQZ2u93nthw4cAAAkJ6e3vEGEZGCIAgwGo2ora0N6DrT0tJw5syZkB0gm5SUhLS0tJDdPiIKvqB3ERYUFGDevHkYP348Jk6ciOeffx6NjY3SrML77rsPffr0wapVqwAADz/8MKZMmYLnnnsOM2fOxIYNG7Bnzx68%2BuqrAByz%2BqZMmYJHH30U0dHRyMrKwvbt2/HWW29h9erVAICysjKsX78eM2bMQK9evXDw4EEsXboUN9xwA0aOHBnsj4AobInBVUpKCmJiYgIScNjtdjQ0NCAuLi7kMliCIKCpqQlVVVUAeMFGRC5BD7DmzJmD6upqrFixAkajEaNHj8bWrVulgezl5eWKg%2BjkyZOxfv16LF%2B%2BHI8//jgGDx6MzZs3SzWwAGDDhg1YtmwZ7r77bly8eBFZWVn43//9X/ziF78A4Micff7551Iwl5mZiVmzZmH58uXBbTxRGLPZbFJw1atXr4Ct1263w2KxwGAwhFyABQDR0dEAgKqqKqSkpHRadyERdS9dMsh9yZIlPrsEi4uLPR6bPXs2Zs%2Be7XN9aWlpeP31130%2Bn5mZie3bt/u9nUTUfuKYq1CdZduZxDZbrVYGWEQEgDd7JqIAi8RxSJHYZiJqGwMsIiIiogBjgEVEEe/GG29UzFQmIrpSDLCIiGQEQcCKFSuQnp6O6Oho5Obm4vjx4129WUTUzTDAIiKS%2BeMf/4gXX3wRa9euxa5duxAbG4u8vDy0tLR09aYRUTfCAIuIyEkQBDz//PNYvnw57rjjDowcORJvvfUWzp8/r7jBPBHR5YTFvQiJKDQJgoBmq%2B2K1mG329FssSHK0upXHaxorcbv2X0nT56E0WhU3GIrMTEROTk5KCkpwV133eXX%2BogocjHAIqJO02y1YfiKT7vkvb97Kg8xOv8OcUajEQCkwsei1NRU6TkiovZgFyERERFRgDGDRUSdJlqrwXdP5V3ROux2O%2BpN9YhPiPe7i9BfaWlpAIDKykrFfQUrKysxevRov9dHRJGLARYRdRqVSuV3N507u92OVp0GMbqoTr8X4YABA5CWloaioiIpoDKZTNi1axd%2B%2Bctfdup7E1F4YYBFROSkUqnwyCOP4He/%2Bx0GDx6MAQMG4IknnkBGRgby8/O7evOIqBthgEVEJPOrX/0KjY2NWLRoEWpra3H99ddj69atMBgMXb1pRNSNMMAioohXXFws/b9KpcJTTz2Fp556qus2iIi6Pc4iJCIiIgowBlhEREREAcYAi4iIiCjAGGARERERBRgDLCIKKEEQunoTgi4S20xEbWOARUQBodVqAQBNTU1dvCXBJ7ZZ/AyIiFimgYgCQqPRICkpCVVVVQCAmJgYqFSqK16v3W6HxWJBS0tLp1dy95cgCGhqakJVVRWSkpKg0fh/ex4iCk8MsIgoYMR7%2BYlBViAIgoDm5mZER0cHJGDrDElJSVLbiYgABlhEFEAqlQrp6elISUmB1WoNyDqtViu%2B/PJL3HDDDSHZBafVapm5IiIPDLCIKOA0Gk3Agg6NRoPW1lYYDIaQDLCIiLwJrQENRERERGGAARYRERFRgDHAIiIiIgowBlhEREREAcYAi4iIiCjAGGARERERBRgDLCIiIqIAY4BFREREFGAMsIiIiIgCjAEWERERUYAxwCIiIiIKMAZYRERERAHGAIuIiIgowLokwFqzZg369%2B8Pg8GAnJwc7N69u83lN23ahKFDh8JgMCA7OxtbtmxRPN/Q0IAlS5agb9%2B%2BiI6OxvDhw7F27VrFMi0tLVi8eDF69eqFuLg4zJo1C5WVlQFvGxEREVHQA6yNGzeioKAAK1euxL59%2BzBq1Cjk5eWhqqrK6/I7duzA3LlzsWDBAuzfvx/5%2BfnIz8/H4cOHpWUKCgqwdetWvP322zh69CgeeeQRLFmyBB999JG0zNKlS/Hxxx9j06ZN2L59O86fP48777yz09tLREREkSfoAdbq1auxcOFCzJ8/X8o0xcTEYN26dV6Xf%2BGFFzB9%2BnQ8%2BuijGDZsGJ5%2B%2BmmMHTsWL7/8srTMjh07MG/ePNx4443o378/Fi1ahFGjRkmZsbq6Orz22mtYvXo1pk6dinHjxuH111/Hjh07sHPnzqC0m4iIiCJHVDDfzGKxYO/evVi2bJn0mFqtRm5uLkpKSry%2BpqSkBAUFBYrH8vLysHnzZunfkydPxkcffYQHHngAGRkZKC4uxvfff48///nPAIC9e/fCarUiNzdXes3QoUPRr18/lJSU4Nprr/V4X7PZDLPZLP3bZDIBAKxWK6xWq/%2BN70Ti9oTadnUmtjlyRGK72ebIESntDvf2eRPUAKumpgY2mw2pqamKx1NTU3Hs2DGvrzEajV6XNxqN0r9feuklLFq0CH379kVUVBTUajX%2B9re/4YYbbpDWodPpkJSU1OZ65FatWoUnn3zS4/HPPvsMMTExl21rVygsLOzqTQg6tjlyRGK72ebIEe7tbmpq6upNCLqgBlid5aWXXsLOnTvx0UcfISsrC19%2B%2BSUWL16MjIwMRdbKH8uWLVNkzkwmEzIzMzFt2jQkJCQEatMDwmq1orCwELfccgu0Wm1Xb05QsM2R0WYgMtvNNkdGm4HIabfYCxRJghpgJScnQ6PReMzeq6ysRFpamtfXpKWltbl8c3MzHn/8cXzwwQeYOXMmAGDkyJE4cOAAnn32WeTm5iItLQ0WiwW1tbWKLFZb76vX66HX6z0e12q1IfsjCOVt6yxsc%2BSIxHazzZEj3Nsdzm3zJaiD3HU6HcaNG4eioiLpMbvdjqKiIkyaNMnrayZNmqRYHnCkUsXlxTFRarWyKRqNBna7HQAwbtw4aLVaxXpKS0tRXl7u832JiIiIOiroXYQFBQWYN28exo8fj4kTJ%2BL5559HY2Mj5s%2BfDwC477770KdPH6xatQoA8PDDD2PKlCl47rnnMHPmTGzYsAF79uzBq6%2B%2BCgBISEjAlClT8OijjyI6OhpZWVnYvn073nrrLaxevRoAkJiYiAULFqCgoAA9e/ZEQkICHnzwQUyaNMnrAHciIiKiKxH0AGvOnDmorq7GihUrYDQaMXr0aGzdulUayF5eXq7IRk2ePBnr16/H8uXL8fjjj2Pw4MHYvHkzRowYIS2zYcMGLFu2DHfffTcuXryIrKws/O///i9%2B8YtfSMv8%2Bc9/hlqtxqxZs2A2m5GXl4e//OUvwWs4ERERRYwuGeS%2BZMkSLFmyxOtzxcXFHo/Nnj0bs2fP9rm%2BtLQ0vP76622%2Bp8FgwJo1a7BmzRq/tpWIiIjIX7wXIREREVGAMcAiIiIiCjAGWERB9NftZZi8qghnL0Ve0T0ichEEAfe%2BtgvzXt8DQejqraHOwACLKIi2HjHifF0L9pXXdvWmEFEXqje34qvjNdjxw0U027p6a6gzMMAiCqJmi%2BNIamm1d/GWEFFXarG4oioeDsITAyyiIGpyHlStNh5RiSJZs1UWYLGLMCwxwCIKoiZmsIgIygDLysNBWGKARRREzZZWAAywiCJdM7sIwx4DLKIgEQQBTc6rVgu7CIkimqKLkIeDsMQAK8JVmlpwoqqhqzcjIrRY7dJ0bGawiCKbPINl5RissMQAK8Ld9epOzHjxK9Q1Wbt6U8Jek7N7EGAGiyjSKTNYqi7cEuosDLAimCAIOH2hEZZWO6obzF29OWGvSXbFygwWUWTjGKzwxwArgplb7bCzyypoFLOGmMEiimgtVnYRhjsGWBFMnlExt7KUcGdrNMu6CBnQEkU0DnIPfwywIhhP%2BMHVzC5CInJqtriOAayDFZ4YYEUwZQaLv/DOphiDxS5CoojWZHVd4PLwG54YYEUwxaw2/sI7XZOVGSwiclDci5BjsMJSVFdvAHUdZrD8s/VwBU5daMIvpgzq0OubWaYhJH19vAbv7TsLu7NIWd41aZiRnd7FW0XdRYO5FS99cRw/zs5Adt/Edr%2BOt8oJfwywIpiyy4qD3C9n%2BeYjqGkwY/o1aeifHOv36xvNzGCFot9vOYrvKkzSv786XsMAi9qt8Dsj/rr9B5ysbsSr941v9%2BuaZVEV62CFJ3YRRjB5F6GZl1CXVd/iKMZa19yxoqws0xCaTM79eteETACO/SsI7LOh9hGLNDfIJg21B%2BtghT8GWBGMg67bTxAEqRu10eLfgVTEMW%2BhSaxH9B/j%2BgIAbHaBXebUbmImyt/vDOtghT8GWBFMXqaBGay2yQNQeVefPzjmLTS1OL/7PWJ10mPyfUXUFnFspTxgag/5BRcPB%2BGJAVYEYwar/eQBUVMHM1iKm7vy8w4Z4okxVhcFg9ZxSGz0s7uHIpfY9e/vRZNyDFZAN4lCBAOsCKbIqPh59RVp5Bm%2BjmawGhnQhpxWmx2tzvtFGbRqxOoc836YwaL2cgVY/n1n2EUY/hhgRTDFIHee8NskP3h2PIPFMVihpkW2HwxaDWL0GgAdH2dHkUesyN7i5zALDnIPfwywIpgyg8VfeFvk6f9AjMGy2tq%2BZP31ewfxk798w67ETiae5FQqQB8ly2B1cB9T%2BNpxogbX/%2BELFJdWKR4XM1H%2B9gKwDlb4Y4AVwRQZLF5CtUkegHY0g9Xkx70IPzxwHvvLa3GyprFD70XtI54c9VFqqFQqxOiYwSLvtpVW4eylZnx%2BtFLxuHg88H8MljyDxTpY4YgBVgTz54Qf6eRdhB09%2Bfpzs2cxc%2BVvbR3yj7hfDVpHYBWrF8dg8XMnJTEgqmtu9fq4udXe7vppNrugOAbwVjnhiQFWBJN3g/g7QDPSKGYRdniQu/JWOb4Oxna7IA285my2ziWOm4l2BlhSBotdhORGHGvlXmhYPhuwvVmsZrfuRHYRhicGWBFMfjd3ZrDaphiDFYAMFuB7HJay5hYDrM4knuikDJaOGSzyrkXKYCkDrJYO1LdzPxbw8BueGGBFMGUGi7/wtsgHsHZ0Cr/763yVapA/3sBMSqeSj8EC4JpFyM%2Bd3IjBeL1HBsv/ngD3oqTsIgxPDLAiWCPLBrSbchah/9kNu13w6Bbw9ZlbZY83tHTsvofUPmIXITNYdDm%2BMlgdmY3NLsLIwAArgjRbbPjuvEka%2B6O8dUtkX7G3WJWfjTtlJXf/P6sWL5%2BvrxIMii7CIBS8tLTacehsHez2yLmMtrTacfhcnayL0JnBcgZY3j73kzWNuNho6fRtEwQBR86bIvqka7U59k8ofSebZQGW/DjR0oEMVmd0EZZVN3T4RvTUORhgRZDfbD6EGS9%2BhX%2BfugRBEHirHJnffnQEM178CiVlF7w%2Bf6WzCOVdTuLJ3HcGy3XwDsYswleKy3Dby19j094znf5eoeL5z7/Hj1/6Gpv2ONocLc0idPy3ye1zr2kwY9qft%2BOev%2B/q9G377LtK5L%2ByEx%2BXR%2B7h%2BaUvTuDHL32NzQfOdfWmSMSgqNXuOnYKgjIz3d5io%2BLrxUkVVxpMn73UhNzV27HwrT1XtiIKqMj9BUegH6odNZXKqhtgsdlhk10dRnqh0R%2Bc9aZOX2zy%2Brz8wNmRWYTiwTlaq4E%2BynFQ9TXuTTEGq6XzA6zD5%2BsAAMcrGzr9vULFqQuO/f3deRMAVxehrwzWmYtNsNoEnL7Q%2BXXJyi84voPnIrgE2g/Vju9iKNWBk2eqTM6ue6tNUB5H/RyDlRitBQC0Cqp2l3jw5uylZggCcCqEPi9igBVRxGyIqdnqESREegZLHHPjnroXXWkGS5yxGaPTQOccUO2zi/AKx3v563xtMwDgYlPnd3%2BFCnHywAVnl5/BPYPlto9NzkC3yWq7ohNhe4gnX5MlcotPiseqUKoDJ89UiV1x7mOp/B2DJQZYAGC5zN0d2iIeM3gPzdDSJQHWmjVr0L9/fxgMBuTk5GD37t1tLr9p0yYMHToUBoMB2dnZ2LJli%2BJ5lUrl9e9Pf/qTtEz//v09nn/mmWc6pX2hSjxZ1zVb0dTBA0O4EgNO9wOmSP75tFiV2b92rV/MYOk00Gku00WomEXY%2BSeYc84A61IQxheFCvcuQI8xWG4XIPXOjIUg%2BH/POX%2BJ4/XqImd3eBAzt6FUpkR%2B8VXXZPV4DPC/TENSjCzAuoJxsGYpwGrt9AsAar%2BgB1gbN25EQUEBVq5ciX379mHUqFHIy8tDVVWV1%2BV37NiBuXPnYsGCBdi/fz/y8/ORn5%2BPw4cPS8tUVFQo/tatWweVSoVZs2Yp1vXUU08plnvwwQc7ta2hRjxomVqsHieYSM9giVkpX/cTcz9w%2BpvFapaNuRAzWO0p09DZt2xpNLei1nmyuNQUOQNk3bsAxW7bWJ33DFa9rKu2s/eJGMyb7aqQyuAEk9juUCqXIQ%2BsfWWw3Msv%2BOItg3UlpXLEizW7wJI7oSToAdbq1auxcOFCzJ8/H8OHD8fatWsRExODdevWeV3%2BhRdewPTp0/Hoo49i2LBhePrppzF27Fi8/PLL0jJpaWmKvw8//BA33XQTBg4cqFhXfHy8YrnY2NhObWsosdsFNFjEDFarxwnG3xuVhpvLZrDcri79HYclXonH6KIun8FqDd4YrIq6Zun/L0VQF6F7ABXtDKxi9G1nsIDOvxG0fMZpdb25U98rVIVaF6HNLigufMQu445msMRALEYX5brguoLASDGEIUQ%2BMwpygGWxWLB3717k5ua6NkCtRm5uLkpKSry%2BpqSkRLE8AOTl5flcvrKyEp988gkWLFjg8dwzzzyDXr16YcyYMfjTn/6E1tbI%2BSI6xo44/t/UbJVOMPHOE0okZ7AEQZCyEr4DrCvMYFnbn8EyB7GL8Fxti/T/wShBECrcAyiDHxks%2BR0QOoM8U1IV4QFWqAQL7pkpn2Ow2tnNJw4ZMGg1UpHbQGSw5OumrhcVzDerqamBzWZDamqq4vHU1FQcO3bM62uMRqPX5Y1Go9fl33zzTcTHx%2BPOO%2B9UPP7QQw9h7Nix6NmzJ3bs2IFly5ahoqICq1ev9roes9kMs9l1cDOZHLONrFYrrNbQ6koRt6et7aptcJ1I65otMDU52pYYo0W9uRVWmwCz2QK1unsMrG1Pm9urxWqDOKSqydzqdZ3N7oOeG82wJunb/R71zc7B1FFqNDsva5pbvH%2BXWsyuxxpk2%2BOrzedqm/Hu7rO4b1I/pMS3f5sA4MwF18zB%2BpZWNLWYodWE1tyXQO5rkXsApdUIsFqt0Kmd94C02BTvV9soOxY0mgOyLY3mVrz61SlMvyYVyXE6vLWzHHPG90WzLKg4f6nJ7/c6XtmAjw9V4D%2Bv648EWReUv05daMTrO07D3GpHWoIBi28c2KnfDbGdFotFytw2%2BPiNdESTpRVrvzyJ6dekYnh6gl%2BvrW9SBrqXGlpgtVrR0Kx8vMncvu1tdGZE9RpIGe3GFkuH29okO2aYmlpgje/4fu8soXbeDIagBljBsG7dOtx9990wGAyKxwsKCqT/HzlyJHQ6HX7%2B859j1apV0Os9T0qrVq3Ck08%2B6fH4Z599hpiYmMBveAAUFhb6fK6yGRB39/nqWpTs3gtAA5WlCYAjqProk3/BeQHfbbTV5vZqsALiZ3Oy/Cy2bCn3WOZUuRryhO8XX36N8sT2v8feChUADWprKlFvBQA1du3ZC%2BspzwGp%2B2scywJAbWOLx6QO9za/f0qN7RVqHC8rwx1Z/l0Ff%2BnWrvc%2B3ooEnV%2BrCJpA7GvAMU6lyaI89JWVHsMW01E0Or8LllY7Pv7nFojxxLEy1%2Be07esSVCRd%2BUDiXVUqrC/T4MuDJ9DYqsLJehU%2B2vMDeuoF6b2%2B2XcIeuNBv9b7%2BvdqHLigxoUzJ3Bdase3c/0JNXZVu74b9srjGBqAdl/Olk8/R6vdsX%2Bqa%2Bs9vv8dJX7e278tw8%2BH%2Bfc7udACyE%2BXB4%2BdwBbz9zh00fVbBYADh46g54XDHq93d/Sk4/t0rvwUhFYVABW%2B2lGC8ji/Nkvy7XnXdnxe/BVOxHdsPZ2pqcl7CZxwFtQAKzk5GRqNBpWVlYrHKysrkZaW5vU1aWlp7V7%2Bq6%2B%2BQmlpKTZu3HjZbcnJyUFraytOnTqFIUOGeDy/bNkyRVBmMpmQmZmJadOmISHBv6ufzma1WlFYWIhbbrkFWq33K5dvz9YBBxxFEu1Relw9/Crg%2BHfon56MMyccxTVvyr1FMegylLWnze119lIzsOcrAEBScgpmzBjrsczHl/YDF6qlf2ePnYCbhvRu93ucKv4BOHUCg/pnwljXghOmCxgxchRmjM7wWNZ64Dxw3HGQtthVuPXWW6FSqXy2ecu7B4CKKrQYkjFjxvh2bxMAbPt/h4BzFdK/x026AYNTO3iU7ySB3NeAs/tp5xeKx8aNzsaMcX1habXj8T2fAwCm3HyLlAH66J39QI1j/2ePHodbhqdc8XaUfVEGlJXBbkjEyYp6AMD5JhUGpCcDlxy/yaS0LMyYMdyv9f69fCcAE1KzBmPG1Ks6vH0b39gDVF%2BU/j1s5BjcOsL7cToQxP2cc/0UYPc3AAC7RocZM24KyPqPfX4cKDsJizYeM2Zc59drj1c1APt3SP/umdoHM2Zkw36wAig9JD0%2B4KohmHHjQG%2BrUPhm8xHAeA4jhl6N4wfO4aK5GaPHTsCkq9p/TJE7VfwDcPoEAGDU%2BBxcN6hXh9bTmcReoEgS1ABLp9Nh3LhxKCoqQn5%2BPgDAbrejqKgIS5Ys8fqaSZMmoaioCI888oj0WGFhISZNmuSx7GuvvYZx48Zh1KhRl92WAwcOQK1WIyXF%2B4FSr9d7zWxptdqAHOQ7Q1vbJh8rbWpphTgEJTFGB5XKMf3crlKHbNt8CcT%2BsNhd3acWm%2BB1fRa3C16zDX69b4uzxk2cQQu9c7aeTVB5XYcNrm5aQQCsglq6Rx7g2eaLzvUdq2xAVFQUVKr2d/NWmJRdHCaLPWS/A4H67VmbPceoxBp0zvUDWo0KVpsAi2z/yG%2B6bbZ7/474q8a532oalGPfrLJ6SDWNrX6/V0WdY5%2BaWmxXtJ3V9Y7tEo8PNnj/vgaaWfZba7RcWRvkjCZHeypNZr/X2Soof1P1Zsd2We3Kx1vt7TsumJ37ONaglcb/2dDx46/8ZtEWP49NwRKK29TZgt5FWFBQgHnz5mH8%2BPGYOHEinn/%2BeTQ2NmL%2B/PkAgPvuuw99%2BvTBqlWrAAAPP/wwpkyZgueeew4zZ87Ehg0bsGfPHrz66quK9ZpMJmzatAnPPfecx3uWlJRg165duOmmmxAfH4%2BSkhIsXboU99xzD3r06NH5jQ4B8sHSlla7NKA5VhcFfZQaLVZ7xNbCkg9Y91lo1G0wq783A/avTIOyG6bB3IpYve%2BfqniCvthoQaXJjLREg89l3Z13ziIUg4pIqIXl7T6DYqFRwDGzq67ZqhgIb5IPcg/QIOIqZ3B7QfaZR6lVilmElfUtHq9ri6XVjpoGx3qvtOyGOMC%2Bb49onLnYHLTjQ0OL7BZerXZYbfaAjP06d8nxXa83t6LB3Iq4Nn5T7txrn11xmQZ5XTytOMi9498rDnIPTUEPsObMmYPq6mqsWLECRqMRo0ePxtatW6WB7OXl5VCrXT%2BmyZMnY/369Vi%2BfDkef/xxDB48GJs3b8aIESMU692wYQMEQcDcuXM93lOv12PDhg347W9/C7PZjAEDBmDp0qWKLsBw5z4braLOceCO0TsKX7ZY7RE7k1A%2B7b7Zx0lEnOETrdWg2Wrzuz6PGJC1p0yD%2B%2BMN5lakel3SoUY20%2By7irp2B1g2u4AK5yzCIWnxOHzOFBHV3L3NTJMHWLE6jaMYryyI7owyDdXO4EletDbOEKU4Sfs7i7DS5ArIrqTsRovVJgURmT1icOZic9COD%2B7HqkZzK5Jirnxg4NlLrjFAxroWXJXS/q5w90DK9yxC/yq5x%2Bhct866sjINwaudR%2B3XJYPclyxZ4rNLsLi42OOx2bNnY/bs2W2uc9GiRVi0aJHX58aOHYudO3f6vZ3hpKFFeTUrHohjdVHQazVASyszWLh8odGesTqcq232O4PVJLsXoXg17uuE5X4LnbamqrdYbaiXPX%2B0oh5Th7YVjrlU15vRahegUaswJDUBh8%2BZIiOD5S3AinJd1HmrhdUZhUa9BU/xhiiPMg2CILS729cYoABLrL%2Bli1JLM1ODlsFyD7AsNiRd4bwiq82u%2BGwqTX4GWM7frz5KDXOr3RVgedTB8jODpb38nR3aQx5gdXadNmq/0JqPTZ3GM4PlSJdH61x1WCI2gyXvIrxModEesY5xBN66mdritYvQjwyWL2J3kEi8eXF7iLfISUswIDnekSGIhGru3rpQ3DNYjuUcn7sgCIoMlq9uZH/Y7YLXIqIxWmUGq8VqV3RPXo54X0kAuNTY8X0pBn%2B94/Sym5MH58TtHgAHohaWsa4F8rtbiRn89hL3iZgdFm/2LB4vopzlbdp7GyXxdYGqgyXfN%2BwiDB0MsMLImuIfMP35L71mIRrcrmqMdWIGy3XC70g1933llzD12WIUfld5%2BYV92HrYiKnPFuPg2Vps/74aNz1bjJ0/XPC5/DGjCTc99yUe263BT17ZecXFOBsVXYRt34uwh7OrosnciromK6Y//yWyV36K7JWfYuzThXh/31nv7yF2EeovX7nZPYPVVjV39wHSRytcAZb8cwUcgcIv/m8vfv5/eyAIgnQy7pMUjZ7Odl1oMOM/39wjLdNeX35fjanPFmOXj/329fEa3PRsMXaU1Xh9fvnmQ/jPN//t8wbYgeQtAxWtU47Bcixnw6/fO4jbX/5GcXJuTwbrVE0jbn6uGP/Yc8br85eaLGj1cj9Li83uMY6nytSCt0pO4ebnihXdXN4YZYFDrVsG68CZWtz0bDG2HlbWEBR/cyVlrn0ndl%2BmJOih1155hsUf7r/ntn7fNruA/3pnL371/75t8/t69lKz4t9G5wXmjhM1mPpsMXaccH0vtx42Iu/PX%2BJ4Zb30mHhcSE1wBFgtVjvMrTaPewrKA53aJgvy/uw4Pkz50zacqmnEjrIa5Pz%2Bc3zn/J1GX0GAZbcLWPDGv7H4nX3KDBa7CEMGA6ww8nzRCRwz1mPDvz0P6g1m5dWsmIFJjnddoXYkg/XJwQr8UNOIDw%2Bc68AWO3x44Bx%2BqGlE4XeV2HKwAidrGvHeXu%2BBCgAUl1bjbG0LWmwqHD5vws4y38FYe8gPSL4GqYoHsN7O7pJLTVbsPnURx4z1qDe3ot7ciouNFmw%2BcN7r66UMlqxLwFcw4X4ia%2BuELo6/ynBeWZ%2B80Ci1R/65Ao5B8FuPGPHpkUpUN5ilk05GkgE9Yh0B1r9PXcLnRyvx6ZFKmJrbf6D%2B58Hz%2BKGmEf867L0A8CeHzjv3q%2Bf3pK7Jird3luPzo1V%2BZeA6ylsXijiTCwASoh0B1sUGM/6x5wwOnau77OvdbSutQll1Iz7%2B1vv3odLkfWxVs8Umfdf0zqKnlSYz3tt7FmXVjR7BkTt5ZqbRYlOc8D87YsTJmkZs%2BLeyztv/23sWJ2sa8ekR17rFDFZKvD4gGRZ/uF8MtpXBOlphwpZDRvxjz9k2v6/nat0CLGd34SeHHMevTw65SpWs%2B%2BYkSivrsUl2DBJ/v73j9YhxBuNnLjZ53FNQ/hn9%2B9QllFY6jg%2BnLzRh%2B/fV2HKoApUmMwTBcXE7KCWuwz0Ih87VoehYFT45VCHdfBrgGKxQwgArTMizwt6uNH1lQUb2SZJlsPw/gJ6%2B0AjA8wrRH%2BJJodLUgirnlbP7SU3O/YB7%2BLzvZdtDnsFqsdph95JZEE9U/Xo6BoNU1bdI3aw/GpyMP84aCUA54FyuyZ8uQvcMVhsndLGLcEhaPHrH6yEIwDGj48pbPImcdw5kr5Z1JxrrWnDGmQ3J7BkjZbDkJyJ/xvCIAUOVj1lv4vNHvOyr72RZN/n/dxZvJyCD1nUo7BnrCKKPVzXAy1ehXV0w4mfvK/vi63NqsrRKJ%2Blk51yFSlOL9PkdPNv2d11%2Bb0kA0o285dt0%2BFydItvznXOfyLssxRmOKfEG1/GhizJYbQVYe09fkv7/TBvZPTHzp9U4uvKMsmMO4DoG2ewCDjuPPYdlxyBpULpWI1WBP3SuTnpcHIRv9nJDaJFRth8Lbrkau36Ti%2BQ4fYePv6VGV4ZN/lvlGKzQwQArTNTIzuvexkqIBy2N7FY4STFaZPaMvqIxWKcuOA5cVxZgOV5baTJLV87Hqxp8jnURAyKtynGSOHKFWQ/3lLq3E4n4WGYPZ4BlMksH5UG94zDMedB1HxPleg/ZtOzLDHL3GIPVZheh4/2S4/TSgV/MAoknEaPJ8fnKT6AVdS04c7FJapM4tkzOvwBLPGF5b7/4/PGqBo8soSLACkYGy8v3Si8bg5Uc5zhZyk9gcu3JEIifva/gwNfsQPmEhV4Gx/e7oq5ZCo7buvCQv69Ivg/FoKmmwSIFW02WVvxQ0%2BjcJtdrxf9PiZePweqqLkLfAcMeWYDlnqWSE0s0jOjjuP2C0e37Kv6Wy6obpO%2BHPBAVh09E6zTSOg6fM6HFuWwPZxdhi1sXoZwjUHa8z7D0BKlMREczhAfP1Ur/Lx8WwjFYoYMBVpioaXEFTt4O3uJBK1V2r7rsPolQqVSyH7h/P0ybXUC5M8CqaTB3aPCv1WaXtteRwTJL6/aVzRBPWoMSnAHWZU46l%2BM%2BYN09ABAEQQp6MqUMllk6maUlGqSuwwuNFq8ZMDGIi9VHQStlsLyPGfFnFqE4Bis5Xi8FeUcrTLDZBemzFE8e8gCr0tQinXT69oyWxpbJ1fox4F08cbif4N2ft9kFfF%2BpDFzkQVUwMljeskryDFYvZ3fpMR8BVrsyWFKA5X1ZaZaeW30n%2BTCiZOdP9WhFvVTK4WRNo0dmRE7c1%2BKkQ/lAd3kJh0POTFipsV56T/lxQ%2BoiTNB3%2BPjQUe4XFG1msE65Ks2fa%2BMiTwy%2Bxmc56h66Z7DEMVnfnqmVXmNqaUW58yJEzFRFazW4JsPxOzt8rk76LnjLYJmc%2B0kMpOQBVlqCq5SKroOfrzybKS%2Bvwi7C0MEAK0zUyM5r8gOpSDypZCRFS4%2BN6psEwHUF5e8gVqOpRZGFOVfr/72mHNPQHf9fUdeCC7IM0GEfgVOD8wAy0Blgna9rkQqndoR7YNhWbRuxi7DB3IoTVY4bJacnGtDLmfWw2QWvmZ8mb9OyL5PBEg%2B8bQ3yFU/UyXF6DHce%2BL%2BrMKGmwSydlCtqWyAIyllr52qbpaxjZo8Y9Iz1DLDa%2B5maW23S7MOq%2BhaPwcZWm10xGP/wOWUQJQ%2BqjlaYvAaogdTk/DwTDI4Tn1qlDHR6xjkiG1%2Bfe0C6CE2u%2BmPeRKlV6KF3fA7yTAXg%2B4LCarNLma4s5/dUnkWRlykQM2FHK1xBpDIAD50uQl%2Bf4fnaZpyXBfRtZdHF58Y5A6yaBguaLTZFUdZmiw3fOieEiMTPST7rL7uvI4P13XmTdOGUFO05yF0MhK923nqqorZF%2BoxTE1wXuq4xsO3/3ptbbYoJLfLZi8xghQ4GWGGiutmVwfIaYDmvCvv0cAVYI50Hio4eQE87uxZEZzrQTWiUjRmpa7Yqxrz4Gm8iXtEm6lwnEm9je9rL/QrZI8CSHbx6xuqkQa7HjI4DXHpiNLQatTSTyH1mn80uSJ%2BtcgyW9wOheKsUcVxUW1fw1VIXoQ7D0x0n62MV9YrukmarDabmVsUJ9OCZOlhsdmjUKqQnGpBg0ELtVmqpvV2EVbJuQatN8Cj14F6OQL6vLK12nKhynOTVKsfJ4dQF5fcq0MSMZXqi47dg0GoUdaaSvQSbcpebpSUIgqKL0NvsNjFDJHbrutNr1dJNt89cVP6ufHUTVppaIAiOYHFQb8dJXcxsNFlaFbW8xHV8V%2BFaV5PFJgUz4izC3vJJMEEOsMRMoq/vv7x7EPB9gWe3C9IwhOy%2BSVIwfeR8neJ4YzS1SMccsZtYCrCc98qK1mlwVW/HwPR6c6uU5RR/%2B/JAp9YZYIlB9MkLjbALjmEaveJcAdbljgfeHKuoV9xSSY4BVujokkKjFDiXGi349sxFlFS5ThDGuha02uw4Ud2AIanxUKlU3jNYmUkA0OEDqDj%2BSnT2YhOsNjsOnKn1OmAzMVqLEX0SFCczcQC2N74yWOIB16ABhqfH4/TFJhw5b8KPBjtulFrXZMWhc3XQalQY3S9Jah/guMo/c7EJA3u7igy6H5DkXYSN5laU1TgyVSqVY5BsaoIBJ2sapQNcunMGX3KcHrVNVtQ0mDEE8dK2XGh0BRjySu7bSqtx5mITMnvGwFjXAq3GceAVM1tJMVoYTS04fbEJP1Q3IDPJcVButdlxprYBA5JjpSvw3vF6DEiOg0GrRrPVhl0/uLpOAKDC1KwY5L7/zCVp26Oc29MjRqe4bYu3LsIzF5twWrbfk%2BN1Hl06laYW9IzVSdXQ3QP%2BPacu4evjjmnx52qbYLUJSIzWon%2BvGHx7tg7fVZiQ2TNG%2Bh4NTY2BXXCUGbDYVcjum4gEgxaCIODIeRNqm6y4JiMBCdFaHK%2Bqx%2BCUeGjUKlhtduwvr4Wl1Y7svonSTC8xQEpLNKC0sl5RAwuA4uTnjXu336maRqQnGaTvWW2TVQqoW53BtUGrQbPFhnO1zbgqJU76TK7pkwDs8XwPQ5QGiTrvJ9Avj1fjmoxEj8fFQDU1US9lJMV96D427tDZOnx9vAZ7TimDlCpTCww9Y6TvgbKL0I5Wmx1l1Y24OjXOZ/FT98/DarPjZE0jBqc4XnOqphFnLzUjKUaLazISPNYjjrlKTTDgQqPFZ4Aldg/26xmD8otNXjNY1fVm7D55EVabgCi1CmkJBqQm6nHmYjMOyLoDAceEHTErNGdCJtZsK8POHy5i7%2BmL0izsaK0GURo1hqYn4NsztdJ%2BlroIZcdQVwbLcSwQ4%2BzecXrFWFjx8z1zqVn6XaQm6DE41ZXdFDOeKc6uxYNumTY5lmkIHQywurnD5%2Btw/xt7AdkNgk0trXjxixN4seg4fpc/AvdcmyUFWH2cAVZKvF6q6SKe8P3OYLllGs5easbzn3%2BPNdvKfL5m7T3jMH1EmvRvb2N2UuL1qKo343hVPZosrVJdIpF4ANZrgGsyEvCvI5WKYOxnf98pDXy/f3J//Pb2a6TnXnJ%2BLmvvGYvpI9IBeI5ZkAdYBf84gE%2BPOMoc6KPUUKlU6B2vx0lZ9k78HJPjdDhRpRzoftffdkoHbZXKMdZHXlcod/V2fLb0Btz20teI1Udhx6%2BnSoFucpweQD12n7yI3NXb8enD1wEAXvnyJF78ogxrfjZWyg6JB%2B0hqfH49mwdth2rUrRJ3j3haKNy0D4A9Ih1BFhZvWJw%2BkKTRwbrQoMZ0/78pUeG7/7J/RX/rjS1YFh6Ah544984WmHC/0wbAsCR/bvYaEFpZT3ueW2X4jXD0uMxIDnOEWCdN%2BFYRT1e3nYCAHBNRjyyDSosfXU3AGBsvyS8/1/XYVtpFR54wxGdDOwdi7smZOL3W47ht7cNx/3XDcCzn5bir1/%2BAMCRrf1oyfUAXAFSRpJjv0V7BFjeM1hRahVa7QKaZd%2BXr45X497XduM/rx%2BA5T8eDkDZFed4v1YYtBos3XgAW48Y8dGS66SAZ0hqPNQqeMxW1Eepkei2Gf17xeDUhSZ8c%2BICvjnhuzRJekK0VHZDHPwsBnQZiQZU1ptxodGi2Ac6jRoW53hIg1YDQcy0xOoVdfJ%2B98lRvLHjFH7/k2z8LKefx3tv/74a89btVvzu/vCvY/j71yfx6r3jcE2fRNy8ervUff36/RNw09AUxTrEY1VaogHfVZh8DnLf7wyQbh%2BVgZe3nfAY5G6zC7j95a%2BlcWnpSQZHxjbBcW/F/W4B1rZjVbDaBPSI0eLWEelYs60M356pxaxXSqRlxO/KiIwExXitHlKA5dlFmJEUjVidRsqcyrsHHet0fL47yi5iR5lrn3y05DqM7JuEFqsNt77wFQBg5%2BM3Q6tRtzmb1N/beFHnYRdhNxeji8KQ1DikxwiYMSJVCpY2OQscnqhqgNVml06oU4emIHdYKv572tXSOvTajgVYYldOVi/HSfrspWap5lK/njEYmhYv/SU7swLfyAr6Aa6bDctdk5GAlHg97IKycKbIlcESpG4xcaD0pUaLYlahe2HL7aWOwGP799XSY%2B7TmsXugFabXbGceEWeIpsoIJ9mLbZRDGRqGsyK7Y9xdkX9aHBv/GhwMqK1Gphb7Vi/qxymllZU1LWgrtkqDXLPHZaCHw1ORrw%2BCnYB2HO6FgDwlfMq9/19Z1Hf0gqVCujrDJTEcVh7y5WZiYq6Fq8zHDN7ujKai340ELnDUvDT8ZkAPDNYu05eRLPVhhidBkPT4qUsyWa3GmiVphbUNVmx9/QlNFlseM9ZfDVnQE/cndNP8b0YmhaP7D6J%2BPkNgxRjyOT77cj5ehy55LqAOHCmFi1WG3afdLXxh2pXDa7dzszGUdkg9YNn66Qre/H7M2lQMmZmp%2BPnUwYqtr9HjA7ypMrPpwzEjwYn42/zxgMAmqw2qdvvS%2Bf3Q9wngOdFg3jCE8eaff5dpRQMDE6Nx4NTB2PO%2BEwpEwo4AvEEt4mdPx6ZgZnZ6R6fn/xvRJ8ELPjRAKnL6pKUwXJsU79eMViaO1jxmrkTMzHamc2urjdLXd8DkmOhUasUs4zf2HEKAPD4B4fgzWfOWlrbSl0Bvvh7PHLehO/OmxT3XpT/vlyfl3NCjvPCxVcGSxyAftNQR%2Ba6tsmqGK9VaqxHhTMzPCw9AYtvvAoAMMh5i5yv3N5bvJAalZmE4ekJmDW2r3RBKhKPlXfnZGFsvyQMTYvH7aMypOEWijINzs8%2BKVqLVNm%2BTZENcAccx%2BTBCXYMSY3D0LR4KYgTu4aPVzbgQqMFFxotUtey%2BJm6T5IAmMEKJcxgdXPjsnrgn0smY8uWLZgxYxSmvfANTtY0Sldtpmar4gDVO16PvztPFCJXBsu/K59TNY4D3PVXJeP0hXJ8e7ZWStNvXnydYuD0R9%2Bex0Pv7sdBt26/Ci9dhCnxBmj6qvD50SocPFuHcVk9Fc%2BLBxC9GlKA9UNNIxrMrVJNLPGmzGXVjWix2mDQatBqs0tjJuQz18QMlkrlSOOLGawT1Q2KMRXiiSZVdoAUsyCAK8ASx2C5z5aLdmbiesbq8H8LcvDQu/vx0bfn8cF%2BV4BS02CWMlhpiQb834IcPPXxd1j3zUkcM9ZjtACUVjq6LL887jhB9O8VK1UiF8f0iCcxsU3Gumavt2bpK8tg/XRCJn46IRObndvjnsESu5PuHNsHv8vPxv%2BVnMITHx7xCMQqTWbFOCHxZJCaYFBkE92JNY0OnzN5nFS/q3VFPHbBEVCJkwxE%2B8trAQDfOz%2BfC24B5YmqBozsmyRlEhKjtVhz91iP7dCoVegRo5MG%2Bd80JAXLbh0mbZPjO2JHtE4jfZ/KqhtgabVDF6X2yGA1OMdhiUHO%2B87PNz3RgJ6xOiy9xXGxM/XZYuk1%2BigNotSO6f9ikNS3RzT%2BJ2%2BI9w/Pzbu7HcVExX0ovndqggFLpg7GkqmDFcsvWb8PgGNsWH214/1GOssRiCUs2lOnSdyHpy804VKjBT1idaisd83YE8sZiNy76QBZBksMsLwEDC1Wm/S9u6p3PBKjtahrtuLcpWZpzNM%2B50XGtQN74f8W5EivHdU3Ee/uhsctiMT9NrJvEtRqFZ776SgcPleHH7/0tbSMGPwMz0jA%2B/91nfS4%2BF2z2Bx19NRqlZTBSozRIjXegB%2BqGxXtEqUnGrDkGjtmzJgMrVaLu14twc4fLsImiGVoXL%2BlKlMLesfpcdzZHTxhQA%2BPbGaz1SZtA3UtZrDCjDy7AjjumSUObtVHqaUbDct15FYYdruA0xcdB4zrr0oG4JqpI89uiMSD9dEKk%2BJ9KmRdF1IbEvRSrRlvA3rFA7Be4xgvIx6wjlaYpOWnDktBr1gdbHZBOgmerGmUsnTHjPVodWaKxDFY4qBysQvMPQ0vfk7yz1h%2BsBRLNYiZouOVygAgRqfsihJPBO7T48UMlpgZGyYOXjfWo6bFtb3iGDBxlhIADHcbmzPYebVefrFJOlHLr3rlGSyRe/ZDJGbFxjsD3pHOWagi8R5%2BlaYWr/st1e3E4m5oWjxUKmfJD6sN0VoNplztyE7YBMfJQgxij1fVS2OO3Lv4TtU0wtJqxwVnoCtOkxcDL6lkhtv%2BkOsl%2B/6K%2B1v%2BPuJJX6yV1WoXpG5j9/vcNVpaYWp2FRAVfyfuA9zlY8HEshHysiqX%2B/zkxC4rV4Dl%2BI65n9xF4ne3qr5F6m4Xf4PyMg3y17tfkJlarCiVXVSIF1PiJIhKU4uUucsd5rgh%2BXfnTYr12ASg2RnIiV1p3jJYYpYwWqtBQnSUlGmSD3Tf5wz2xvTroXitOPZU1LeH8jcwOtP1GxqcGicVJwWUt1SSk9dRs9jsEATBFWBFa6V7GMrb5Ys4PkvMkspn2VbVm529EgISDFEYnOI5C1UQlPW4qOswwAoz8h8y4BgHIJ4M4g3eE5Y6jf%2BFBKvqzWixOmah5QzspXjuWrd/A45uxARDFCytdkVmp8J5wB3dL0l6LCVeL6XcD7kFOa2y7k6985g2oo%2BrLo14csjuk4hrnCcI8QpQfqAyt9qlE6J4ABfH3ogBlvt7a5z9RimyA6R80kDvOGWA5Z7Bcg%2BwhnqZol/TYJH2gxgMi/WtSo0NONfoeVU6RDYYVgxSRGLXjxjwRKlVGNg7VnpePgZL5Bog7cpgNVtsUnkAcar70PR4RbAmft6VJrPXCQqXO7HE6qMwoJdr24alx0s1hwDHif5m53idQ2frpC6iW7PTFOtptQv4oaZBmlwgfh/Fe8uJXXaxet8JfPk4LDH4UKtV0j5sMttwUdZlA7hmlVa6BVgNLa0eWS3A1Z0rkp%2B8xWBL/l1LucznJydmisQsj9FtkLS7lHjH49Ums3Rh4T7L2GKzKy6cvjcqLyAOlNcq6ngdPFOLBnOrdEFkNJmlAGvSoF7oEaOFxWZXlIqQ99aL3WrexhRJ46oSDVCpVNLsaPlAd/GCQPy%2BiganxCnqno12C7jkFw76KI00SB3wDOZdy7nWZ7ba0WixSfeaTIrWue3HtgNltfMHLGah5dn2qnqzdBwbnpGAWL337eE4rNDAACvMuF/l1jVbpVlecT5OKB3JYInjr/r2iEbPWJ00QwtwHDzdqVQq6cAlnuzldXvkB7ne8Qbp6rmsukFxBSsvCmpwHlvErM2R864MVnafROnkLB8DIvddhQmtNrsU0IgnD7Fqs3sWRjw5pMa7PmN5QJsc73i9rwyW%2B%2BBwbzWQauQZLGfwclVKHDRqFWqbrYquMtHVsvW4Byni1XuZs3siOU6vGFciFk6VE7Mf8jpY356tRatdQGqCXrri10dpMEwWJIyUAixXBks%2BW6o9GRj5%2Bq7JSJSCSwAYmByLoc5s3qffGWEXHNmB6wYle6xn7%2BlLUoZP/D6KAa8rg9VGgOW8XY5Bq1b8bqQAy9oqBVQicf0VXroIvZVOcc9gyU/e4gk7Rf5d8yeDFavMYImz0HytQ8zSHT5fh6p6M9QqVwCol93KRZ4Zcf99iGUTxIzPt2frpPcF3Irb9oiWMkkHZOMFW5yr10eppdpS3upgybs8xfUBrmKjNQ1mnL7QBJXKM4CK0qgxQpbplT/fJylaypKKsvu4lnWfcSrSatTSd72l1SZlr3QaNQxateJzv9x%2BlAdYdrugGMdZbWqRAq7h6YkeFwniz60jRZ8p8BhghRn3k5ipuVW6/YavK/aOzCI8LQ1wd5zMxQOcSuUYzOyNWKBPvEKW1%2B0ZmuY62aQk6JESb0BaggF2QZl5EoMtrUYF8aJxhPNEsONEjTQwdESGZ4AlHpjinZ/Dd%2BdNaJIFPeL0/GarDVab3aOquHjCll%2BNygcmS2Ow6i0QBAHfVykzWKfdylr0SYqWtkVU3WCWyjSIFd8NWg0GJjs%2B539Xq6T2i%2BQZLECZGRkjywwCjmyMGBTqotRS1k1O7CI0t9qlA7U4tmZcVg/FtPpRfV0nn5HOE9X3lfVSdmna8FTp%2BctlsABl0HFNRoLUPQo4Mg9iNkHcz1fJHpMrcd4APF4fJZ0gv69sgN0uuO4L6ePqH3BlsFLiDYr2ijNaG802j1vpiP8WM1hilqTRV4CV0VYXoXJChVaj8lpt3xdxH9Y1W2GzC1IGKy3R%2Bz4Qs3RiN%2BrglHiprfJb5bRY5AFWrWIdYpfcj0dmAHCUEpCXh7jYaJFKu/RJisaYTEfwLx%2BHJQ6LijdESYGttzFY8gyWuD4AOOu8CBK3ZXBKnOLiTyTPUskDrFGy7kHRNbIAy1cXIaAMRMUB7gnRWqhUKkVQdbkLDVcXoaNrX35RWVVvljLywzMSPC4SxHIRrOYeGjjIPcy4n8T8yWAdOHMJf9h6DL%2BYMgiJ0Vp8eOAcdp%2B86PU1YhdQf%2BcMwr49onHkvAnD0hKkH7m7kdK4qloAUNxqRh6oiCeVEX0SYTS14LnPSjGodxz0URpcP9iRjXAcWBwHMfEAKFZ17tczBokxWqlW0NEKE37zwSHpQP7jURl4d3c5thyukDJoUWoVEgyOA3FJ2QUcq6iHpdWOeEOUI3skG4/UW5ZVEItVArJZhA1m/Pq9Q6htsnqdgi9SqVQYkhavKJhYU2%2BG1XkLHXn327D0BByvaoDgLMdx45AUFH5XCa1Ghf7JsYr1Ds9IwD8PVqBHjBZZPZXPJcfppM%2B6b1K014GwcfooqSTBoXN12HrYKM0Kc59w4LgbwGkArv0rBur9esbgpqEp0uy%2B9mSwhrtlsPr3ioU%2BSg1zqx2DU2I9gqnBKXEYlOJq41UpcThR1YCdPzgCrF5xOmmM2rnaZix73zX7rT0ZrN5uYxrFDNYrxSek7qiJ/Xti96mL0lg/sajlwOQ4Z5mBVo%2BLlzh9lEf3rPzkLWWwnL/nlHiDX4OWk6Idv0FBAJa9f1D6rckzYnLu3Y8jZEGF/E4P8k344lgVfiObTSgG4fdOysKHB86hqt7sEYSJmZ2%2BPaKlYQFfHq/Bbz44BLvdjiNnHe8Vq4%2BSLgjrW1qxfPMhzMzOkLKR0i1nEpUZrH%2BfvIjffHAIh50XU%2B7dg6JRinFW8dKkGPdxhYDrAg7wncECHJ9Tk8WG1YWl0ucnBropigCr7QsN8TO2CZ63C6s0tbi6CNMTFAPgo9QqxBuicLHRwpmEIYIBVpjp78woJcfppcHC4gyXeIPnlRzgGtB75mIzXikuQ7whCnPGZ2LpxgM%2BgwORWAxvSFoCPj1SiRucg5K9ETNYpcZ6tFhtOO6cBZaRZEB6UjR0GjXUatdJbVxWD3x%2BtBI7f7iInc7CmeL0ffnYg4xEg1Q7C3DUSQIcVd7FWVjv7HLMqjJo1fjp%2BL54d3c5zlxsxpmLjhldveP1UhfNtlLX9O0x/XpgdN9EvPjFCQxwBjIJhij0iNGittkqlagAHJ%2B5QatGi9WOjc4yGVelxGFC/554Z1c5JvT3PNiPzkzCntOXkNnTUZunRpbB0snGdYzsm4iPvj0PwJHNmDsxE4XfVWJ4RqLHxAXxirx/smN2YXqiQbri79czRgrIrkqJgzcqlQpJMTrUNJix4sPDinvyXTtQGWCJJ7DkOD0ye8YgTh8ldemM7ZeEawc4Tog9Y3U%2BA3y57D6J0GpU0EdpMDg1DlEaNbL7JGDP6Vpk901EcpwOqQl6KTMyPCMBMbooDOodi7LqRvxkTB/86dNSaSZnrzg9kmJ06JMUjXO1zdJ%2BiddHKcbhuBNP2P3culB7x%2BtxzFiPz4%2B6yhD8x7i%2B2H3qIs5easbZS03S7LSrUhwBVqPZJo0HG5Iaj9LKeozpl%2BQRMEXLtkfcNvFOBe7bcTm6KLX0m/jHnrPSOn2N40pPjJaCagAYm5UkPScf5G6XDbKqNJml35WoR4wWo/om4erUeBwz1ktlW%2BRidRokRmsxum8StBoVLjZaZOsRB/cbkBSjlepzvb2zHF8crcKOZTcDcAWxYoAlfper6pXbNNFHNn1svx5QqRwlFBIMURiQHIvvKkzSvQrl5N3UbX2He8XpcanJis0HzmPzAcdvVcye9esZA7XKkdHyllGTk3cRiuNExRpy356tQ31LK7QaFa5KiVPUItRFqRUZVup6DLDCzDUZCXh%2BzmhclRInTS/%2B3hnI%2BLpymjo0Fb/LH4Hi0mp8frQS%2B05fQlbPWNgFR%2Bp99vi%2BXl%2BXGK3F7HGO5xbdMBB9k6Jx26gMn9vWJylaOlAcM9ZjuzOQuXZgL8Tpo/C3eeOhVaukLon7JmVBF6VGfYsVpcZ6/OuwUZrqLB8wrlKp8Lf7xmNbaRV0UWrcOcaxTWq1Cn%2BfNwFfHXcFTDkDemFMvx544a7RimKhU67ujc%2BPKk8GD029Cv8xLlMKAH80OFl6v7/PG48LDRZFVkYXpca6eROkOkwqqHDL8FQM7B2L4RkJ0swpxXvkDsbg1DjEG7T4r3f2oabBAmurcgwWAPwspx8EwY69B7/DXbkTcePQVKy9Z6zX7rFJA3vh2dmjpO67V%2B4Zh%2BLSKhi0Gswa2xeJ0Vo8c2c2rrvKc%2BySqEeMFjUNZim4umtCJiYN6uVRQbx/ciz%2Beu84JDsLnb42bzxKfrgg7Ye0RANevXccesbqfFb%2BlkuO0%2BPNBybCoNVI2YJn7hyBtz/ZjskDe0KlUuHVex37OjFaK9XsemnuWByvqsekgb3wp09LpfWJ4%2BrW3jMOXxyrggBHgDB5UHKb2zNzZDosNjtuHKK8YHjqjhH457fnpSn0veP1mDWuL/78%2BfeoqGuRgpl%2BPWNcs%2BBk1ezvubYfEqK1GNvP80SuHIPl%2BP/JA3vij/8x0uuJ/3L%2Beu84RZ2pif17Ku5qIJcYrcXf5o3Ht2dqkRStxX%2BMc/3mxdfYBVd28g%2Bzsj1mSwLADVf3hkatwsi%2BiThmrJeyWnJ9ekRDpVIhMUaL1%2BZNkMop2G12fH/8ewy5%2BmrcNroPYnRR%2BPu88dh7%2BhJe3nYC5%2BtaUFHXjPTEaFf2O0EMsOLx4twx%2BKHaNe6xV6wOt430fjzK7BmDv97j%2Bl6unjMKRytMXjNeBq0GGxddiyaLrc3g6Pk5o/HRt%2BfxqrO4rfi5Ao7vyV/vHY8eMdrL/g7kswjlN5m/2GiRxkUOTol3BFSygE8fpcbdOf1Q22TxOyCnzsEAK8yoVCrkj%2BkDwHGVXm9ulcaGpCd67x7QRalxz7VZGJYej8%2BPVuLAmVopcLhleCoeyb3a6%2Bvk4vRR%2BOmEzMtu28i%2BiSgurcbe05fwtbPo6E1DHDPDprhlv2L1UVhw/QAAjoKO/zpslLI77uPJRmUmeUy/BhwZFm8HzTtG9/F4TF4ENTnOUZ9IPBjOnaisWu3eVSaafFUyJnsJXO7OyfK6fIJBizkT%2BklVoavrzTC7jcECHGN/7p%2BUhZRLR3Cds5tErETvTqVSKU6QozOTPAb63uXWHnc9ZLPFVCrgNzOH%2BcyA5l3jmsWXM7CXx6zSabLn22Oy26D1rJ4xGNNLkPaFt309PCMBwzMSIAiCVBMJcN1TLrtvopRBbQ%2BDVuOxzwFH8c0Hbx7s8fg1GQmoqGuRCvyO7OsagOwY5C7e5Nfg8/MwKGYRqoFWx0WCGET6a0y/Hh4lCtpy05AU6bcoJ8%2Bkim4bleFxhwW5kX2T8I89Z71mwOWTLG64ureU9bZardjSUooZNw2CVqtVPP/50UocOW/C/vJapGdHS2PK5F30t7dxceeNfD8MTUtQjAN15/6d9mZEn0QMT0/AOztPK2qtiW4Z7nmB5Y08gyWWakhPMOBb2TJiV7q81Ih4HKfQwUHuYSzB%2BeP%2B3hlgpSVGt7U4rslIRJRahZoGCz45VAEAmOxlRuCVEMfpvFVyCg3mVvSK1Slm6fji3rXR1viZjpKPrxiekdiujEugiN2iFxpdhUa9VWkOFnlByCGp8T6Dq1CjUqkUdcHEsVSdTRycL2Z1RvZNdA3SNrdKs%2BnaGocmz2AZfGSauoK3AOty2zfKbSyTPHvep0fbxyFvxMka%2B8svodVml4rmpvoYtN9V1GqVIst7ue5AX%2BsAHDXBxExpSoJeUX5FnMATq8hghc53hhwYYIUx8cctziL0lcESGbQaabxBbZPVOSMwsAFWtvPAK86omzKkd7sG77oPzvVV/%2BVKyAOsazJ8X812BnHWmjhTEejqAMuVwfInCxIK5DfJ9XVfwUBzL/A6sm%2BSYpC2OD6wvQGWvo3xYcGmUasUs1b1UerL/maHpClrpGX3SZL%2Bv0%2BS/91X4ozD/eW1qG4wwy44BnUnBymA9sc1fVzHjo4EWOJHLQgCnMlsaDVqxcWCGNDLLzT1XgJh6lrcI2EsIVqZ5blcgAUopyyPyEhEYkxgMxcj3bppvHVJeJMUrVUc5NsqEtlR8hOce42izqaP0iDBrRCsNqrrbnUhnwnqayZWqLpaNni/l5cyFJ1BHpCrVI7uIvE7Wn6xCa12ASqVq8vSG2%2BFRkOFPDvSVqkCkS5KrahpJi/ncSUZrEPn6lDuvDhLTfBvZmWwjAhUBkvWRahWKe8gIX628lIj3jKN1LW4R8KY%2B4/bvcq7N/IAK9Ddg4DjoCh2F6hVwA2Dfc86lFOrVYoCgHHtOMj7Sz7mKdgZLMCzJECodBGOdaulFerkA/%2BTY4OTwerbI1oKkAf1jkOcPgpxzpOfOPA6OU6PqDb2qcFLodFQIT95%2B6pm7k4eVMnHv7nfQLk9BiTHIjFaC3OrXZrl257jWVeQl7hI6EiAJY7BEgSpmrtarZKOm5k9o6WSMnF6ZrBCGfdIGJMHWInR2jYHpYrkt6y5thMCLMDVXTAuq4dfGTL5FVxnZLDkVaf794ptY8nOIQ8gVSplFfRgEwe594jRSuUpugt5ZftgZbBUKpU08FjM0ordN%2BJA78vVP1KOwQqtQ7O%2BAwGWWFMq3hCl%2BD253/uvPVQqlZTFeu1rxyy9UA2wBsluRdXQYm1jSe/EW3IJguu7o1GppGES8uy6Pkot1c3iGKzQE1q/YgqoBNnA5PZ0DwLAgF6xGJoWjz5J0ZjY3/tMuSt16wjH7B1/Z0fJC3y639cvEPKuSUOUWoUpV7dvXFigya/sdRp1UAfZuxuRkQiNWoVpw9O6dDs6IjlOj2HpCegZq/N6M%2BvOMt05K22Gc3an%2B0XA5TI3yjFYoXWylAdY7e2%2BvO6qXjBo1RiX1QMZSdFITzSgf68Yr3cPaA%2BxzIk4TrEjpSuCIUqjxk1DekOnUSO3nTMH5eRdhHapi1AlddXfKBtWoVKppO8ZuwhDD8s0hDF5Bqu9V3tqtQqbF18HQWjfWIuOuHNsH%2BQOS/V7fJd8JmGsPgpobGPhDsjsGYM9y3O7bMac/N6EXdk9CDimge/5TW6HxpCEgs2LJ8PSam9X1jZQ5k3ujzvH9fXafQPAo4aYu2i3Mg1NbSwbbDpFyZD2HRfSE6Ox6/FcxOg00GrUKPrvKVCrVB2%2BeLnn2ixMubo3miw2RGs16NcrdGs9/X3eBDS0tHZoDKtUyd2u7CL86YRM3DwsxSMrG6uLQn1LK7sIQxADrDAm/3G3N4MFdP4AW7HIoL8UXYSdFPz5us1PMAyVpf5D4Wq0R5DGL3UGfZQm6F0mKpVKkTV2z2BdbuKEwa1MQygFWP4OchfJA/RABLvebk4eijTqjh3jxNcCjlmEdtkgd8B7l7c40D3Usp7ELsKwJj/YpyUEr6uks8hLNXTGGKyuNkyWwbIJXio0UrfikcHq03aAFaplGoCOdRFSx8gHuYsBlqaNbnrxe9bVWW/yxD0SxuRXj/5ksEJVb8Ug9/A7yMvbJ7%2B5NHVP7vc6TLvMza4VXYQhNmC5I7MIqWNcldyh6CL0ReyyDbWgnBhghbWEDozBCmXyLsK4II6tCRaVSoWoEKzrQx0jnxyQkWi47GSB6BAu09CRWYTUMWIiyi4I0ixCdRvfHXG2KjNYoYd7JIwlygqNhkMGSznIPTwP8oN6x11%2BIep2stpR9kNRpiHEshEdHYNF/hOzVXa7ALszwmordhKHSzCDFXq4R8JYYrRrkHJqGARYyXGu%2B3GF4xgsABibldTVm0CdYGTm5e%2B3adCF7jgn%2Bck71LYt3CgKjcrKNPgiHgtDrVuZOIswrCXH6XDXhExE6zSKAe/dlVajxi%2BmDEJlXQsyEpV3lw8Xv54%2BDGcuNuOO0RldvSkUAL//STb%2BdbgCS2666rLL6qM0WHD9ADRZWtEzxGZwyruf2EXYucQB7XZ7%2B7oI7xzbBydrGnBrdlowNo/8wAArjKlUKjwza2RXb0ZAPTZ9KADAag3PQeCJMVq8/Z85Xb0ZFCA/y%2BmHn%2BX0a/fyT/x4OIDQ%2B37LM1idUeSXXKQuQgGyLkLfAdaE/j2xYdGkoGwb%2BYddhERE1Cb5GCwDA6xOJRUadbsXIXU/DLCIiKhNLNMQPMouQmWhUepeuiTAWrNmDfr37w%2BDwYCcnBzs3r27zeU3bdqEoUOHwmAwIDs7G1u2bFE8r1KpvP796U9/kpa5ePEi7r77biQkJCApKQkLFixAQ0NDp7SPiCicsExD8Li6CNtXaJRCV9ADrI0bN6KgoAArV67Evn37MGrUKOTl5aGqqsrr8jt27MDcuXOxYMEC7N%2B/H/n5%2BcjPz8fhw4elZSoqKhR/69atg0qlwqxZs6Rl7r77bhw5cgSFhYX45z//iS%2B//BKLFi3q9PYSEXV3yjIN7PjoTPJCo9Igd6awuqWg/1JWr16NhQsXYv78%2BRg%2BfDjWrl2LmJgYrFu3zuvyL7zwAqZPn45HH30Uw4YNw9NPP42xY8fi5ZdflpZJS0tT/H344Ye46aabMHDgQADA0aNHsXXrVvz9739HTk4Orr/%2Berz00kvYsGEDzp8/H5R2ExF1VzreKido5IVGpTFYzGB1S0GdRWixWLB3714sW7ZMekytViM3NxclJSVeX1NSUoKCggLFY3l5edi8ebPX5SsrK/HJJ5/gzTffVKwjKSkJ48ePlx7Lzc2FWq3Grl278JOf/MRjPWazGWazWfq3yWQC4JjdE2ozfMTtCbXt6kxsc%2BSIxHaHWpujVK57Y2pVQqdsV6i1OVg82u3sFmy12dBqszses9u6/efS3be/I4IaYNXU1MBmsyE1NVXxeGpqKo4dO%2Bb1NUaj0evyRqPR6/Jvvvkm4uPjceeddyrWkZKSolguKioKPXv29LmeVatW4cknn/R4/LPPPkNMTGje0b2wsLCrNyHo2ObIEYntDpU2l1apADgyV3t27cD5Q533XqHS5mAT232swvFZnz13Ho2tAKDGwYPfQnv%2BQBdu3ZVramrq6k0IurCrg7Vu3TrcfffdMBiurHL5smXLFJkzk8mEzMxMTJs2DQkJCVe6mQFltVpRWFiIW265BVpt9y8o2h5sc2S0GYjMdodam%2B0HK7C%2BzBFVTZt6I/r1DPxFZqi1OVjc231hZzneP3UMqWnpuNRkAeouYeyYMZjRzQuJir1AkSSoAVZycjI0Gg0qKysVj1dWViItzfuXJy0trd3Lf/XVVygtLcXGjRs91uE%2BiL61tRUXL170%2Bb56vR56vd7jca1WG7I//lDets7CNkeOSGx3qLQ5Wu%2BqLB8fo%2B/UbQqVNgeb2G6tVjwtqyAIjrFXOm1Ut/9Muvv2d0RQB7nrdDqMGzcORUVF0mN2ux1FRUWYNMl7JdpJkyYplgccqVRvy7/22msYN24cRo0a5bGO2tpa7N27V3rsiy%2B%2BgN1uR04Oq2YTEbVFXsmdZRo6l0Z2L0LWweregt5FWFBQgHnz5mH8%2BPGYOHEinn/%2BeTQ2NmL%2B/PkAgPvuuw99%2BvTBqlWrAAAPP/wwpkyZgueeew4zZ87Ehg0bsGfPHrz66quK9ZpMJmzatAnPPfecx3sOGzYM06dPx8KFC7F27VpYrVYsWbIEd911FzIyeM83IqK26DmLMGjEYMpub9/Nnil0BT3AmjNnDqqrq7FixQoYjUaMHj0aW7dulQayl5eXQ612/ZgnT56M9evXY/ny5Xj88ccxePBgbN68GSNGjFCsd8OGDRAEAXPnzvX6vu%2B88w6WLFmCm2%2B%2BGWq1GrNmzcKLL77YeQ0lIgoTYoCl1aig1bAOVmcSa17ZBKFd9yKk0NUlg9yXLFmCJUuWeH2uuLjY47HZs2dj9uzZba5z0aJFbRYO7dmzJ9avX%2B/XdhIRkavQKLNXnU%2B6VY4gKzTKDFa3xEsRIiJqU98e0YjRaTAsLbRmUIcjsQPHbufNnru7sCvTQEREgZUUo8M3j01FjJ4ZrM7mulUO70XY3THAIiKiy%2BoRq7v8QnTFNF5u9swEVvfELkIiIqIQoVa5Aix2EXZvDLCIiIhChLyL0JnA4izCbooBFhERUYhwdRFCVgerK7eIOooBFhERUYiQCo3Kuwg5yL1bYoBFREQUIqRCo%2Bwi7PYYYBEREYUIeaFRZrC6NwZYREREIUKaRch7EXZ7DLCIiIhChFjJ3SYIEATei7A7Y4BFREQUIjTe6mAxvuqWGGARERGFCKlMA%2B9F2O0xwCIiIgoRKrHQqOCaRcgxWN0TAywiIqIQ4cpguQqN8mbP3RMDLCIiohAhH4Ml3eyZZ%2BpuibuNiIgoRIjJKptdgN3u%2BH92EXZPDLCIiIhChOtehK46WCzT0D0xwCIiIgoR8ps921lotFtjgEVERBQixGRVq80um0XYddtDHccAi4iIKESI2apWZw0sgF2E3RUDLCIiohAhBlOtNleAxUKj3RMDLCIiohAhZrCs4hRCcAxWd8UAi4iIKESI2SrBlcBiodFuigEWERFRiPAWTLHQaPfE3UZERBQivA23Yhdh98QAi4iIKER4G9DOLsLuiQEWERFRiPDeRcgAqztigEVERBQi3LsDGVt1XwywiIiIQoT7gHYWGe2%2BGGARERGFCPeASsXxV90WAywiIqIQ4d5FyAHu3RcDLCIiohDhEWCxi7DbYoBFREQUIjy7CLtoQ%2BiKMcAiIiIKEe4JK2awui8GWERERCFCpVIpslYcg9V9McAiIiIKIfKgirMIu68uCbDWrFmD/v37w2AwICcnB7t3725z%2BU2bNmHo0KEwGAzIzs7Gli1bPJY5evQobr/9diQmJiI2NhYTJkxAeXm59PyNN97ovDJw/f3iF78IeNuIiIiuhLxyu4ZpkG4r6Ltu48aNKCgowMqVK7Fv3z6MGjUKeXl5qKqq8rr8jh07MHfuXCxYsAD79%2B9Hfn4%2B8vPzcfjwYWmZsrIyXH/99Rg6dCiKi4tx8OBBPPHEEzAYDIp1LVy4EBUVFdLfH//4x05tKxERkb/U7CIMC0EPsFavXo2FCxdi/vz5GD58ONauXYuYmBisW7fO6/IvvPACpk%2BfjkcffRTDhg3D008/jbFjx%2BLll1%2BWlvnNb36DGTNm4I9//CPGjBmDQYMG4fbbb0dKSopiXTExMUhLS5P%2BEhISOrWtRERE/mIXYXiICuabWSwW7N27F8uWLZMeU6vVyM3NRUlJidfXlJSUoKCgQPFYXl4eNm/eDACw2%2B345JNP8Ktf/Qp5eXnYv38/BgwYgGXLliE/P1/xunfeeQdvv/020tLScNttt%2BGJJ55ATEyM1/c1m80wm83Sv00mEwDAarXCarX62/ROJW5PqG1XZ2KbI0cktpttjhze2i3vIlSrwuMzCYc2%2BCuoAVZNTQ1sNhtSU1MVj6empuLYsWNeX2M0Gr0ubzQaAQBVVVVoaGjAM888g9/97nf4wx/%2BgK1bt%2BLOO%2B/Etm3bMGXKFADAz372M2RlZSEjIwMHDx7EY489htLSUrz//vte33fVqlV48sknPR7/7LPPfAZlXa2wsLCrNyHo2ObIEYntZpsjh7zdNqsGgCPIamlu8jruuLtpamrq6k0IuqAGWJ3BbrcDAO644w4sXboUADB69Gjs2LEDa9eulQKsRYsWSa/Jzs5Geno6br75ZpSVlWHQoEEe6122bJkic2YymZCZmYlp06aFXNei1WpFYWEhbrnlFmi12q7enKBgmyOjzUBktpttjow2A97b/dtvt6GpyZHxiY%2BLxYwZ13flJgaE2AsUSYIaYCUnJ0Oj0aCyslLxeGVlJdLS0ry%2BJi0trc3lk5OTERUVheHDhyuWGTZsGL7%2B%2Bmuf25KTkwMAOHHihNcAS6/XQ6/Xezyu1WpD9scfytvWWdjmyBGJ7WabI4e83Rq1a3i0Rq0Oi88jHNrgr6AOctfpdBg3bhyKioqkx%2Bx2O4qKijBp0iSvr5k0aZJiecCRShWX1%2Bl0mDBhAkpLSxXLfP/998jKyvK5LQcOHAAApKend6QpREREnUI%2Bi9D93oTUfQS9i7CgoADz5s3D%2BPHjMXHiRDz//PNobGzE/PnzAQD33Xcf%2BvTpg1WrVgEAHn74YUyZMgXPPfccZs6ciQ0bNmDPnj149dVXpXU%2B%2BuijmDNnDm644QbcdNNN2Lp1Kz7%2B%2BGMUFxcDcJRxWL9%2BPWbMmIFevXrh4MGDWLp0KW644QaMHDky2B8BERGRT/Lb46h5q5xuK%2BgB1pw5c1BdXY0VK1bAaDRi9OjR2Lp1qzSQvby8HGpZenTy5MlYv349li9fjscffxyDBw/G5s2bMWLECGmZn/zkJ1i7di1WrVqFhx56CEOGDMF7772H66939FvrdDp8/vnnUjCXmZmJWbNmYfny5cFtPBER0WXIs1YsNNp9dckg9yVLlmDJkiVenxOzTnKzZ8/G7Nmz21znAw88gAceeMDrc5mZmdi%2Bfbvf20lERBRsshwDuwi7McbGREREIUReaJQBVvfFAIuIiCiEKO9FyACru2KARUREFEKUGawu3BC6IgywiIiIQoiaXYRhgQEWERFRCGEXYXhggEVERBRCNJxFGBYYYBEREYUQRRchM1jdFgMsIiKiEKIoNMr4qttigEVERBRCFLfKYRdht8UAi4iIKIQobvbMLsJuiwEWERFRCFF2ETLA6q4YYBEREYUQRRchz9LdFncdERFRCGGh0fDAAIuIiCiEqDnIPSwwwCIiIgoh8tIMrOTefTHAIiIiCiHsIgwPDLCIiIhCiLKLsAs3hK4IAywiIqIQIi/NwC7C7osBFhERUQhRlmlggNVdMcAiIiIKIfJhV4yvui8GWERERCFEnsFiJffuiwEWERFRCJEHVewi7L4YYBEREYUQFcs0hAUGWERERCFEo5b/PwOs7ooBFhERUQjR8FY5YYEBFhERUQhRdhF24YbQFWGARUREFEJYaDQ8MMAiIiIKIewiDA8MsIiIiEKIstAoA6zuigEWERFRCFF2EXbhhtAV4a4jIiIKIfIuQhUzWN0WAywiIqIQouIg97DAAIuIiCiEKAqNMoPVbTHAIiIiCiHyoIrxVffFAIuIiCiEsIswPDDAIiIiCiHyoIoBVvfVJQHWmjVr0L9/fxgMBuTk5GD37t1tLr9p0yYMHToUBoMB2dnZ2LJli8cyR48exe23347ExETExsZiwoQJKC8vl55vaWnB4sWL0atXL8TFxWHWrFmorKwMeNuIiIiuBGcRhoegB1gbN25EQUEBVq5ciX379mHUqFHIy8tDVVWV1%2BV37NiBuXPnYsGCBdi/fz/y8/ORn5%2BPw4cPS8uUlZXh%2Buuvx9ChQ1FcXIyDBw/iiSeegMFgkJZZunQpPv74Y2zatAnbt2/H%2BfPnceedd3Z6e4mIiPwhLy7KQe7dV9ADrNWrV2PhwoWYP38%2Bhg8fjrVr1yImJgbr1q3zuvwLL7yA6dOn49FHH8WwYcPw9NNPY%2BzYsXj55ZelZX7zm99gxowZ%2BOMf/4gxY8Zg0KBBuP3225GSkgIAqKurw2uvvYbVq1dj6tSpGDduHF5//XXs2LEDO3fuDEq7iYiI2kPeK8hCo91XUHedxWLB3r17kZub69oAtRq5ubkoKSnx%2BpqSkhLF8gCQl5cnLW%2B32/HJJ5/g6quvRl5eHlJSUpCTk4PNmzdLy%2B/duxdWq1WxnqFDh6Jfv34%2B35eIiKgrsIswPEQF881qampgs9mQmpqqeDw1NRXHjh3z%2Bhqj0eh1eaPRCACoqqpCQ0MDnnnmGfzud7/DH/7wB2zduhV33nkntm3bhilTpsBoNEKn0yEpKcnnetyZzWaYzWbp3yaTCQBgtVphtVr9andnE7cn1LarM7HNkSMS2802Rw5v7RYEu2sBuz0sPpNwaIO/ghpgdQa73fFFvOOOO7B06VIAwOjRo7Fjxw6sXbsWU6ZM6dB6V61ahSeffNLj8c8%2B%2BwwxMTEd3%2BBOVFhY2NWbEHRsc%2BSIxHazzZFD3u5jFSoAGgDAoYPfQl9xoGs2KoCampq6ehOCLqgBVnJyMjQajcfsvcrKSqSlpXl9TVpaWpvLJycnIyoqCsOHD1csM2zYMHz99dfSOiwWC2praxVZrLbed9myZSgoKJD%2BbTKZkJmZiWnTpiEhIaF9DQ4Sq9WKwsJC3HLLLdBqtV29OUHBNkdGm4HIbDfbHBltBry3%2B9Kucrx3ytGrM2bMaMwYmd6VmxgQYi9QJAlqgKXT6TBu3DgUFRUhPz8fgCMDVVRUhCVLlnh9zaRJk1BUVIRHHnlEeqywsBCTJk2S1jlhwgSUlpYqXvf9998jKysLADBu3DhotVoUFRVh1qxZAIDS0lKUl5dL63Gn1%2Buh1%2Bs9HtdqtSH74w/lbessbHPkiMR2s82RQ95urdZ1atZpo8Li8wiHNvgr6F2EBQUFmDdvHsaPH4%2BJEyfi%2BeefR2NjI%2BbPnw8AuO%2B%2B%2B9CnTx%2BsWrUKAPDwww9jypQpeO655zBz5kxs2LABe/bswauvviqt89FHH8WcOXNwww034KabbsLWrVvx8ccfo7i4GACQmJiIBQsWoKCgAD179kRCQgIefPBBTJo0Cddee22wPwIiIiKfWKYhPAQ9wJozZw6qq6uxYsUKGI1GjB49Glu3bpUGspeXl0Otdk1unDx5MtavX4/ly5fj8ccfx%2BDBg7F582aMGDFCWuYnP/kJ1q5di1WrVuGhhx7CkCFD8N577%2BH666%2BXlvnzn/8MtVqNWbNmwWw2Iy8vD3/5y1%2BC13AiIqJ2UN6LkAFWd9Ulg9yXLFnis0tQzDrJzZ49G7Nnz25znQ888AAeeOABn88bDAasWbMGa9as8WtbiYiIgknNW%2BWEBZYwIyIiCiHymIrxVffFAIuIiCiEyLNWakZY3RYDLCIiohDCQe7hgQEWERFRCJEHWGoGWN0WAywiIqIQIr/Bs5pn6W6Lu46IiCiEsIswPDDAIiIiCiGKLkIOcu%2B2GGARERGFEMUsQmawui0GWERERCGEhUbDAwMsIiKiEKJRzCLswg2hK8IAi4iIKIQoK7kzwuquGGARERGFEHYRhgcGWERERCGEg9zDAwMsIiKiECJPWml4lu62uOuIiIhCiDxrpWIGq9tigEVERBRC5F2ErOTefTHAIiIiCiGKW%2BVwkHu3xQCLiIgohCi7CLtwQ%2BiKMMAiIiIKIRqWaQgLDLCIiIhCiGIWIVNY3RYDLCIiohAiLzTKWYTdFwMsIiKiEKLhIPewwACLiIgohChmETKD1W0xwCIiIgohatmZWcWzdLfFXUdERBRCWGg0PDDAIiIiCiEsNBoeGGARERGFEBYaDQ8MsIiIiEIIuwjDQ1RXbwARERG5JEVrMbZfEuINWnYRdmMMsIiIiEKIWq3Ce7%2BcDICFRrszBlhEREQhhoFV98cxWEREREQBxgCLiIiIKMAYYBEREREFGAMsIiIiogBjgEVEREQUYAywiIiIiAKsSwKsNWvWoH///jAYDMjJycHu3bvbXH7Tpk0YOnQoDAYDsrOzsWXLFsXz999/P1QqleJv%2BvTpimX69%2B/vscwzzzwT8LYRERERBT3A2rhxIwoKCrBy5Urs27cPo0aNQl5eHqqqqrwuv2PHDsydOxcLFizA/v37kZ%2Bfj/z8fBw%2BfFix3PTp01FRUSH9vfvuux7reuqppxTLPPjgg53SRiIiIopsQQ%2BwVq9ejYULF2L%2B/PkYPnw41q5di5iYGKxbt87r8i%2B88AKmT5%2BORx99FMOGDcPTTz%2BNsWPH4uWXX1Ysp9frkZaWJv316NHDY13x8fGKZWJjYzuljURERBTZglrJ3WKxYO/evVi2bJn0mFqtRm5uLkpKSry%2BpqSkBAUFBYrH8vLysHnzZsVjxcXFSElJQY8ePTB16lT87ne/Q69evRTLPPPMM3j66afRr18//OxnP8PSpUsRFeX9IzCbzTCbzdK/TSYTAMBqtcJqtba7zcEgbk%2BobVdnYpsjRyS2m22OHJHS7nBvnzdBDbBqampgs9mQmpqqeDw1NRXHjh3z%2Bhqj0eh1eaPRKP17%2BvTpuPPOOzFgwACUlZXh8ccfx6233oqSkhJoNBoAwEMPPYSxY8eiZ8%2Be2LFjB5YtW4aKigqsXr3a6/uuWrUKTz75pMfjn332GWJiYvxqd7AUFhZ29SYEHdscOSKx3Wxz5Aj3djc1NXX1JgRdWNyL8K677pL%2BPzs7GyNHjsSgQYNQXFyMm2%2B%2BGQAUWbCRI0dCp9Ph5z//OVatWgW9Xu%2BxzmXLlileYzKZkJmZiWnTpiEhIaETW%2BM/q9WKwsJC3HLLLdBqtV29OUHBNkdGm4HIbDfbHBltBiKn3WIvUCQJaoCVnJwMjUaDyspKxeOVlZVIS0vz%2Bpq0tDS/lgeAgQMHIjk5GSdOnJACLHc5OTlobW3FqVOnMGTIEI/n9Xq918BLq9WG7I8glLets7DNkSMS2802R45wb3c4t82XoA5y1%2Bl0GDduHIqKiqTH7HY7ioqKMGnSJK%2BvmTRpkmJ5wJFK9bU8AJw9exYXLlxAenq6z2UOHDgAtVqNlJQUP1tBRERE1LagdxEWFBRg3rx5GD9%2BPCZOnIjnn38ejY2NmD9/PgDgvvvuQ58%2BfbBq1SoAwMMPP4wpU6bgueeew8yZM7Fhwwbs2bMHr776KgCgoaEBTz75JGbNmoW0tDSUlZXhV7/6Fa666irk5eUBcAyU37VrF2666SbEx8ejpKQES5cuxT333ON1tiERERHRlQh6gDVnzhxUV1djxYoVMBqNGD16NLZu3SoNZC8vL4da7UqsTZ48GevXr8fy5cvx%2BOOPY/Dgwdi8eTNGjBgBANBoNDh48CDefPNN1NbWIiMjA9OmTcPTTz8tdfHp9Xps2LABv/3tb2E2mzFgwAAsXbrUY3YiERERUSB0ySD3JUuWYMmSJV6fKy4u9nhs9uzZmD17ttflo6Oj8emnn7b5fmPHjsXOnTv93k4iIiKijuC9CImIiIgCjAEWERERUYAxwCIiIiIKMAZYRERERAHGAIuIiIgowBhgEREREQUYAywiIiKiAGOARURERBRgDLCIiIiIAowBFhEREVGAdcmtcrojQRAAACaTqYu3xJPVakVTUxNMJhO0Wm1Xb05QsM2R0WYgMtvNNkdGm4HIabd47hTPpZGAAVY71dfXAwAyMzO7eEuIiIi6p/r6eiQmJnb1ZgSFSoikcPIK2O12nD9/HvHx8VCpVF29OQomkwmZmZk4c%2BYMEhISunpzgoJtjow2A5HZbrY5MtoMRE67BUFAfX09MjIyoFZHxugkZrDaSa1Wo2/fvl29GW1KSEgI6x%2BoN2xz5IjEdrPNkSMS2h0pmStRZISRREREREHEAIuIiIgowBhghQG9Xo%2BVK1dCr9d39aYEDdscOSKx3Wxz5IjUdkcCDnInIiIiCjBmsIiIiIgCjAEWERERUYAxwCIiIiIKMAZYRERERAHGAKubWLNmDfr37w%2BDwYCcnBzs3r27zeU3bdqEoUOHwmAwIDs7G1u2bAnSll65VatWYcKECYiPj0dKSgry8/NRWlra5mveeOMNqFQqxZ/BYAjSFgfGb3/7W482DB06tM3XdOf9DAD9%2B/f3aLNKpcLixYu9Lt8d9/OXX36J2267DRkZGVCpVNi8ebPieUEQsGLFCqSnpyM6Ohq5ubk4fvz4Zdfr7zEh2Npqt9VqxWOPPYbs7GzExsYiIyMD9913H86fP9/mOjvyGwmmy%2B3r%2B%2B%2B/32P7p0%2Bfftn1hvq%2BJu8YYHUDGzduREFBAVauXIl9%2B/Zh1KhRyMvLQ1VVldfld%2BzYgblz52LBggXYv38/8vPzkZ%2Bfj8OHDwd5yztm%2B/btWLx4MXbu3InCwkJYrVZMmzYNjY2Nbb4uISEBFRUV0t/p06eDtMWBc8011yja8PXXX/tctrvvZwD497//rWhvYWEhAGD27Nk%2BX9Pd9nNjYyNGjRqFNWvWeH3%2Bj3/8I1588UWsXbsWu3btQmxsLPLy8tDS0uJznf4eE7pCW%2B1uamrCvn378MQTT2Dfvn14//33UVpaittvv/2y6/XnNxJsl9vXADB9%2BnTF9r/77rttrrM77GvyQaCQN3HiRGHx4sXSv202m5CRkSGsWrXK6/I//elPhZkzZyoey8nJEX7%2B85936nZ2lqqqKgGAsH37dp/LvP7660JiYmLwNqoTrFy5Uhg1alS7lw%2B3/SwIgvDwww8LgwYNEux2u9fnu/t%2BBiB88MEH0r/tdruQlpYm/OlPf5Ieq62tFfR6vfDuu%2B/6XI%2B/x4Su5t5ub3bv3i0AEE6fPu1zGX9/I13JW5vnzZsn3HHHHX6tp7vta3JhBivEWSwW7N27F7m5udJjarUaubm5KCkp8fqakpISxfIAkJeX53P5UFdXVwcA6NmzZ5vLNTQ0ICsrC5mZmbjjjjtw5MiRYGxeQB0/fhwZGRkYOHAg7r77bpSXl/tcNtz2s8Viwdtvv40HHnigzRuqh8N%2BFp08eRJGo1GxHxMTE5GTk%2BNzP3bkmNAd1NXVQaVSISkpqc3l/PmNhKLi4mKkpKRgyJAh%2BOUvf4kLFy74XDZc93WkYIAV4mpqamCz2ZCamqp4PDU1FUaj0etrjEajX8uHMrvdjkceeQTXXXcdRowY4XO5IUOGYN26dfjwww/x9ttvw263Y/LkyTh79mwQt/bK5OTk4I033sDWrVvxyiuv4OTJk/jRj36E%2Bvp6r8uH034GgM2bN6O2thb333%2B/z2XCYT/LifvKn/3YkWNCqGtpacFjjz2GuXPntnnDY39/I6Fm%2BvTpeOutt1BUVIQ//OEP2L59O2699VbYbDavy4fjvo4kUV29AURtWbx4MQ4fPnzZcRaTJk3CpEmTpH9PnjwZw4YNw1//%2Blc8/fTTnb2ZAXHrrbdK/z9y5Ejk5OQgKysL//jHP7BgwYIu3LLgeO2113DrrbciIyPD5zLhsJ9JyWq14qc//SkEQcArr7zS5rLd/Tdy1113Sf%2BfnZ2NkSNHYtCgQSguLsbNN9/chVtGnYEZrBCXnJwMjUaDyspKxeOVlZVIS0vz%2Bpq0tDS/lg9VS5YswT//%2BU9s27YNffv29eu1Wq0WY8aMwYkTJzpp6zpfUlISrr76ap9tCJf9DACnT5/G559/jv/8z//063XdfT%2BL%2B8qf/diRY0KoEoOr06dPo7CwsM3slTeX%2B42EuoEDByI5Odnn9ofTvo5EDLBCnE6nw7hx41BUVCQ9ZrfbUVRUpLiSl5s0aZJieQAoLCz0uXyoEQQBS5YswQcffIAvvvgCAwYM8HsdNpsNhw4dQnp6eidsYXA0NDSgrKzMZxu6%2B36We/3115GSkoKZM2f69bruvp8HDBiAtLQ0xX40mUzYtWuXz/3YkWNCKBKDq%2BPHj%2BPzzz9Hr169/F7H5X4joe7s2bO4cOGCz%2B0Pl30dsbp6lD1d3oYNGwS9Xi%2B88cYbwnfffScsWrRISEpKEoxGoyAIgnDvvfcKv/71r6Xlv/nmGyEqKkp49tlnhaNHjworV64UtFqtcOjQoa5qgl9%2B%2BctfComJiUJxcbFQUVEh/TU1NUnLuLf5ySefFD799FOhrKxM2Lt3r3DXXXcJBoNBOHLkSFc0oUP%2B%2B7//WyguLhZOnjwpfPPNN0Jubq6QnJwsVFVVCYIQfvtZZLPZhH79%2BgmPPfaYx3PhsJ/r6%2BuF/fv3C/v37xcACKtXrxb2798vzZZ75plnhKSkJOHDDz8UDh48KNxxxx3CgAEDhObmZmkdU6dOFV566SXp35c7JoSCttptsViE22%2B/Xejbt69w4MABxe/cbDZL63Bv9%2BV%2BI12trTbX19cL//M//yOUlJQIJ0%2BeFD7//HNh7NixwuDBg4WWlhZpHd1xX5N3DLC6iZdeekno16%2BfoNPphIkTJwo7d%2B6UnpsyZYowb948xfL/%2BMc/hKuvvlrQ6XTCNddcI3zyySdB3uKOA%2BD17/XXX5eWcW/zI488In0%2BqampwowZM4R9%2B/YFf%2BOvwJw5c4T09HRBp9MJffr0EebMmSOcOHFCej7c9rPo008/FQAIpaWlHs%2BFw37etm2b1%2B%2Bz2C673S488cQTQmpqqqDX64Wbb77Z47PIysoSVq5cqXisrWNCKGir3SdPnvT5O9%2B2bZu0Dvd2X%2B430tXaanNTU5Mwbdo0oXfv3oJWqxWysrKEhQsXegRK3XFfk3cqQRCEICTKiIiIiCIGx2ARERERBRgDLCIiIqIAY4BFREREFGAMsIiIiIgCjAEWERERUYAxwCIiIiIKMAZYRERERAHGAIuIusz999%2BP/Pz8oL/vG2%2B8AZVKBZVKhUceeaRdr7n//vul12zevLlTt4%2BIur%2Bort4AIgpPKpWqzedXrlyJF154AV1V6zghIQGlpaWIjY1t1/IvvPACnnnmmW573zsiCi4GWETUKSoqKqT/37hxI1asWIHS0lLpsbi4OMTFxXXFpgFwBIBpaWntXj4xMRGJiYmduEVEFE7YRUhEnSItLU36S0xMlAIa8S8uLs6ji/DGG2/Egw8%2BiEceeQQ9evRAamoq/va3v6GxsRHz589HfHw8rrrqKvzrX/9SvNfhw4dx6623Ii4uDqmpqbj33ntRU1Pj9zb/5S9/weDBg2EwGJCamor/%2BI//uNKPgYgiFAMsIgopb775JpKTk7F79248%2BOCD%2BOUvf4nZs2dj8uTJ2LdvH6ZNm4Z7770XTU1NAIDa2lpMnToVY8aMwZ49e7B161ZUVlbipz/9qV/vu2fPHjz00EN46qmnUFpaiq1bt%2BKGG27ojCYSUQRgFyERhZRRo0Zh%2BfLlAIBly5bhmWeeQXJyMhYuXAgAWLFiBV555RUcPHgQ1157LV5%2B%2BWWMGTMGv//976V1rFu3DpmZmfj%2B%2B%2B9x9dVXt%2Bt9y8vLERsbix//%2BMeIj49HVlYWxowZE/gGElFEYAaLiELKyJEjpf/XaDTo1asXsrOzpcdSU1MBAFVVVQCAb7/9Ftu2bZPGdMXFxWHo0KEAgLKysna/7y233IKsrCwMHDgQ9957L9555x0pS0ZE5C8GWEQUUrRareLfKpVK8Zg4O9FutwMAGhoacNttt%2BHAgQOKv%2BPHj/vVxRcfH499%2B/bh3XffRXp6OlasWIFRo0ahtrb2yhtFRBGHXYRE1K2NHTsW7733Hvr374%2BoqCs7pEVFRSE3Nxe5ublYuXIlkpKS8MUXX%2BDOO%2B8M0NYSUaRgBouIurXFixfj4sWLmDt3Lv7973%2BjrKwMn376KebPnw%2Bbzdbu9fzzn//Eiy%2B%2BiAMHDuD06dN46623YLfbMWTIkE7ceiIKVwywiKhby8jIwDfffAObzYZp06YhOzsbjzzyCJKSkqBWt/8Ql5SUhPfffx9Tp07FsGHDsHbtWrz77ru45pprOnHriShcqYSuKqNMRNRF3njjDTzyyCMdGl%2BlUqnwwQcfdMktfoio%2B2AGi4giUl1dHeLi4vDYY4%2B1a/lf/OIXXVp5noi6F2awiCji1NfXo7KyEoCjazA5Ofmyr6mqqoLJZAIApKent/sehkQUmRhgEREREQXY/wfNTgpEdF3YWQAAAABJRU5ErkJggg%3D%3D"
     },
     "metadata": {
      "image/png": {
       "height": 400,
       "width": 600
      }
     },
     "output_type": "display_data"
    }
   ],
   "source": [
    "%plot --mode live\n",
    "from machine import ADC, Pin\n",
    "import time\n",
    "import matplotlib.pyplot as plt\n",
    "from functiongenerator import FuncGen, Sine, Triangle, DC\n",
    "\n",
    "adc = ADC(Pin(26))\n",
    "\n",
    "\n",
    "############### NEW METHOD ##################\n",
    "with FuncGen(Sine(Vpp=2, offset=0, freq=1)):\n",
    "    for _ in range(250):\n",
    "        value = adc.read_u16()*5.0354e-05\n",
    "        plt.liveplot(value)\n",
    "  \n"
   ]
  },
  {
   "cell_type": "markdown",
   "id": "3d8bba94",
   "metadata": {
    "kernel": "ALPACA - USB"
   },
   "source": [
    "> <font size=6>ℹ️</font>\n",
    ">\n",
    "> It might be wise to also *save* the data for later analysis:\n",
    "> ```python\n",
    "> with open('backup.txt', 'w+') as f:\n",
    ">    # Do measurement\n",
    ">    data_point = ...\n",
    ">    f.writelines(str(data_point))\n",
    "> ```\n",
    "\n"
   ]
  },
  {
   "cell_type": "code",
   "execution_count": null,
   "id": "d59e1118",
   "metadata": {},
   "outputs": [],
   "source": []
  },
  {
   "cell_type": "code",
   "execution_count": null,
   "id": "768022eb",
   "metadata": {},
   "outputs": [],
   "source": []
  },
  {
   "cell_type": "code",
   "execution_count": null,
   "id": "ac1004bc",
   "metadata": {},
   "outputs": [],
   "source": []
  }
 ],
 "metadata": {
  "celltoolbar": "Create Assignment",
  "kernelspec": {
   "display_name": "Alpaca Kernel",
   "language": "python",
   "name": "alpaca"
  },
  "language_info": {
   "codemirror_mode": {
    "name": "ipython",
    "version": 3
   },
   "file_extension": ".py",
   "mimetype": "text/x-python",
   "name": "python",
   "nbconvert_exporter": "python",
   "pygments_lexer": "ipython3",
   "version": "3.9.7"
  },
  "sos": {
   "kernels": [
    [
     "ALPACA - USB",
     "alpaca",
     "alpaca",
     "",
     "python"
    ],
    [
     "Python3",
     "python3",
     "Python3",
     "#FFD91A",
     ""
    ]
   ],
   "panel": {
    "displayed": true,
    "height": 0
   },
   "version": "0.22.3"
  },
  "toc": {
   "base_numbering": 1,
   "nav_menu": {},
   "number_sections": true,
   "sideBar": true,
   "skip_h1_title": false,
   "title_cell": "Table of Contents",
   "title_sidebar": "Contents",
   "toc_cell": false,
   "toc_position": {},
   "toc_section_display": true,
   "toc_window_display": false
  }
 },
 "nbformat": 4,
 "nbformat_minor": 5
}
