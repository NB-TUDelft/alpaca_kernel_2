{
 "cells": [
  {
   "cell_type": "markdown",
   "id": "584d6710",
   "metadata": {
    "kernel": "SoS",
    "nbgrader": {
     "grade": false,
     "grade_id": "cell-c562f6cc6e2ccb9e",
     "locked": true,
     "schema_version": 3,
     "solution": false,
     "task": false
    }
   },
   "source": [
    "# ALPACA Kernel & Updated ALPACA Firmware\n",
    "#### `matplotlib`, `numpy`, and live plotting\n",
    "\n",
    "This notebook outlines two new tools at your disposal for doing the final assignment:\n",
    "- New Jupyter Notebook Kernel: *The Alpaca Kernel*\n",
    "- Updated *Alpaca Firmware*\n",
    "\n",
    "After installing both tools, you'll be able to do the following things:\n",
    "\n",
    "## Features:\n",
    "\n",
    "### 1. Plotting data directly from the Alpaca\n",
    "**Before**, plotting data was done like so:\n",
    "```python\n",
    "%use micropython\n",
    "pico.store_data(\"general_data.txt\", samples=[xx, yy])\n",
    "\n",
    "%use micropython\n",
    "%fetchfile --binary \"general_data.txt\" \"data_picopiX.txt\"\n",
    "\n",
    "%use python3\n",
    "samples=np.loadtxt(\"data_picopiX.txt\")\n",
    "xx, yy = (samples[0,:], samples[1,:])\n",
    "plt.plot(xx, yy)\n",
    "```\n",
    "\n",
    "**Now**, plotting can be done *directly* from MicroPython **(NEW!)**:\n",
    "```python\n",
    "%use micropython\n",
    "plt.plot(xx,yy)\n",
    "```\n",
    "------------------\n",
    "\n",
    "### 2. Using `numpy` directly from the Alpaca\n",
    "**Before**, numpy wasn't available for MicroPython. This meant that lists had to be modified using `for` loops (slow and ugly):\n",
    "```python\n",
    "%use micropython\n",
    "my_list = [1, 2, 3]\n",
    "\n",
    "for ii in range(len(my_list)):\n",
    "    my_list[ii] = my_list[ii] * 3\n",
    "\n",
    "print(my_list)\n",
    "[3, 6, 9]\n",
    "```\n",
    "\n",
    "**Now**, `numpy` can be used *directly* from MicroPython **(NEW!)**:\n",
    "```python\n",
    "%use micropython\n",
    "import numpy as np\n",
    "my_array = np.array(my_list)\n",
    "my_array * 3\n",
    "\n",
    "print(my_array)\n",
    "array([3.0, 6.0, 9.0], dtype=float32)\n",
    "```\n",
    "------------------\n",
    "\n",
    "### 3. Live plotting\n",
    " **(NEW!)** Plot data as it comes in rather than after your measurement. This might be useful if you are performing a very long measurement and want to check if everthing is going alright.\n",
    "\n",
    "\n",
    "<div>\n",
    "<img src=\"resource\\asnlib\\public\\msedge_oRfTDroDwi.gif\" width=\"500\"/>\n",
    "</div>\n",
    "\n",
    "___________\n",
    "\n",
    "### Installing the kernel\n",
    "For now, the best way to install the ALPACA kernel is via the Anaconda Prompt:\n",
    "- Shut down Jupyter Notebook\n",
    "- `activate nb2211-2021`\n",
    "- `conda install -c twh alpaca_kernel`\n",
    "- `python -m alpaca_kernel.install`\n",
    "\n",
    "> <font size=6>ℹ️</font>\n",
    ">\n",
    "> During the installation, the command line will give the following\n",
    "prompt:\n",
    ">\n",
    "> `Proceed ([y]/n)?`\n",
    ">\n",
    "> Press `Y` , then press `Enter`.\n",
    "\n",
    "---------------\n",
    "### Installing the firmware\n",
    "The newest version of the ALPACA Firmware can be downloaded from [Brightspace](https://brightspace.tudelft.nl/d2l/le/content/401270/viewContent/2486660/View). The installation instructions are also available [here](https://brightspace.tudelft.nl/d2l/le/content/401270/viewContent/2486663/View).\n",
    "\n",
    "- Unplug all the cables going to the ALPACA\n",
    "- Download `Alpaca_firmware.uf2` from Brightspace.\n",
    "- Push and hold the BOOTSEL button and plug your ALPACA into the USB port of your PC. Release the BOOTSEL button only after your Alpaca is connected.\n",
    "- It will mount as a Mass Storage Device called RPI-RP2.\n",
    "- Drag and drop the Alpaca firmware.uf2 file onto the RPI-RP2 volume. Your ALPACA will reboot. \n",
    "\n",
    "> <font size=6>ℹ️</font>\n",
    ">\n",
    "> Make sure both USB cables are disconnected prior to re-connecting the ALPACA"
   ]
  },
  {
   "cell_type": "markdown",
   "id": "acb5aa07",
   "metadata": {},
   "source": [
    "## Feature 0: MicroPython Bypass"
   ]
  },
  {
   "cell_type": "code",
   "execution_count": 1,
   "id": "bd9e57d3",
   "metadata": {},
   "outputs": [
    {
     "data": {
      "image/jpeg": "[encoded data removed]",
      "text/html": [
       "\n",
       "        <iframe\n",
       "            width=\"600\"\n",
       "            height=\"450\"\n",
       "            src=\"https://www.youtube.com/embed/4O4Qf2TgXwU\"\n",
       "            frameborder=\"0\"\n",
       "            allowfullscreen\n",
       "            \n",
       "        ></iframe>\n",
       "        "
      ],
      "text/plain": [
       "<IPython.lib.display.YouTubeVideo at 0x16fe1060c70>"
      ]
     },
     "execution_count": 1,
     "metadata": {},
     "output_type": "execute_result"
    }
   ],
   "source": [
    "%python\n",
    "from IPython.lib.display import YouTubeVideo\n",
    "YouTubeVideo('4O4Qf2TgXwU', width = 600, height = 450)"
   ]
  },
  {
   "cell_type": "code",
   "execution_count": 1,
   "id": "33e74974",
   "metadata": {},
   "outputs": [
    {
     "name": "stderr",
     "output_type": "stream",
     "text": [
      "UsageError: Line magic function `%python` not found (But cell magic `%%python` exists, did you mean that instead?).\n"
     ]
    }
   ],
   "source": [
    "%python\n",
    "from ipywidgets import FileUpload\n",
    "from IPython.display import Image\n",
    "import os\n",
    "\n",
    "upload=FileUpload(accept='image/', multiple=False )\n",
    "upload"
   ]
  },
  {
   "cell_type": "code",
   "execution_count": 3,
   "id": "b94fde84",
   "metadata": {},
   "outputs": [
    {
     "ename": "NameError",
     "evalue": "name 'upload' is not defined",
     "output_type": "error",
     "traceback": [
      "\u001b[1;31m---------------------------------------------------------------------------\u001b[0m",
      "\u001b[1;31mNameError\u001b[0m                                 Traceback (most recent call last)",
      "Cell \u001b[1;32mIn[3], line 2\u001b[0m\n\u001b[0;32m      1\u001b[0m file_name\u001b[38;5;241m=\u001b[39m\u001b[38;5;124m\"\u001b[39m\u001b[38;5;124mtest_card.png\u001b[39m\u001b[38;5;124m\"\u001b[39m\n\u001b[1;32m----> 2\u001b[0m \u001b[38;5;28;01mif\u001b[39;00m upload\u001b[38;5;241m.\u001b[39mvalue:\n\u001b[0;32m      3\u001b[0m     \u001b[38;5;28;01mwith\u001b[39;00m \u001b[38;5;28mopen\u001b[39m(file_name,\u001b[38;5;124m\"\u001b[39m\u001b[38;5;124mwb\u001b[39m\u001b[38;5;124m\"\u001b[39m) \u001b[38;5;28;01mas\u001b[39;00m f:\n\u001b[0;32m      4\u001b[0m         f\u001b[38;5;241m.\u001b[39mwrite(upload\u001b[38;5;241m.\u001b[39mvalue[\u001b[38;5;241m-\u001b[39m\u001b[38;5;241m1\u001b[39m][\u001b[38;5;124m\"\u001b[39m\u001b[38;5;124mcontent\u001b[39m\u001b[38;5;124m\"\u001b[39m])  \u001b[38;5;66;03m# python 3.8 Kernel code, change kernel in Vocareum!\u001b[39;00m\n",
      "\u001b[1;31mNameError\u001b[0m: name 'upload' is not defined"
     ]
    }
   ],
   "source": [
    "%python\n",
    "file_name=\"test_card.png\"\n",
    "if upload.value:\n",
    "    with open(file_name,\"wb\") as f:\n",
    "        f.write(upload.value[-1][\"content\"])  # python 3.8 Kernel code, change kernel in Vocareum!\n",
    "Image(filename=file_name, width=\"50%\")"
   ]
  },
  {
   "cell_type": "code",
   "execution_count": 4,
   "id": "9e66cd9b",
   "metadata": {},
   "outputs": [
    {
     "name": "stdout",
     "output_type": "stream",
     "text": [
      "\u001b[31mNo serial connected\n",
      "\u001b[0m  %serialconnect to connect\n",
      "  %esptool to flash the device\n",
      "  %lsmagic to list commands"
     ]
    }
   ],
   "source": [
    "print(\"Test\")"
   ]
  },
  {
   "cell_type": "markdown",
   "id": "93452a51",
   "metadata": {
    "kernel": "SoS"
   },
   "source": [
    "## Feature 1: `numpy` built-in"
   ]
  },
  {
   "cell_type": "code",
   "execution_count": 5,
   "id": "8ec42ee8",
   "metadata": {
    "kernel": "ALPACA - USB"
   },
   "outputs": [
    {
     "name": "stdout",
     "output_type": "stream",
     "text": [
      "\u001b[34mConnecting to --port=COM5 --baud=115200 \u001b[0m\n",
      "\u001b[34mReady.\n",
      "\u001b[0m"
     ]
    }
   ],
   "source": [
    "%serialconnect --port=\"COM5\""
   ]
  },
  {
   "cell_type": "markdown",
   "id": "73bc717b",
   "metadata": {
    "kernel": "SoS"
   },
   "source": [
    "This makes managing arrays much nicer than bare Micropython:"
   ]
  },
  {
   "cell_type": "code",
   "execution_count": 5,
   "id": "c6702dfc",
   "metadata": {
    "kernel": "ALPACA - USB"
   },
   "outputs": [
    {
     "name": "stdout",
     "output_type": "stream",
     "text": [
      "f1 is larger than f2 from approx. x = 0.0 to x = 2.040816\r\n"
     ]
    }
   ],
   "source": [
    "import numpy as np\n",
    "\n",
    "xx = np.linspace(0, 10, 50)\n",
    "f1 = np.sin(xx)\n",
    "f2 = np.log(xx)\n",
    "\n",
    "f1_larger = xx[f1 > f2]\n",
    "print(f'f1 is larger than f2 from approx. x = {np.min(f1_larger)} to x = {np.max(f1_larger)}')\n"
   ]
  },
  {
   "cell_type": "code",
   "execution_count": 5,
   "id": "2052332f",
   "metadata": {
    "kernel": "ALPACA - USB"
   },
   "outputs": [
    {
     "name": "stdout",
     "output_type": "stream",
     "text": [
      "m:\n",
      " array([[1, 2, 3],\n",
      "       [4, 5, 6],\n",
      "       [7, 10, 9]], dtype=uint8)\n",
      "\n",
      "m^-1:\n",
      " array([[-1.25, 1.0, -0.25],\n",
      "       [0.5, -1.0, 0.5],\n",
      "       [0.4166666, 0.3333333, -0.25]], dtype=float32)\n",
      "\n",
      "m*m^-1:\n",
      " array([[1.0, 0.0, 0.0],\n",
      "       [-4.768372e-07, 1.0, 0.0],\n",
      "       [-9.536743e-07, 0.0, 1.0]], dtype=float32)\n"
     ]
    }
   ],
   "source": [
    "m = np.array([[1, 2, 3], [4, 5, 6], [7, 10, 9]], dtype=np.uint8)\n",
    "n = np.linalg.inv(m)\n",
    "print(\"m:\\n\", m)\n",
    "print(\"\\nm^-1:\\n\", n)\n",
    "# this should be the unit matrix\n",
    "print(\"\\nm*m^-1:\\n\", np.dot(m, n))"
   ]
  },
  {
   "cell_type": "markdown",
   "id": "680affb7",
   "metadata": {
    "kernel": "SoS"
   },
   "source": [
    "## Feature 2: `matplotlib` emulation\n",
    "The more popular functions from `matplotlib` are now availabe right on the ALPACA thanks to the new kernel. For now, only `pyplot` functions are supported, e.g. all the methods starting with `plt`. Saving files and transfering them to the PC is no longer needed. Faster feedback hopefully makes for a better user experience.\n",
    "\n",
    "Notes:\n",
    "- `plt` functions only work in a single cell and thus cannot span multiple cells."
   ]
  },
  {
   "cell_type": "code",
   "execution_count": null,
   "id": "24355c02",
   "metadata": {
    "kernel": "ALPACA - USB",
    "scrolled": false
   },
   "outputs": [],
   "source": [
    "import numpy as np\n",
    "import matplotlib.pyplot as plt\n",
    "\n",
    "xx = np.linspace(-5, 5, 50)\n",
    "f1 = np.sin(xx)\n",
    "f2 = np.log(xx)\n",
    "\n",
    "print(\"Printing something useful...\")\n",
    "plt.plot(xx, f1, label='$f_1 = sin(x)$')\n",
    "plt.plot(xx, f2, label='$f_2 = log(x)$')\n",
    "\n",
    "print(\"Printing more useful stuff...\")\n",
    "plt.xlabel('$x$')\n",
    "plt.ylabel('$y$')\n",
    "plt.title(\"Two functions plotted\")\n",
    "plt.grid()\n",
    "plt.legend()"
   ]
  },
  {
   "cell_type": "markdown",
   "id": "5bdc7abc",
   "metadata": {
    "kernel": "SoS"
   },
   "source": [
    "## Feature 3: Live plotting\n",
    "Most importantly for the final assignment, live plotting is now supported. Enabling live plotting can be done by adding the magic command `%plot --mode live` to the top of the code. This works similarly to Arduino: when enabled, the serial output is monitored for a specifically formatted string:\n",
    "\n",
    "> `LABEL0 number0 LABEL1 number1 ...`\n",
    "\n",
    "For example:\n",
    "> `analog0 0.197 analog1 0.109`\n",
    "\n",
    "The example was printed using the function:\n",
    "```python\n",
    "print('analog0',value0,'analog1',value1)\n",
    "```\n",
    "\n",
    "Incoming data is automatticaly stored and appended to older data. The x-axis of the plot is automatticaly labled with the time elapsed from the start of the code to the arrival of the data in the serial output.\n",
    "\n",
    "Notes:\n",
    "- Due to differences in caching, the live plot flickers when Jupyter Notebook is run in the Firefox browser. In this case, it is best to use the Edge browser instead."
   ]
  },
  {
   "cell_type": "markdown",
   "id": "0247d0bd",
   "metadata": {
    "kernel": "SoS"
   },
   "source": [
    "### Plotting one variable:"
   ]
  },
  {
   "cell_type": "code",
   "execution_count": null,
   "id": "3deabdd1",
   "metadata": {
    "kernel": "ALPACA - USB"
   },
   "outputs": [],
   "source": [
    "%serialconnect --port=\"COM5\""
   ]
  },
  {
   "cell_type": "code",
   "execution_count": null,
   "id": "d963dcf3",
   "metadata": {
    "kernel": "ALPACA - USB"
   },
   "outputs": [],
   "source": [
    "%plot --mode live\n",
    "from machine import ADC, Pin\n",
    "import time\n",
    "import matplotlib.pyplot as plt\n",
    "from functiongenerator import FuncGen, Sine, Triangle, DC\n",
    "\n",
    "adc = ADC(Pin(26))\n",
    "\n",
    "\n",
    "############### NEW METHOD ##################\n",
    "with FuncGen(Sine(Vpp=2, offset=0, freq=1)):\n",
    "    for _ in range(250):\n",
    "        value = adc.read_u16()*5.0354e-05\n",
    "        plt.liveplot(value)\n",
    "  \n"
   ]
  },
  {
   "cell_type": "markdown",
   "id": "3d8bba94",
   "metadata": {
    "kernel": "ALPACA - USB"
   },
   "source": [
    "> <font size=6>ℹ️</font>\n",
    ">\n",
    "> It might be wise to also *save* the data for later analysis:\n",
    "> ```python\n",
    "> with open('backup.txt', 'w+') as f:\n",
    ">    # Do measurement\n",
    ">    data_point = ...\n",
    ">    f.writelines(str(data_point))\n",
    "> ```\n",
    "\n"
   ]
  },
  {
   "cell_type": "code",
   "execution_count": null,
   "id": "89e2c576",
   "metadata": {},
   "outputs": [],
   "source": []
  },
  {
   "cell_type": "code",
   "execution_count": null,
   "id": "39a7ad7f",
   "metadata": {},
   "outputs": [],
   "source": []
  },
  {
   "cell_type": "code",
   "execution_count": null,
   "id": "b75c886b",
   "metadata": {},
   "outputs": [],
   "source": []
  }
 ],
 "metadata": {
  "celltoolbar": "Create Assignment",
  "kernelspec": {
   "display_name": "Python 3 (ipykernel)",
   "language": "python",
   "name": "python3"
  },
  "language_info": {
   "codemirror_mode": {
    "name": "ipython",
    "version": 3
   },
   "file_extension": ".py",
   "mimetype": "text/x-python",
   "name": "python",
   "nbconvert_exporter": "python",
   "pygments_lexer": "ipython3",
   "version": "3.9.7"
  },
  "sos": {
   "kernels": [
    [
     "ALPACA - USB",
     "alpaca",
     "alpaca",
     "",
     "python"
    ],
    [
     "Python3",
     "python3",
     "Python3",
     "#FFD91A",
     ""
    ]
   ],
   "panel": {
    "displayed": true,
    "height": 0
   },
   "version": "0.22.3"
  },
  "toc": {
   "base_numbering": 1,
   "nav_menu": {},
   "number_sections": true,
   "sideBar": true,
   "skip_h1_title": false,
   "title_cell": "Table of Contents",
   "title_sidebar": "Contents",
   "toc_cell": false,
   "toc_position": {},
   "toc_section_display": true,
   "toc_window_display": false
  }
 },
 "nbformat": 4,
 "nbformat_minor": 5
}
